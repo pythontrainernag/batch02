{
 "cells": [
  {
   "cell_type": "markdown",
   "id": "29c26eab",
   "metadata": {},
   "source": [
    "# List"
   ]
  },
  {
   "cell_type": "raw",
   "id": "375682d1",
   "metadata": {},
   "source": [
    "list is ordered group of elements/values/objects which encloses elements inside the square brackets. All elements are separated by comma. Also list is a heterogeneous data type"
   ]
  },
  {
   "cell_type": "code",
   "execution_count": 1,
   "id": "c6f198fc",
   "metadata": {},
   "outputs": [
    {
     "name": "stdout",
     "output_type": "stream",
     "text": [
      "[10, 'python', 20.8, 100]\n"
     ]
    }
   ],
   "source": [
    "a = [10, 'python', 20.8, 100]\n",
    "print(a)"
   ]
  },
  {
   "cell_type": "code",
   "execution_count": 2,
   "id": "852a7923",
   "metadata": {},
   "outputs": [
    {
     "name": "stdout",
     "output_type": "stream",
     "text": [
      "<class 'list'>\n"
     ]
    }
   ],
   "source": [
    "print(type(a))"
   ]
  },
  {
   "cell_type": "code",
   "execution_count": 3,
   "id": "447a7098",
   "metadata": {},
   "outputs": [
    {
     "name": "stdout",
     "output_type": "stream",
     "text": [
      "<class 'list'>\n",
      "[]\n"
     ]
    }
   ],
   "source": [
    "a = []\n",
    "print(type(a))\n",
    "print(a)"
   ]
  },
  {
   "cell_type": "code",
   "execution_count": 4,
   "id": "bbfd9128",
   "metadata": {},
   "outputs": [
    {
     "name": "stdout",
     "output_type": "stream",
     "text": [
      "False\n"
     ]
    }
   ],
   "source": [
    "print(bool([]))"
   ]
  },
  {
   "cell_type": "code",
   "execution_count": 5,
   "id": "6fdcc96e",
   "metadata": {},
   "outputs": [
    {
     "name": "stdout",
     "output_type": "stream",
     "text": [
      "True\n"
     ]
    }
   ],
   "source": [
    "print(bool([5]))"
   ]
  },
  {
   "cell_type": "code",
   "execution_count": 6,
   "id": "09af28c7",
   "metadata": {},
   "outputs": [
    {
     "name": "stdout",
     "output_type": "stream",
     "text": [
      "True\n"
     ]
    }
   ],
   "source": [
    "print(bool([None]))"
   ]
  },
  {
   "cell_type": "code",
   "execution_count": 7,
   "id": "23c6f002",
   "metadata": {},
   "outputs": [
    {
     "name": "stdout",
     "output_type": "stream",
     "text": [
      "False\n"
     ]
    }
   ],
   "source": [
    "print(bool(None))"
   ]
  },
  {
   "cell_type": "code",
   "execution_count": 8,
   "id": "1cb0e870",
   "metadata": {},
   "outputs": [
    {
     "name": "stdout",
     "output_type": "stream",
     "text": [
      "True\n"
     ]
    }
   ],
   "source": [
    "print(bool([0]))"
   ]
  },
  {
   "cell_type": "code",
   "execution_count": 9,
   "id": "0bdbb635",
   "metadata": {},
   "outputs": [
    {
     "ename": "TypeError",
     "evalue": "'int' object is not iterable",
     "output_type": "error",
     "traceback": [
      "\u001b[1;31m---------------------------------------------------------------------------\u001b[0m",
      "\u001b[1;31mTypeError\u001b[0m                                 Traceback (most recent call last)",
      "Input \u001b[1;32mIn [9]\u001b[0m, in \u001b[0;36m<cell line: 1>\u001b[1;34m()\u001b[0m\n\u001b[1;32m----> 1\u001b[0m \u001b[38;5;28mprint\u001b[39m(\u001b[38;5;28;43mlist\u001b[39;49m\u001b[43m(\u001b[49m\u001b[38;5;241;43m10\u001b[39;49m\u001b[43m)\u001b[49m)\n",
      "\u001b[1;31mTypeError\u001b[0m: 'int' object is not iterable"
     ]
    }
   ],
   "source": [
    "print(list(10))"
   ]
  },
  {
   "cell_type": "code",
   "execution_count": 10,
   "id": "25cc003a",
   "metadata": {},
   "outputs": [
    {
     "name": "stdout",
     "output_type": "stream",
     "text": [
      "[10, 20]\n"
     ]
    }
   ],
   "source": [
    "t = (10, 20)\n",
    "print(list(t))"
   ]
  },
  {
   "cell_type": "code",
   "execution_count": 14,
   "id": "d55a3193",
   "metadata": {},
   "outputs": [
    {
     "name": "stdout",
     "output_type": "stream",
     "text": [
      "Sunil\n"
     ]
    }
   ],
   "source": [
    "houses = [\"Nag\", \"Bharathi\", \"Tarun\", \"Sunil\"]\n",
    "print(houses[3])"
   ]
  },
  {
   "cell_type": "code",
   "execution_count": 15,
   "id": "d1cc17c0",
   "metadata": {},
   "outputs": [
    {
     "name": "stdout",
     "output_type": "stream",
     "text": [
      "Tarun\n"
     ]
    }
   ],
   "source": [
    "print(houses[2])"
   ]
  },
  {
   "cell_type": "code",
   "execution_count": 16,
   "id": "76edb4b7",
   "metadata": {},
   "outputs": [
    {
     "name": "stdout",
     "output_type": "stream",
     "text": [
      "Tarun\n"
     ]
    }
   ],
   "source": [
    "house_3_name = houses[2]\n",
    "print(house_3_name)"
   ]
  },
  {
   "cell_type": "code",
   "execution_count": 17,
   "id": "479612f8",
   "metadata": {},
   "outputs": [
    {
     "name": "stdout",
     "output_type": "stream",
     "text": [
      "Bharathi\n"
     ]
    }
   ],
   "source": [
    "print(houses[-3])"
   ]
  },
  {
   "cell_type": "code",
   "execution_count": 18,
   "id": "37e52233",
   "metadata": {},
   "outputs": [
    {
     "name": "stdout",
     "output_type": "stream",
     "text": [
      "['Nag', 'Bharathi', 'Tarun', 'Sunil']\n"
     ]
    }
   ],
   "source": [
    "print(houses)"
   ]
  },
  {
   "cell_type": "code",
   "execution_count": 19,
   "id": "00f78c50",
   "metadata": {},
   "outputs": [
    {
     "ename": "IndexError",
     "evalue": "list index out of range",
     "output_type": "error",
     "traceback": [
      "\u001b[1;31m---------------------------------------------------------------------------\u001b[0m",
      "\u001b[1;31mIndexError\u001b[0m                                Traceback (most recent call last)",
      "Input \u001b[1;32mIn [19]\u001b[0m, in \u001b[0;36m<cell line: 1>\u001b[1;34m()\u001b[0m\n\u001b[1;32m----> 1\u001b[0m \u001b[38;5;28mprint\u001b[39m(\u001b[43mhouses\u001b[49m\u001b[43m[\u001b[49m\u001b[38;5;241;43m-\u001b[39;49m\u001b[38;5;241;43m6\u001b[39;49m\u001b[43m]\u001b[49m)\n",
      "\u001b[1;31mIndexError\u001b[0m: list index out of range"
     ]
    }
   ],
   "source": [
    "print(houses[-6])"
   ]
  },
  {
   "cell_type": "code",
   "execution_count": 20,
   "id": "ece17e08",
   "metadata": {},
   "outputs": [
    {
     "name": "stdout",
     "output_type": "stream",
     "text": [
      "['Nag', 'Bharathi', 'Tarun', 'likhita']\n"
     ]
    }
   ],
   "source": [
    "houses[3] = \"likhita\"\n",
    "print(houses)"
   ]
  },
  {
   "cell_type": "code",
   "execution_count": 21,
   "id": "55027c8c",
   "metadata": {},
   "outputs": [],
   "source": [
    "veg = [\"tomato\", 60.5, \"cucumber\", 50, \"potato\", 60]"
   ]
  },
  {
   "cell_type": "markdown",
   "id": "3f6dcda6",
   "metadata": {},
   "source": [
    "# slicing"
   ]
  },
  {
   "cell_type": "raw",
   "id": "55de955f",
   "metadata": {},
   "source": [
    "1. starting index(default 0)\n",
    "2. end index(default ---> length of the list)\n",
    "3. step size(default 1)\n",
    "[SI:EI:SS]\n",
    "list slicing is used to get the multiple values at a time. The outcome of list slicing is always a list"
   ]
  },
  {
   "cell_type": "code",
   "execution_count": 22,
   "id": "384b178c",
   "metadata": {},
   "outputs": [
    {
     "name": "stdout",
     "output_type": "stream",
     "text": [
      "[60.5, 'potato']\n"
     ]
    }
   ],
   "source": [
    "print(veg[1:5:3])"
   ]
  },
  {
   "cell_type": "code",
   "execution_count": 23,
   "id": "1edd6918",
   "metadata": {},
   "outputs": [
    {
     "name": "stdout",
     "output_type": "stream",
     "text": [
      "['tomato', 60.5, 'cucumber', 50, 'potato', 60]\n"
     ]
    }
   ],
   "source": [
    "print(veg)"
   ]
  },
  {
   "cell_type": "code",
   "execution_count": 24,
   "id": "80a0f428",
   "metadata": {},
   "outputs": [
    {
     "name": "stdout",
     "output_type": "stream",
     "text": [
      "[60.5, 'cucumber', 50]\n"
     ]
    }
   ],
   "source": [
    "print(veg[1:4])"
   ]
  },
  {
   "cell_type": "code",
   "execution_count": 25,
   "id": "43de20e0",
   "metadata": {},
   "outputs": [
    {
     "name": "stdout",
     "output_type": "stream",
     "text": [
      "[60.5, 50, 60]\n"
     ]
    }
   ],
   "source": [
    "print(veg[1::2])"
   ]
  },
  {
   "cell_type": "code",
   "execution_count": 26,
   "id": "cc5383ff",
   "metadata": {},
   "outputs": [
    {
     "name": "stdout",
     "output_type": "stream",
     "text": [
      "['tomato', 'cucumber', 'potato']\n"
     ]
    }
   ],
   "source": [
    "print(veg[::2])"
   ]
  },
  {
   "cell_type": "code",
   "execution_count": 27,
   "id": "b7df0d7c",
   "metadata": {},
   "outputs": [
    {
     "name": "stdout",
     "output_type": "stream",
     "text": [
      "[60.5, 50, 60]\n"
     ]
    }
   ],
   "source": [
    "veg = [\"tomato\", 60.5, 100, \"cucumber\", 50, 190, \"potato\", 60, 500 ]\n",
    "print(veg[1::3])"
   ]
  },
  {
   "cell_type": "code",
   "execution_count": 28,
   "id": "7147e89b",
   "metadata": {},
   "outputs": [
    {
     "name": "stdout",
     "output_type": "stream",
     "text": [
      "[]\n"
     ]
    }
   ],
   "source": [
    "print(veg[5:2])"
   ]
  },
  {
   "cell_type": "code",
   "execution_count": 29,
   "id": "4d588a03",
   "metadata": {},
   "outputs": [
    {
     "name": "stdout",
     "output_type": "stream",
     "text": [
      "[190, 50, 'cucumber']\n"
     ]
    }
   ],
   "source": [
    "print(veg[5:2:-1])"
   ]
  },
  {
   "cell_type": "code",
   "execution_count": 30,
   "id": "03d924da",
   "metadata": {},
   "outputs": [
    {
     "name": "stdout",
     "output_type": "stream",
     "text": [
      "9\n"
     ]
    }
   ],
   "source": [
    "print(len(veg))"
   ]
  },
  {
   "cell_type": "code",
   "execution_count": 31,
   "id": "220029f5",
   "metadata": {},
   "outputs": [],
   "source": [
    "l = [10, 20, 30]"
   ]
  },
  {
   "cell_type": "raw",
   "id": "3a99b8e8",
   "metadata": {},
   "source": [
    "for <var> in <seq>:\n",
    "    st1\n",
    "    st2\n",
    "    |\n",
    "    |\n",
    "    st2\n",
    "for each element in the sequence, it executes all the statements\n",
    "it takes one by one element from sequence, assigns the element value to variable and the execute the statements"
   ]
  },
  {
   "cell_type": "code",
   "execution_count": 32,
   "id": "63075b8c",
   "metadata": {},
   "outputs": [
    {
     "name": "stdout",
     "output_type": "stream",
     "text": [
      "10\n",
      "12\n",
      "20\n",
      "22\n",
      "30\n",
      "32\n"
     ]
    }
   ],
   "source": [
    "for x in l:\n",
    "    print(x)\n",
    "    b = x+2\n",
    "    print(b)"
   ]
  },
  {
   "cell_type": "code",
   "execution_count": 1,
   "id": "786152d1",
   "metadata": {},
   "outputs": [],
   "source": [
    "veg = [\"tomato\", 60.5, 100, \"cucumber\", 50, 190, \"potato\", 60, 500 ]"
   ]
  },
  {
   "cell_type": "code",
   "execution_count": 13,
   "id": "91fa2409",
   "metadata": {},
   "outputs": [
    {
     "name": "stdout",
     "output_type": "stream",
     "text": [
      "[100, 190, 500]\n"
     ]
    }
   ],
   "source": [
    "total_quantity = 0\n",
    "quantities = veg[2::3]\n",
    "print(quantities)"
   ]
  },
  {
   "cell_type": "code",
   "execution_count": 14,
   "id": "1ba4498d",
   "metadata": {},
   "outputs": [],
   "source": [
    "for x in quantities:\n",
    "    total_quantity = total_quantity + x"
   ]
  },
  {
   "cell_type": "code",
   "execution_count": 15,
   "id": "49587ec0",
   "metadata": {},
   "outputs": [
    {
     "name": "stdout",
     "output_type": "stream",
     "text": [
      "790\n"
     ]
    }
   ],
   "source": [
    "print(total_quantity)"
   ]
  },
  {
   "cell_type": "code",
   "execution_count": 16,
   "id": "868e136d",
   "metadata": {},
   "outputs": [
    {
     "name": "stdout",
     "output_type": "stream",
     "text": [
      "0.79\n"
     ]
    }
   ],
   "source": [
    "total_quantity = total_quantity/1000\n",
    "print(total_quantity)"
   ]
  },
  {
   "cell_type": "markdown",
   "id": "e2e059d6",
   "metadata": {},
   "source": [
    "# range\n",
    "range is used to generate a special based on the values provided by us"
   ]
  },
  {
   "cell_type": "raw",
   "id": "af897935",
   "metadata": {},
   "source": [
    "we will having 3 arguments to the range function\n",
    "1. starting value(default value ---> 0)\n",
    "2. end value \n",
    "3. step size(step size default ----> 1)"
   ]
  },
  {
   "cell_type": "code",
   "execution_count": 17,
   "id": "0e5df54a",
   "metadata": {},
   "outputs": [
    {
     "name": "stdout",
     "output_type": "stream",
     "text": [
      "range(1, 10, 2)\n"
     ]
    }
   ],
   "source": [
    "l = range(1, 10, 2)\n",
    "print(l)"
   ]
  },
  {
   "cell_type": "code",
   "execution_count": 18,
   "id": "aaaa0c53",
   "metadata": {},
   "outputs": [
    {
     "name": "stdout",
     "output_type": "stream",
     "text": [
      "[1, 3, 5, 7, 9]\n"
     ]
    }
   ],
   "source": [
    "print(list(l))"
   ]
  },
  {
   "cell_type": "code",
   "execution_count": 19,
   "id": "2781b0db",
   "metadata": {},
   "outputs": [
    {
     "name": "stdout",
     "output_type": "stream",
     "text": [
      "0\n",
      "1\n",
      "2\n",
      "3\n",
      "4\n"
     ]
    }
   ],
   "source": [
    "for x in range(5):\n",
    "    print(x)"
   ]
  },
  {
   "cell_type": "code",
   "execution_count": 20,
   "id": "8f766442",
   "metadata": {},
   "outputs": [
    {
     "name": "stdout",
     "output_type": "stream",
     "text": [
      "5\n",
      "10\n",
      "15\n",
      "20\n",
      "25\n"
     ]
    }
   ],
   "source": [
    "for x in range(5, 26, 5):\n",
    "    print(x)"
   ]
  },
  {
   "cell_type": "code",
   "execution_count": 21,
   "id": "e53b616b",
   "metadata": {},
   "outputs": [
    {
     "name": "stdout",
     "output_type": "stream",
     "text": [
      "enter the total numbers: 6\n",
      "5\n",
      "10\n",
      "15\n",
      "20\n",
      "25\n",
      "30\n"
     ]
    }
   ],
   "source": [
    "val = int(input(\"enter the total numbers: \"))\n",
    "for x in range(5, 5*val+1, 5):\n",
    "    print(x)"
   ]
  },
  {
   "cell_type": "code",
   "execution_count": 22,
   "id": "3dac8e7a",
   "metadata": {},
   "outputs": [
    {
     "name": "stdout",
     "output_type": "stream",
     "text": [
      "enter the total numbers: 6\n",
      "5\n",
      "10\n",
      "15\n",
      "20\n",
      "25\n",
      "30\n"
     ]
    }
   ],
   "source": [
    "val = int(input(\"enter the total numbers: \"))\n",
    "for x in range(1, val+1):\n",
    "    print(x*5)"
   ]
  },
  {
   "cell_type": "code",
   "execution_count": 1,
   "id": "66fff83b",
   "metadata": {},
   "outputs": [
    {
     "name": "stdout",
     "output_type": "stream",
     "text": [
      "enter target value: 9\n",
      "2 7\n",
      "3 6\n",
      "4 5\n"
     ]
    }
   ],
   "source": [
    "l = [2, 9, 8, 7, 3, 4, 6, 5]\n",
    "target = int(input(\"enter target value: \"))\n",
    "le = len(l)\n",
    "i = 0\n",
    "while i < le-1:\n",
    "    j = i+1\n",
    "    while j < le:\n",
    "        if l[i]+l[j] == target:\n",
    "            print(l[i], l[j])\n",
    "        j += 1\n",
    "    i+=1\n"
   ]
  },
  {
   "cell_type": "code",
   "execution_count": 2,
   "id": "352e5566",
   "metadata": {},
   "outputs": [
    {
     "name": "stdout",
     "output_type": "stream",
     "text": [
      "enter target value: 9\n",
      "2 7\n",
      "7 2\n",
      "3 6\n",
      "4 5\n",
      "6 3\n"
     ]
    }
   ],
   "source": [
    "l = [2, 9, 8, 7, 3, 4, 6, 5]\n",
    "target = int(input(\"enter target value: \"))\n",
    "le = len(l)\n",
    "i = 0\n",
    "while i < le-1:\n",
    "    j = 0\n",
    "    while j < le:\n",
    "        if l[i]+l[j] == target:\n",
    "            print(l[i], l[j])\n",
    "        j += 1\n",
    "    i+=1\n"
   ]
  },
  {
   "cell_type": "code",
   "execution_count": 3,
   "id": "ffc661fc",
   "metadata": {},
   "outputs": [
    {
     "name": "stdout",
     "output_type": "stream",
     "text": [
      "enter target value: 9\n",
      "2 7\n",
      "7 2\n",
      "3 6\n",
      "4 5\n",
      "6 3\n",
      "5 4\n"
     ]
    }
   ],
   "source": [
    "l = [2, 9, 8, 7, 3, 4, 6, 5]\n",
    "target = int(input(\"enter target value: \"))\n",
    "for x in l:\n",
    "    for y in l:\n",
    "        if x+y == target:\n",
    "            print(x,y)"
   ]
  },
  {
   "cell_type": "code",
   "execution_count": 4,
   "id": "9f7f3766",
   "metadata": {},
   "outputs": [
    {
     "name": "stdout",
     "output_type": "stream",
     "text": [
      "enter target value: 9\n",
      "2 7\n",
      "7 2\n",
      "3 6\n",
      "4 5\n",
      "6 3\n",
      "5 4\n"
     ]
    }
   ],
   "source": [
    "l = [2, 9, 8, 7, 3, 4, 6, 5]\n",
    "target = int(input(\"enter target value: \"))\n",
    "le = len(l)\n",
    "i = 0\n",
    "while i < le:\n",
    "    j = 0\n",
    "    while j < le:\n",
    "        if l[i]+l[j] == target:\n",
    "            print(l[i], l[j])\n",
    "        j += 1\n",
    "    i+=1"
   ]
  },
  {
   "cell_type": "code",
   "execution_count": 5,
   "id": "4e230f23",
   "metadata": {},
   "outputs": [
    {
     "name": "stdout",
     "output_type": "stream",
     "text": [
      "enter target value: 9\n",
      "2 7\n",
      "3 6\n",
      "4 5\n"
     ]
    }
   ],
   "source": [
    "l = [2, 9, 8, 7, 3, 4, 6, 5]\n",
    "target = int(input(\"enter target value: \"))\n",
    "le = len(l)\n",
    "for x in range(le-1):#0, 8, 1 --- [0, 1, 2, 3, 4, 5, 6]\n",
    "    for y in range(x+1, le): # x = 0 --- [1, 2, 3, 4, 5, 6, 7]\n",
    "        if l[x]+l[y] == target:\n",
    "            print(l[x],l[y])"
   ]
  },
  {
   "cell_type": "markdown",
   "id": "57f9f1c0",
   "metadata": {},
   "source": [
    "# list comprehension"
   ]
  },
  {
   "cell_type": "raw",
   "id": "c0c8837a",
   "metadata": {},
   "source": [
    "list comprehension is similiar to for loop with minimal statements which can be written in a single line.\n",
    "the syntax for list comprehension is \n",
    "\n",
    "[st for <var> in seq if <condition>] -----> here condition is optional \n",
    "\n",
    "in the above syntax, for each element in the sequences it executes the statment\n",
    "if condition exists, statement will get executed only in condition satisfies\n",
    "\n",
    "The outcome of list comprehension is always a new list."
   ]
  },
  {
   "cell_type": "code",
   "execution_count": 1,
   "id": "924f3d89",
   "metadata": {},
   "outputs": [
    {
     "name": "stdout",
     "output_type": "stream",
     "text": [
      "4\n",
      "11\n",
      "10\n",
      "17\n",
      "19\n"
     ]
    }
   ],
   "source": [
    "l = [2, 9, 8, 15,17]\n",
    "for i in l:\n",
    "    print(i+2)"
   ]
  },
  {
   "cell_type": "code",
   "execution_count": 2,
   "id": "ad45c425",
   "metadata": {},
   "outputs": [
    {
     "name": "stdout",
     "output_type": "stream",
     "text": [
      "[4, 11, 10, 17, 19]\n"
     ]
    }
   ],
   "source": [
    "res = [i+2 for i in l]\n",
    "print(res)"
   ]
  },
  {
   "cell_type": "code",
   "execution_count": 3,
   "id": "b8702c51",
   "metadata": {},
   "outputs": [
    {
     "name": "stdout",
     "output_type": "stream",
     "text": [
      "[4, 11, 10, 17, 19]\n"
     ]
    }
   ],
   "source": [
    "print([i+2 for i in l])"
   ]
  },
  {
   "cell_type": "code",
   "execution_count": 6,
   "id": "ad018d6b",
   "metadata": {},
   "outputs": [],
   "source": [
    "res = [i+2 for i in l if i%2==0]"
   ]
  },
  {
   "cell_type": "code",
   "execution_count": 7,
   "id": "3a2aaa97",
   "metadata": {},
   "outputs": [
    {
     "name": "stdout",
     "output_type": "stream",
     "text": [
      "[4, 10]\n"
     ]
    }
   ],
   "source": [
    "print(res)"
   ]
  },
  {
   "cell_type": "markdown",
   "id": "c72566e3",
   "metadata": {},
   "source": [
    "# ternary operators\n",
    "we will executing one statement if condition satisfies other we will be executing alternative statement. But total code is written in a single line"
   ]
  },
  {
   "cell_type": "raw",
   "id": "d3733c02",
   "metadata": {},
   "source": [
    "<truestatement> if <condition> else <falsestatement>"
   ]
  },
  {
   "cell_type": "code",
   "execution_count": 8,
   "id": "10d7d574",
   "metadata": {},
   "outputs": [
    {
     "name": "stdout",
     "output_type": "stream",
     "text": [
      "positive\n"
     ]
    }
   ],
   "source": [
    "x = -5 \n",
    "res = \"positive\" if x < 0 else \"negative\"\n",
    "print(res)"
   ]
  },
  {
   "cell_type": "code",
   "execution_count": 9,
   "id": "f38b87dd",
   "metadata": {},
   "outputs": [
    {
     "name": "stdout",
     "output_type": "stream",
     "text": [
      "negative\n"
     ]
    }
   ],
   "source": [
    "res = \"neutral\" if x == 0 else \"positive\" if x > 0 else \"negative\"\n",
    "print(res)"
   ]
  },
  {
   "cell_type": "raw",
   "id": "078ebd73",
   "metadata": {},
   "source": [
    "[2, 5, 9, 10] -----> [6, 18]"
   ]
  },
  {
   "cell_type": "code",
   "execution_count": 12,
   "id": "dea952c1",
   "metadata": {},
   "outputs": [],
   "source": [
    "target = 9\n",
    "l = [2, 9, 8, 7, 3, 4, 6, 5]\n",
    "res = [ [x,y] for x in l for y in l if x+y==9]"
   ]
  },
  {
   "cell_type": "code",
   "execution_count": 13,
   "id": "94a0f312",
   "metadata": {},
   "outputs": [
    {
     "name": "stdout",
     "output_type": "stream",
     "text": [
      "[[2, 7], [7, 2], [3, 6], [4, 5], [6, 3], [5, 4]]\n"
     ]
    }
   ],
   "source": [
    "print(res)"
   ]
  },
  {
   "cell_type": "code",
   "execution_count": 14,
   "id": "957a5e5c",
   "metadata": {},
   "outputs": [
    {
     "name": "stdout",
     "output_type": "stream",
     "text": [
      "[[2, 7], [3, 6], [4, 5]]\n"
     ]
    }
   ],
   "source": [
    "target = 9\n",
    "l = [2, 9, 8, 7, 3, 4, 6, 5]\n",
    "le = len(l)\n",
    "res = [ [l[x],l[y]] for x in range(le-1) for y in range(x+1, le) if l[x]+l[y]==9]\n",
    "print(res)"
   ]
  },
  {
   "cell_type": "code",
   "execution_count": 15,
   "id": "a5589af0",
   "metadata": {},
   "outputs": [
    {
     "name": "stdout",
     "output_type": "stream",
     "text": [
      "[2, 7]\n"
     ]
    }
   ],
   "source": [
    "print(res[0])"
   ]
  },
  {
   "cell_type": "code",
   "execution_count": 16,
   "id": "b1134f5b",
   "metadata": {},
   "outputs": [
    {
     "name": "stdout",
     "output_type": "stream",
     "text": [
      "7\n"
     ]
    }
   ],
   "source": [
    "print(res[0][-1])"
   ]
  },
  {
   "cell_type": "code",
   "execution_count": 17,
   "id": "6f105ee5",
   "metadata": {},
   "outputs": [
    {
     "name": "stdout",
     "output_type": "stream",
     "text": [
      "[2, 7]\n",
      "[3, 6]\n",
      "[4, 5]\n"
     ]
    }
   ],
   "source": [
    "for x in res:\n",
    "    print(x)"
   ]
  },
  {
   "cell_type": "code",
   "execution_count": 18,
   "id": "21ce643f",
   "metadata": {},
   "outputs": [
    {
     "name": "stdout",
     "output_type": "stream",
     "text": [
      "2\n",
      "7\n",
      "3\n",
      "6\n",
      "4\n",
      "5\n"
     ]
    }
   ],
   "source": [
    "for x in res:\n",
    "    for y in x:\n",
    "        print(y)"
   ]
  },
  {
   "cell_type": "code",
   "execution_count": 19,
   "id": "556d0320",
   "metadata": {},
   "outputs": [
    {
     "ename": "TypeError",
     "evalue": "'int' object is not iterable",
     "output_type": "error",
     "traceback": [
      "\u001b[1;31m---------------------------------------------------------------------------\u001b[0m",
      "\u001b[1;31mTypeError\u001b[0m                                 Traceback (most recent call last)",
      "Input \u001b[1;32mIn [19]\u001b[0m, in \u001b[0;36m<cell line: 1>\u001b[1;34m()\u001b[0m\n\u001b[1;32m----> 1\u001b[0m \u001b[38;5;28;01mfor\u001b[39;00m x \u001b[38;5;129;01min\u001b[39;00m \u001b[38;5;241m1000\u001b[39m:\n\u001b[0;32m      2\u001b[0m     \u001b[38;5;28mprint\u001b[39m(x)\n",
      "\u001b[1;31mTypeError\u001b[0m: 'int' object is not iterable"
     ]
    }
   ],
   "source": [
    "for x in 1000:\n",
    "    print(x)"
   ]
  },
  {
   "cell_type": "code",
   "execution_count": 20,
   "id": "efc79761",
   "metadata": {},
   "outputs": [
    {
     "name": "stdout",
     "output_type": "stream",
     "text": [
      "[[12, 13, 14], [14, 15, 16], [20, 21, 22]]\n"
     ]
    }
   ],
   "source": [
    "a = [2, 3, 4]\n",
    "b = [10, 12, 18]\n",
    "res = [[x+y for x in a ] for y in b]\n",
    "print(res)#[[12, 13, 14], [14, 15, 16], [20, 21, 22]]\n",
    "# [x+y for x in a ] ---> [12, 13, 14]"
   ]
  },
  {
   "cell_type": "code",
   "execution_count": 21,
   "id": "d5e89f9f",
   "metadata": {},
   "outputs": [
    {
     "name": "stdout",
     "output_type": "stream",
     "text": [
      "[[12, 13, 14], [14, 15, 16], [20, 21, 22]]\n"
     ]
    }
   ],
   "source": [
    "print(res)"
   ]
  },
  {
   "cell_type": "code",
   "execution_count": 22,
   "id": "0ff9fdbe",
   "metadata": {},
   "outputs": [
    {
     "name": "stdout",
     "output_type": "stream",
     "text": [
      "[12, 13, 14, 14, 15, 16, 20, 21, 22]\n"
     ]
    }
   ],
   "source": [
    "res1 = [y for x in res for y in x]\n",
    "print(res1)"
   ]
  },
  {
   "cell_type": "code",
   "execution_count": null,
   "id": "042c1b56",
   "metadata": {},
   "outputs": [],
   "source": [
    "print([[ for y in range(x, x+)] for x in range(0, 9, 3)])"
   ]
  }
 ],
 "metadata": {
  "kernelspec": {
   "display_name": "Python 3 (ipykernel)",
   "language": "python",
   "name": "python3"
  },
  "language_info": {
   "codemirror_mode": {
    "name": "ipython",
    "version": 3
   },
   "file_extension": ".py",
   "mimetype": "text/x-python",
   "name": "python",
   "nbconvert_exporter": "python",
   "pygments_lexer": "ipython3",
   "version": "3.10.5"
  }
 },
 "nbformat": 4,
 "nbformat_minor": 5
}
