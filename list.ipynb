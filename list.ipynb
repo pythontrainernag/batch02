{
 "cells": [
  {
   "cell_type": "markdown",
   "id": "29c26eab",
   "metadata": {},
   "source": [
    "# List"
   ]
  },
  {
   "cell_type": "raw",
   "id": "375682d1",
   "metadata": {},
   "source": [
    "list is ordered group of elements/values/objects which encloses elements inside the square brackets. All elements are separated by comma. Also list is a heterogeneous data type.\n",
    "List uses mutable memory"
   ]
  },
  {
   "cell_type": "code",
   "execution_count": 1,
   "id": "c6f198fc",
   "metadata": {},
   "outputs": [
    {
     "name": "stdout",
     "output_type": "stream",
     "text": [
      "[10, 'python', 20.8, 100]\n"
     ]
    }
   ],
   "source": [
    "a = [10, 'python', 20.8, 100]\n",
    "print(a)"
   ]
  },
  {
   "cell_type": "code",
   "execution_count": 2,
   "id": "852a7923",
   "metadata": {},
   "outputs": [
    {
     "name": "stdout",
     "output_type": "stream",
     "text": [
      "<class 'list'>\n"
     ]
    }
   ],
   "source": [
    "print(type(a))"
   ]
  },
  {
   "cell_type": "code",
   "execution_count": 3,
   "id": "447a7098",
   "metadata": {},
   "outputs": [
    {
     "name": "stdout",
     "output_type": "stream",
     "text": [
      "<class 'list'>\n",
      "[]\n"
     ]
    }
   ],
   "source": [
    "a = []\n",
    "print(type(a))\n",
    "print(a)"
   ]
  },
  {
   "cell_type": "code",
   "execution_count": 4,
   "id": "bbfd9128",
   "metadata": {},
   "outputs": [
    {
     "name": "stdout",
     "output_type": "stream",
     "text": [
      "False\n"
     ]
    }
   ],
   "source": [
    "print(bool([]))"
   ]
  },
  {
   "cell_type": "code",
   "execution_count": 5,
   "id": "6fdcc96e",
   "metadata": {},
   "outputs": [
    {
     "name": "stdout",
     "output_type": "stream",
     "text": [
      "True\n"
     ]
    }
   ],
   "source": [
    "print(bool([5]))"
   ]
  },
  {
   "cell_type": "code",
   "execution_count": 6,
   "id": "09af28c7",
   "metadata": {},
   "outputs": [
    {
     "name": "stdout",
     "output_type": "stream",
     "text": [
      "True\n"
     ]
    }
   ],
   "source": [
    "print(bool([None]))"
   ]
  },
  {
   "cell_type": "code",
   "execution_count": 7,
   "id": "23c6f002",
   "metadata": {},
   "outputs": [
    {
     "name": "stdout",
     "output_type": "stream",
     "text": [
      "False\n"
     ]
    }
   ],
   "source": [
    "print(bool(None))"
   ]
  },
  {
   "cell_type": "code",
   "execution_count": 8,
   "id": "1cb0e870",
   "metadata": {},
   "outputs": [
    {
     "name": "stdout",
     "output_type": "stream",
     "text": [
      "True\n"
     ]
    }
   ],
   "source": [
    "print(bool([0]))"
   ]
  },
  {
   "cell_type": "code",
   "execution_count": 1,
   "id": "d5fc76d5",
   "metadata": {},
   "outputs": [
    {
     "name": "stdout",
     "output_type": "stream",
     "text": [
      "15\n"
     ]
    }
   ],
   "source": [
    "print(5+10)"
   ]
  },
  {
   "cell_type": "code",
   "execution_count": 2,
   "id": "6b5f0caa",
   "metadata": {},
   "outputs": [
    {
     "ename": "TypeError",
     "evalue": "unsupported operand type(s) for +: 'int' and 'str'",
     "output_type": "error",
     "traceback": [
      "\u001b[1;31m---------------------------------------------------------------------------\u001b[0m",
      "\u001b[1;31mTypeError\u001b[0m                                 Traceback (most recent call last)",
      "Input \u001b[1;32mIn [2]\u001b[0m, in \u001b[0;36m<cell line: 1>\u001b[1;34m()\u001b[0m\n\u001b[1;32m----> 1\u001b[0m \u001b[38;5;28mprint\u001b[39m(\u001b[38;5;241;43m5\u001b[39;49m\u001b[38;5;241;43m+\u001b[39;49m\u001b[38;5;124;43m'\u001b[39;49m\u001b[38;5;124;43m10\u001b[39;49m\u001b[38;5;124;43m'\u001b[39;49m)\n",
      "\u001b[1;31mTypeError\u001b[0m: unsupported operand type(s) for +: 'int' and 'str'"
     ]
    }
   ],
   "source": [
    "print(5+'10')"
   ]
  },
  {
   "cell_type": "code",
   "execution_count": 9,
   "id": "0bdbb635",
   "metadata": {},
   "outputs": [
    {
     "ename": "TypeError",
     "evalue": "'int' object is not iterable",
     "output_type": "error",
     "traceback": [
      "\u001b[1;31m---------------------------------------------------------------------------\u001b[0m",
      "\u001b[1;31mTypeError\u001b[0m                                 Traceback (most recent call last)",
      "Input \u001b[1;32mIn [9]\u001b[0m, in \u001b[0;36m<cell line: 1>\u001b[1;34m()\u001b[0m\n\u001b[1;32m----> 1\u001b[0m \u001b[38;5;28mprint\u001b[39m(\u001b[38;5;28;43mlist\u001b[39;49m\u001b[43m(\u001b[49m\u001b[38;5;241;43m10\u001b[39;49m\u001b[43m)\u001b[49m)\n",
      "\u001b[1;31mTypeError\u001b[0m: 'int' object is not iterable"
     ]
    }
   ],
   "source": [
    "print(list(10))"
   ]
  },
  {
   "cell_type": "code",
   "execution_count": 10,
   "id": "25cc003a",
   "metadata": {},
   "outputs": [
    {
     "name": "stdout",
     "output_type": "stream",
     "text": [
      "[10, 20]\n"
     ]
    }
   ],
   "source": [
    "t = (10, 20)\n",
    "print(list(t))"
   ]
  },
  {
   "cell_type": "code",
   "execution_count": 5,
   "id": "d55a3193",
   "metadata": {},
   "outputs": [
    {
     "name": "stdout",
     "output_type": "stream",
     "text": [
      "Sunil\n"
     ]
    }
   ],
   "source": [
    "houses = [\"Nag\", \"Bharathi\", \"Tarun\", \"Sunil\"]\n",
    "print(houses[3])"
   ]
  },
  {
   "cell_type": "code",
   "execution_count": 3,
   "id": "d841f89c",
   "metadata": {},
   "outputs": [
    {
     "name": "stdout",
     "output_type": "stream",
     "text": [
      "Bharathi\n"
     ]
    }
   ],
   "source": [
    "print([\"Nag\", \"Bharathi\", \"Tarun\", \"Sunil\"][1])"
   ]
  },
  {
   "cell_type": "code",
   "execution_count": 15,
   "id": "d1cc17c0",
   "metadata": {},
   "outputs": [
    {
     "name": "stdout",
     "output_type": "stream",
     "text": [
      "Tarun\n"
     ]
    }
   ],
   "source": [
    "print(houses[2])"
   ]
  },
  {
   "cell_type": "code",
   "execution_count": 16,
   "id": "76edb4b7",
   "metadata": {},
   "outputs": [
    {
     "name": "stdout",
     "output_type": "stream",
     "text": [
      "Tarun\n"
     ]
    }
   ],
   "source": [
    "house_3_name = houses[2]\n",
    "print(house_3_name)"
   ]
  },
  {
   "cell_type": "code",
   "execution_count": 17,
   "id": "479612f8",
   "metadata": {},
   "outputs": [
    {
     "name": "stdout",
     "output_type": "stream",
     "text": [
      "Bharathi\n"
     ]
    }
   ],
   "source": [
    "print(houses[-3])"
   ]
  },
  {
   "cell_type": "code",
   "execution_count": 7,
   "id": "37e52233",
   "metadata": {},
   "outputs": [
    {
     "name": "stdout",
     "output_type": "stream",
     "text": [
      "['Nag', 'Bharathi', 'Tarun', 'Sunil']\n"
     ]
    }
   ],
   "source": [
    "print(houses)"
   ]
  },
  {
   "cell_type": "code",
   "execution_count": 19,
   "id": "00f78c50",
   "metadata": {},
   "outputs": [
    {
     "ename": "IndexError",
     "evalue": "list index out of range",
     "output_type": "error",
     "traceback": [
      "\u001b[1;31m---------------------------------------------------------------------------\u001b[0m",
      "\u001b[1;31mIndexError\u001b[0m                                Traceback (most recent call last)",
      "Input \u001b[1;32mIn [19]\u001b[0m, in \u001b[0;36m<cell line: 1>\u001b[1;34m()\u001b[0m\n\u001b[1;32m----> 1\u001b[0m \u001b[38;5;28mprint\u001b[39m(\u001b[43mhouses\u001b[49m\u001b[43m[\u001b[49m\u001b[38;5;241;43m-\u001b[39;49m\u001b[38;5;241;43m6\u001b[39;49m\u001b[43m]\u001b[49m)\n",
      "\u001b[1;31mIndexError\u001b[0m: list index out of range"
     ]
    }
   ],
   "source": [
    "print(houses[-6])"
   ]
  },
  {
   "cell_type": "code",
   "execution_count": 8,
   "id": "40cba866",
   "metadata": {},
   "outputs": [
    {
     "name": "stdout",
     "output_type": "stream",
     "text": [
      "['Nag', 'Bharathi', 'Tarun', 'Sunil']\n"
     ]
    }
   ],
   "source": [
    "print(houses)"
   ]
  },
  {
   "cell_type": "code",
   "execution_count": 20,
   "id": "ece17e08",
   "metadata": {},
   "outputs": [
    {
     "name": "stdout",
     "output_type": "stream",
     "text": [
      "['Nag', 'Bharathi', 'Tarun', 'likhita']\n"
     ]
    }
   ],
   "source": [
    "houses[3] = \"likhita\"\n",
    "print(houses)"
   ]
  },
  {
   "cell_type": "code",
   "execution_count": 10,
   "id": "55027c8c",
   "metadata": {},
   "outputs": [],
   "source": [
    "veg = [\"tomato\", 60.5, \"cucumber\", 50, \"potato\", 60]"
   ]
  },
  {
   "cell_type": "markdown",
   "id": "3f6dcda6",
   "metadata": {},
   "source": [
    "# slicing"
   ]
  },
  {
   "cell_type": "raw",
   "id": "55de955f",
   "metadata": {},
   "source": [
    "1. starting index(default 0)\n",
    "2. end index(default ---> length of the list)\n",
    "3. step size(default 1)\n",
    "[SI:EI:SS]\n",
    "list slicing is used to get the multiple values at a time. The outcome of list slicing is always a list"
   ]
  },
  {
   "cell_type": "code",
   "execution_count": 11,
   "id": "7dcda616",
   "metadata": {},
   "outputs": [
    {
     "name": "stdout",
     "output_type": "stream",
     "text": [
      "[60.5, 50, 60]\n"
     ]
    }
   ],
   "source": [
    "print(veg[1::2])"
   ]
  },
  {
   "cell_type": "code",
   "execution_count": 12,
   "id": "9c5c1d2b",
   "metadata": {},
   "outputs": [
    {
     "name": "stdout",
     "output_type": "stream",
     "text": [
      "['tomato', 'cucumber', 'potato']\n"
     ]
    }
   ],
   "source": [
    "print(veg[::2])"
   ]
  },
  {
   "cell_type": "code",
   "execution_count": 13,
   "id": "d4b36350",
   "metadata": {},
   "outputs": [
    {
     "name": "stdout",
     "output_type": "stream",
     "text": [
      "['tomato', 60.5, 'cucumber', 50, 'potato', 60]\n"
     ]
    }
   ],
   "source": [
    "print(veg)"
   ]
  },
  {
   "cell_type": "code",
   "execution_count": 22,
   "id": "384b178c",
   "metadata": {},
   "outputs": [
    {
     "name": "stdout",
     "output_type": "stream",
     "text": [
      "[60.5, 'potato']\n"
     ]
    }
   ],
   "source": [
    "print(veg[1:5:3])"
   ]
  },
  {
   "cell_type": "code",
   "execution_count": 23,
   "id": "1edd6918",
   "metadata": {},
   "outputs": [
    {
     "name": "stdout",
     "output_type": "stream",
     "text": [
      "['tomato', 60.5, 'cucumber', 50, 'potato', 60]\n"
     ]
    }
   ],
   "source": [
    "print(veg)"
   ]
  },
  {
   "cell_type": "code",
   "execution_count": 14,
   "id": "80a0f428",
   "metadata": {},
   "outputs": [
    {
     "name": "stdout",
     "output_type": "stream",
     "text": [
      "[60.5, 'cucumber']\n"
     ]
    }
   ],
   "source": [
    "print(veg[1:3])"
   ]
  },
  {
   "cell_type": "code",
   "execution_count": 15,
   "id": "43de20e0",
   "metadata": {},
   "outputs": [
    {
     "name": "stdout",
     "output_type": "stream",
     "text": [
      "[60.5, 50, 60]\n"
     ]
    }
   ],
   "source": [
    "print(veg[1::2])"
   ]
  },
  {
   "cell_type": "code",
   "execution_count": 16,
   "id": "cc5383ff",
   "metadata": {},
   "outputs": [
    {
     "name": "stdout",
     "output_type": "stream",
     "text": [
      "['tomato', 'cucumber', 'potato']\n"
     ]
    }
   ],
   "source": [
    "print(veg[::2])"
   ]
  },
  {
   "cell_type": "code",
   "execution_count": 17,
   "id": "b7df0d7c",
   "metadata": {},
   "outputs": [
    {
     "name": "stdout",
     "output_type": "stream",
     "text": [
      "[60.5, 50, 60]\n"
     ]
    }
   ],
   "source": [
    "veg = [\"tomato\", 60.5, 100, \"cucumber\", 50, 190, \"potato\", 60, 500 ]\n",
    "print(veg[1::3])"
   ]
  },
  {
   "cell_type": "code",
   "execution_count": 18,
   "id": "7147e89b",
   "metadata": {},
   "outputs": [
    {
     "name": "stdout",
     "output_type": "stream",
     "text": [
      "[]\n"
     ]
    }
   ],
   "source": [
    "print(veg[5:2])"
   ]
  },
  {
   "cell_type": "code",
   "execution_count": 19,
   "id": "4d588a03",
   "metadata": {},
   "outputs": [
    {
     "name": "stdout",
     "output_type": "stream",
     "text": [
      "[190, 50, 'cucumber']\n"
     ]
    }
   ],
   "source": [
    "print(veg[5:2:-1])"
   ]
  },
  {
   "cell_type": "code",
   "execution_count": 30,
   "id": "03d924da",
   "metadata": {},
   "outputs": [
    {
     "name": "stdout",
     "output_type": "stream",
     "text": [
      "9\n"
     ]
    }
   ],
   "source": [
    "print(len(veg))"
   ]
  },
  {
   "cell_type": "code",
   "execution_count": 23,
   "id": "220029f5",
   "metadata": {},
   "outputs": [
    {
     "name": "stdout",
     "output_type": "stream",
     "text": [
      "[10, 100, 30, 200, 50]\n"
     ]
    }
   ],
   "source": [
    "l = [10, 20, 30, 40, 50]\n",
    "l[1::2]=[100, 200]\n",
    "print(l)"
   ]
  },
  {
   "cell_type": "raw",
   "id": "3a99b8e8",
   "metadata": {},
   "source": [
    "for <var> in <seq>:\n",
    "    st1\n",
    "    st2\n",
    "    |\n",
    "    |\n",
    "    stn\n",
    "for each element in the sequence, it executes all the statements\n",
    "it takes one by one element from sequence, assigns the element value to variable and the execute the statements"
   ]
  },
  {
   "cell_type": "code",
   "execution_count": 24,
   "id": "d8575126",
   "metadata": {},
   "outputs": [
    {
     "name": "stdout",
     "output_type": "stream",
     "text": [
      "10\n",
      "12\n",
      "100\n",
      "102\n",
      "30\n",
      "32\n",
      "200\n",
      "202\n",
      "50\n",
      "52\n"
     ]
    }
   ],
   "source": [
    "for x in l:\n",
    "    print(x)\n",
    "    b = x+2\n",
    "    print(b)"
   ]
  },
  {
   "cell_type": "code",
   "execution_count": 32,
   "id": "63075b8c",
   "metadata": {},
   "outputs": [
    {
     "name": "stdout",
     "output_type": "stream",
     "text": [
      "10\n",
      "12\n",
      "20\n",
      "22\n",
      "30\n",
      "32\n"
     ]
    }
   ],
   "source": [
    "for x in l:\n",
    "    print(x)\n",
    "    b = x+2\n",
    "    print(b)"
   ]
  },
  {
   "cell_type": "code",
   "execution_count": 25,
   "id": "786152d1",
   "metadata": {},
   "outputs": [],
   "source": [
    "veg = [\"tomato\", 60.5, 100, \"cucumber\", 50, 190, \"potato\", 60, 500 ]"
   ]
  },
  {
   "cell_type": "code",
   "execution_count": 27,
   "id": "4ab044da",
   "metadata": {},
   "outputs": [
    {
     "name": "stdout",
     "output_type": "stream",
     "text": [
      "stored quantity is 790\n",
      "Available space is 3710\n"
     ]
    }
   ],
   "source": [
    "total_capacity = 5000\n",
    "tolerance = 500\n",
    "quantities = veg[2::3]\n",
    "already_stored  = 0\n",
    "for x in quantities:\n",
    "    already_stored += x\n",
    "print(\"stored quantity is\", already_stored)\n",
    "available_space = total_capacity-already_stored-tolerance\n",
    "print(\"Available space is\", available_space)"
   ]
  },
  {
   "cell_type": "code",
   "execution_count": 13,
   "id": "91fa2409",
   "metadata": {},
   "outputs": [
    {
     "name": "stdout",
     "output_type": "stream",
     "text": [
      "[100, 190, 500]\n"
     ]
    }
   ],
   "source": [
    "total_quantity = 0\n",
    "quantities = veg[2::3]\n",
    "print(quantities)"
   ]
  },
  {
   "cell_type": "code",
   "execution_count": 14,
   "id": "1ba4498d",
   "metadata": {},
   "outputs": [],
   "source": [
    "for x in quantities:\n",
    "    total_quantity = total_quantity + x"
   ]
  },
  {
   "cell_type": "code",
   "execution_count": 15,
   "id": "49587ec0",
   "metadata": {},
   "outputs": [
    {
     "name": "stdout",
     "output_type": "stream",
     "text": [
      "790\n"
     ]
    }
   ],
   "source": [
    "print(total_quantity)"
   ]
  },
  {
   "cell_type": "code",
   "execution_count": 16,
   "id": "868e136d",
   "metadata": {},
   "outputs": [
    {
     "name": "stdout",
     "output_type": "stream",
     "text": [
      "0.79\n"
     ]
    }
   ],
   "source": [
    "total_quantity = total_quantity/1000\n",
    "print(total_quantity)"
   ]
  },
  {
   "cell_type": "markdown",
   "id": "e2e059d6",
   "metadata": {},
   "source": [
    "# range\n",
    "range is used to generate a special based on the values provided by us"
   ]
  },
  {
   "cell_type": "code",
   "execution_count": 28,
   "id": "ad6a4169",
   "metadata": {},
   "outputs": [
    {
     "ename": "TypeError",
     "evalue": "range expected at least 1 argument, got 0",
     "output_type": "error",
     "traceback": [
      "\u001b[1;31m---------------------------------------------------------------------------\u001b[0m",
      "\u001b[1;31mTypeError\u001b[0m                                 Traceback (most recent call last)",
      "Input \u001b[1;32mIn [28]\u001b[0m, in \u001b[0;36m<cell line: 1>\u001b[1;34m()\u001b[0m\n\u001b[1;32m----> 1\u001b[0m \u001b[38;5;28mprint\u001b[39m(\u001b[38;5;28;43mrange\u001b[39;49m\u001b[43m(\u001b[49m\u001b[43m)\u001b[49m)\n",
      "\u001b[1;31mTypeError\u001b[0m: range expected at least 1 argument, got 0"
     ]
    }
   ],
   "source": [
    "print(range())"
   ]
  },
  {
   "cell_type": "code",
   "execution_count": 29,
   "id": "b32e2a49",
   "metadata": {},
   "outputs": [
    {
     "name": "stdout",
     "output_type": "stream",
     "text": [
      "range(0, 4)\n"
     ]
    }
   ],
   "source": [
    "print(range(4))"
   ]
  },
  {
   "cell_type": "code",
   "execution_count": 30,
   "id": "cfe7b206",
   "metadata": {},
   "outputs": [
    {
     "name": "stdout",
     "output_type": "stream",
     "text": [
      "[0, 1, 2, 3]\n"
     ]
    }
   ],
   "source": [
    "print(list(range(4)))"
   ]
  },
  {
   "cell_type": "code",
   "execution_count": 31,
   "id": "4edae30d",
   "metadata": {},
   "outputs": [
    {
     "name": "stdout",
     "output_type": "stream",
     "text": [
      "[1, 2, 3]\n"
     ]
    }
   ],
   "source": [
    "print(list(range(1, 4)))"
   ]
  },
  {
   "cell_type": "code",
   "execution_count": 32,
   "id": "b806ef76",
   "metadata": {},
   "outputs": [
    {
     "name": "stdout",
     "output_type": "stream",
     "text": [
      "[1, 3]\n"
     ]
    }
   ],
   "source": [
    "print(list(range(1, 4, 2)))"
   ]
  },
  {
   "cell_type": "raw",
   "id": "af897935",
   "metadata": {},
   "source": [
    "we will having 3 arguments to the range function\n",
    "1. starting value(default value ---> 0)\n",
    "2. end value \n",
    "3. step size(step size default ----> 1)"
   ]
  },
  {
   "cell_type": "code",
   "execution_count": 33,
   "id": "0e5df54a",
   "metadata": {},
   "outputs": [
    {
     "name": "stdout",
     "output_type": "stream",
     "text": [
      "range(1, 10, 2)\n",
      "<class 'range'>\n"
     ]
    }
   ],
   "source": [
    "l = range(1, 10, 2)\n",
    "print(l)\n",
    "print(type(l))"
   ]
  },
  {
   "cell_type": "code",
   "execution_count": 18,
   "id": "aaaa0c53",
   "metadata": {},
   "outputs": [
    {
     "name": "stdout",
     "output_type": "stream",
     "text": [
      "[1, 3, 5, 7, 9]\n"
     ]
    }
   ],
   "source": [
    "print(list(l))"
   ]
  },
  {
   "cell_type": "code",
   "execution_count": 19,
   "id": "2781b0db",
   "metadata": {},
   "outputs": [
    {
     "name": "stdout",
     "output_type": "stream",
     "text": [
      "0\n",
      "1\n",
      "2\n",
      "3\n",
      "4\n"
     ]
    }
   ],
   "source": [
    "for x in range(5):\n",
    "    print(x)"
   ]
  },
  {
   "cell_type": "code",
   "execution_count": 20,
   "id": "8f766442",
   "metadata": {},
   "outputs": [
    {
     "name": "stdout",
     "output_type": "stream",
     "text": [
      "5\n",
      "10\n",
      "15\n",
      "20\n",
      "25\n"
     ]
    }
   ],
   "source": [
    "for x in range(5, 26, 5):\n",
    "    print(x)"
   ]
  },
  {
   "cell_type": "code",
   "execution_count": 34,
   "id": "795bcdd9",
   "metadata": {},
   "outputs": [
    {
     "name": "stdout",
     "output_type": "stream",
     "text": [
      "enter how many numbers 5\n",
      "5\n",
      "10\n",
      "15\n",
      "20\n",
      "25\n"
     ]
    }
   ],
   "source": [
    "num = int(input(\"enter how many numbers \"))\n",
    "for i in range(5, (5*num)+1, 5):\n",
    "    print(i)"
   ]
  },
  {
   "cell_type": "code",
   "execution_count": 35,
   "id": "23ec9878",
   "metadata": {},
   "outputs": [
    {
     "name": "stdout",
     "output_type": "stream",
     "text": [
      "enter how many numbers 5\n",
      "5\n",
      "10\n",
      "15\n",
      "20\n",
      "25\n"
     ]
    }
   ],
   "source": [
    "num = int(input(\"enter how many numbers \"))\n",
    "for i in range(1, num+1):\n",
    "    print(i*5)"
   ]
  },
  {
   "cell_type": "code",
   "execution_count": 21,
   "id": "e53b616b",
   "metadata": {},
   "outputs": [
    {
     "name": "stdout",
     "output_type": "stream",
     "text": [
      "enter the total numbers: 6\n",
      "5\n",
      "10\n",
      "15\n",
      "20\n",
      "25\n",
      "30\n"
     ]
    }
   ],
   "source": [
    "val = int(input(\"enter the total numbers: \"))\n",
    "for x in range(5, 5*val+1, 5):\n",
    "    print(x)"
   ]
  },
  {
   "cell_type": "code",
   "execution_count": 22,
   "id": "3dac8e7a",
   "metadata": {},
   "outputs": [
    {
     "name": "stdout",
     "output_type": "stream",
     "text": [
      "enter the total numbers: 6\n",
      "5\n",
      "10\n",
      "15\n",
      "20\n",
      "25\n",
      "30\n"
     ]
    }
   ],
   "source": [
    "val = int(input(\"enter the total numbers: \"))\n",
    "for x in range(1, val+1):\n",
    "    print(x*5)"
   ]
  },
  {
   "cell_type": "code",
   "execution_count": 36,
   "id": "a01f6eb3",
   "metadata": {},
   "outputs": [
    {
     "name": "stdout",
     "output_type": "stream",
     "text": [
      "2 7\n",
      "7 2\n",
      "3 6\n",
      "4 5\n",
      "6 3\n",
      "5 4\n"
     ]
    }
   ],
   "source": [
    "l = [2, 9, 8, 7, 3, 4, 6, 5]\n",
    "for x in l:\n",
    "    for y in l:\n",
    "        if x+y == 9:\n",
    "            print(x,y)"
   ]
  },
  {
   "cell_type": "code",
   "execution_count": 39,
   "id": "b31d84a2",
   "metadata": {},
   "outputs": [
    {
     "name": "stdout",
     "output_type": "stream",
     "text": [
      "2 7\n",
      "3 6\n",
      "4 5\n"
     ]
    }
   ],
   "source": [
    "l = [2, 9, 8, 7, 3, 4, 6, 5]\n",
    "le = len(l)\n",
    "for x in range(le-1):\n",
    "    for y in range(x+1, le):\n",
    "        if l[x]+l[y] == 9:\n",
    "            print(l[x],l[y])"
   ]
  },
  {
   "cell_type": "code",
   "execution_count": 38,
   "id": "d16238eb",
   "metadata": {},
   "outputs": [
    {
     "name": "stdout",
     "output_type": "stream",
     "text": [
      "enter target value: 10\n",
      "2 8\n",
      "7 3\n",
      "4 6\n"
     ]
    }
   ],
   "source": [
    "l = [2, 9, 8, 7, 3, 4, 6, 5]\n",
    "target = int(input(\"enter target value: \"))\n",
    "le = len(l)\n",
    "for x in range(le):\n",
    "    for y in range(x+1, le):\n",
    "        if l[x]+l[y] == target:\n",
    "            print(l[x],l[y])"
   ]
  },
  {
   "cell_type": "code",
   "execution_count": 1,
   "id": "66fff83b",
   "metadata": {},
   "outputs": [
    {
     "name": "stdout",
     "output_type": "stream",
     "text": [
      "enter target value: 9\n",
      "2 7\n",
      "3 6\n",
      "4 5\n"
     ]
    }
   ],
   "source": [
    "l = [2, 9, 8, 7, 3, 4, 6, 5]\n",
    "target = int(input(\"enter target value: \"))\n",
    "le = len(l)\n",
    "i = 0\n",
    "while i < le-1:\n",
    "    j = i+1\n",
    "    while j < le:\n",
    "        if l[i]+l[j] == target:\n",
    "            print(l[i], l[j])\n",
    "        j += 1\n",
    "    i+=1\n"
   ]
  },
  {
   "cell_type": "code",
   "execution_count": 2,
   "id": "352e5566",
   "metadata": {},
   "outputs": [
    {
     "name": "stdout",
     "output_type": "stream",
     "text": [
      "enter target value: 9\n",
      "2 7\n",
      "7 2\n",
      "3 6\n",
      "4 5\n",
      "6 3\n"
     ]
    }
   ],
   "source": [
    "l = [2, 9, 8, 7, 3, 4, 6, 5]\n",
    "target = int(input(\"enter target value: \"))\n",
    "le = len(l)\n",
    "i = 0\n",
    "while i < le-1:\n",
    "    j = 0\n",
    "    while j < le:\n",
    "        if l[i]+l[j] == target:\n",
    "            print(l[i], l[j])\n",
    "        j += 1\n",
    "    i+=1\n"
   ]
  },
  {
   "cell_type": "code",
   "execution_count": 3,
   "id": "ffc661fc",
   "metadata": {},
   "outputs": [
    {
     "name": "stdout",
     "output_type": "stream",
     "text": [
      "enter target value: 9\n",
      "2 7\n",
      "7 2\n",
      "3 6\n",
      "4 5\n",
      "6 3\n",
      "5 4\n"
     ]
    }
   ],
   "source": [
    "l = [2, 9, 8, 7, 3, 4, 6, 5]\n",
    "target = int(input(\"enter target value: \"))\n",
    "for x in l:\n",
    "    for y in l:\n",
    "        if x+y == target:\n",
    "            print(x,y)"
   ]
  },
  {
   "cell_type": "code",
   "execution_count": 4,
   "id": "9f7f3766",
   "metadata": {},
   "outputs": [
    {
     "name": "stdout",
     "output_type": "stream",
     "text": [
      "enter target value: 9\n",
      "2 7\n",
      "7 2\n",
      "3 6\n",
      "4 5\n",
      "6 3\n",
      "5 4\n"
     ]
    }
   ],
   "source": [
    "l = [2, 9, 8, 7, 3, 4, 6, 5]\n",
    "target = int(input(\"enter target value: \"))\n",
    "le = len(l)\n",
    "i = 0\n",
    "while i < le:\n",
    "    j = 0\n",
    "    while j < le:\n",
    "        if l[i]+l[j] == target:\n",
    "            print(l[i], l[j])\n",
    "        j += 1\n",
    "    i+=1"
   ]
  },
  {
   "cell_type": "code",
   "execution_count": 5,
   "id": "4e230f23",
   "metadata": {},
   "outputs": [
    {
     "name": "stdout",
     "output_type": "stream",
     "text": [
      "enter target value: 9\n",
      "2 7\n",
      "3 6\n",
      "4 5\n"
     ]
    }
   ],
   "source": [
    "l = [2, 9, 8, 7, 3, 4, 6, 5]\n",
    "target = int(input(\"enter target value: \"))\n",
    "le = len(l)\n",
    "for x in range(le-1):#0, 8, 1 --- [0, 1, 2, 3, 4, 5, 6]\n",
    "    for y in range(x+1, le): # x = 0 --- [1, 2, 3, 4, 5, 6, 7]\n",
    "        if l[x]+l[y] == target:\n",
    "            print(l[x],l[y])"
   ]
  },
  {
   "cell_type": "markdown",
   "id": "9fc9673b",
   "metadata": {},
   "source": [
    "# list comprehension"
   ]
  },
  {
   "cell_type": "raw",
   "id": "1e3e4775",
   "metadata": {},
   "source": [
    "list comprehension is similiar to for loop with minimal statements which can be written in a single line.\n",
    "the syntax for list comprehension is \n",
    "\n",
    "[st for <var> in seq if <condition>] -----> here condition is optional \n",
    "\n",
    "in the above syntax, for each element in the sequences it executes the statment\n",
    "if condition exists, statement will get executed only in condition satisfies\n",
    "\n",
    "The outcome of list comprehension is always a new list."
   ]
  },
  {
   "cell_type": "code",
   "execution_count": 40,
   "id": "d5e7d518",
   "metadata": {},
   "outputs": [
    {
     "name": "stdout",
     "output_type": "stream",
     "text": [
      "4\n",
      "11\n",
      "10\n",
      "17\n",
      "19\n"
     ]
    }
   ],
   "source": [
    "l = [2, 9, 8, 15,17]\n",
    "for i in l:\n",
    "    print(i+2)"
   ]
  },
  {
   "cell_type": "code",
   "execution_count": 41,
   "id": "fbfdce65",
   "metadata": {},
   "outputs": [
    {
     "name": "stdout",
     "output_type": "stream",
     "text": [
      "[4, 11, 10, 17, 19]\n"
     ]
    }
   ],
   "source": [
    "res = [i+2 for i in l]\n",
    "print(res)"
   ]
  },
  {
   "cell_type": "code",
   "execution_count": 42,
   "id": "0f65084b",
   "metadata": {},
   "outputs": [
    {
     "name": "stdout",
     "output_type": "stream",
     "text": [
      "[4, 11, 10, 17, 19]\n"
     ]
    }
   ],
   "source": [
    "print([i+2 for i in l])"
   ]
  },
  {
   "cell_type": "code",
   "execution_count": 43,
   "id": "37df6634",
   "metadata": {},
   "outputs": [],
   "source": [
    "res = [i+2 for i in l if i%2==0]"
   ]
  },
  {
   "cell_type": "code",
   "execution_count": 44,
   "id": "cf3f6505",
   "metadata": {},
   "outputs": [
    {
     "name": "stdout",
     "output_type": "stream",
     "text": [
      "[4, 10]\n"
     ]
    }
   ],
   "source": [
    "print(res)"
   ]
  },
  {
   "cell_type": "markdown",
   "id": "99c18603",
   "metadata": {},
   "source": [
    "# ternary operators\n",
    "we will executing one statement if condition satisfies other we will be executing alternative statement. But total code is written in a single line"
   ]
  },
  {
   "cell_type": "raw",
   "id": "6a1df4c7",
   "metadata": {},
   "source": [
    "<truestatement> if <condition> else <falsestatement>\n",
    "<truestatement> if <condition> else <secondtruesestatement> if condition else <falsestatement>"
   ]
  },
  {
   "cell_type": "code",
   "execution_count": 45,
   "id": "493b383b",
   "metadata": {},
   "outputs": [
    {
     "name": "stdout",
     "output_type": "stream",
     "text": [
      "positive\n"
     ]
    }
   ],
   "source": [
    "x = -5 \n",
    "res = \"positive\" if x < 0 else \"negative\"\n",
    "print(res)"
   ]
  },
  {
   "cell_type": "code",
   "execution_count": 46,
   "id": "929c55a1",
   "metadata": {},
   "outputs": [
    {
     "name": "stdout",
     "output_type": "stream",
     "text": [
      "negative\n"
     ]
    }
   ],
   "source": [
    "x = -5\n",
    "res = \"neutral\" if x == 0 else \"positive\" if x > 0 else \"negative\"\n",
    "print(res)"
   ]
  },
  {
   "cell_type": "raw",
   "id": "eb2a48eb",
   "metadata": {},
   "source": [
    "[2, 5, 9, 10] -----> [6, 18]"
   ]
  },
  {
   "cell_type": "code",
   "execution_count": 12,
   "id": "6bdab764",
   "metadata": {},
   "outputs": [],
   "source": [
    "target = 9\n",
    "l = [2, 9, 8, 7, 3, 4, 6, 5]\n",
    "res = [ [x,y] for x in l for y in l if x+y==9]"
   ]
  },
  {
   "cell_type": "code",
   "execution_count": 13,
   "id": "3346746d",
   "metadata": {},
   "outputs": [
    {
     "name": "stdout",
     "output_type": "stream",
     "text": [
      "[[2, 7], [7, 2], [3, 6], [4, 5], [6, 3], [5, 4]]\n"
     ]
    }
   ],
   "source": [
    "print(res)"
   ]
  },
  {
   "cell_type": "code",
   "execution_count": 47,
   "id": "d77a7e24",
   "metadata": {},
   "outputs": [
    {
     "name": "stdout",
     "output_type": "stream",
     "text": [
      "[[2, 7], [3, 6], [4, 5]]\n"
     ]
    }
   ],
   "source": [
    "target = 9\n",
    "l = [2, 9, 8, 7, 3, 4, 6, 5]\n",
    "le = len(l)\n",
    "res = [ [l[x],l[y]] for x in range(le-1) for y in range(x+1, le) if l[x]+l[y]==9]\n",
    "print(res)"
   ]
  },
  {
   "cell_type": "code",
   "execution_count": 48,
   "id": "51ba68e3",
   "metadata": {},
   "outputs": [
    {
     "name": "stdout",
     "output_type": "stream",
     "text": [
      "6\n"
     ]
    }
   ],
   "source": [
    "print(res[1][1])"
   ]
  },
  {
   "cell_type": "code",
   "execution_count": 49,
   "id": "be7032b9",
   "metadata": {},
   "outputs": [
    {
     "name": "stdout",
     "output_type": "stream",
     "text": [
      "[2, 7]\n"
     ]
    }
   ],
   "source": [
    "print(res[0])"
   ]
  },
  {
   "cell_type": "code",
   "execution_count": 50,
   "id": "86a0bbcc",
   "metadata": {},
   "outputs": [
    {
     "name": "stdout",
     "output_type": "stream",
     "text": [
      "7\n"
     ]
    }
   ],
   "source": [
    "print(res[0][-1])"
   ]
  },
  {
   "cell_type": "code",
   "execution_count": 51,
   "id": "098578f6",
   "metadata": {},
   "outputs": [
    {
     "name": "stdout",
     "output_type": "stream",
     "text": [
      "[2, 7]\n",
      "[3, 6]\n",
      "[4, 5]\n"
     ]
    }
   ],
   "source": [
    "for x in res:\n",
    "    print(x)"
   ]
  },
  {
   "cell_type": "code",
   "execution_count": 52,
   "id": "e1c9e6bf",
   "metadata": {},
   "outputs": [
    {
     "name": "stdout",
     "output_type": "stream",
     "text": [
      "[2, 7] 2\n",
      "[2, 7] 7\n",
      "[3, 6] 3\n",
      "[3, 6] 6\n",
      "[4, 5] 4\n",
      "[4, 5] 5\n"
     ]
    }
   ],
   "source": [
    "for x in res:\n",
    "    for y in x:\n",
    "        print(x, y)"
   ]
  },
  {
   "cell_type": "code",
   "execution_count": 53,
   "id": "5d5d1765",
   "metadata": {},
   "outputs": [
    {
     "ename": "TypeError",
     "evalue": "'int' object is not iterable",
     "output_type": "error",
     "traceback": [
      "\u001b[1;31m---------------------------------------------------------------------------\u001b[0m",
      "\u001b[1;31mTypeError\u001b[0m                                 Traceback (most recent call last)",
      "Input \u001b[1;32mIn [53]\u001b[0m, in \u001b[0;36m<cell line: 1>\u001b[1;34m()\u001b[0m\n\u001b[1;32m----> 1\u001b[0m \u001b[38;5;28;01mfor\u001b[39;00m x \u001b[38;5;129;01min\u001b[39;00m \u001b[38;5;241m15\u001b[39m:\n\u001b[0;32m      2\u001b[0m     \u001b[38;5;28mprint\u001b[39m(x)\n",
      "\u001b[1;31mTypeError\u001b[0m: 'int' object is not iterable"
     ]
    }
   ],
   "source": [
    "for x in 15:\n",
    "    print(x)"
   ]
  },
  {
   "cell_type": "code",
   "execution_count": 18,
   "id": "9099371b",
   "metadata": {},
   "outputs": [
    {
     "name": "stdout",
     "output_type": "stream",
     "text": [
      "2\n",
      "7\n",
      "3\n",
      "6\n",
      "4\n",
      "5\n"
     ]
    }
   ],
   "source": [
    "for x in res:\n",
    "    for y in x:\n",
    "        print(y)"
   ]
  },
  {
   "cell_type": "code",
   "execution_count": 19,
   "id": "bded6423",
   "metadata": {},
   "outputs": [
    {
     "ename": "TypeError",
     "evalue": "'int' object is not iterable",
     "output_type": "error",
     "traceback": [
      "\u001b[1;31m---------------------------------------------------------------------------\u001b[0m",
      "\u001b[1;31mTypeError\u001b[0m                                 Traceback (most recent call last)",
      "Input \u001b[1;32mIn [19]\u001b[0m, in \u001b[0;36m<cell line: 1>\u001b[1;34m()\u001b[0m\n\u001b[1;32m----> 1\u001b[0m \u001b[38;5;28;01mfor\u001b[39;00m x \u001b[38;5;129;01min\u001b[39;00m \u001b[38;5;241m1000\u001b[39m:\n\u001b[0;32m      2\u001b[0m     \u001b[38;5;28mprint\u001b[39m(x)\n",
      "\u001b[1;31mTypeError\u001b[0m: 'int' object is not iterable"
     ]
    }
   ],
   "source": [
    "for x in 1000:\n",
    "    print(x)"
   ]
  },
  {
   "cell_type": "code",
   "execution_count": 54,
   "id": "83ca9e9a",
   "metadata": {},
   "outputs": [
    {
     "name": "stdout",
     "output_type": "stream",
     "text": [
      "[[12, 13, 14], [14, 15, 16], [20, 21, 22]]\n"
     ]
    }
   ],
   "source": [
    "a = [2, 3, 4]\n",
    "b = [10, 12, 18]\n",
    "res = [[x+y for x in a ] for y in b] #[[12, 13, 14], [14, 15, 16], [20, 21, 22]]\n",
    "print(res)"
   ]
  },
  {
   "cell_type": "code",
   "execution_count": 55,
   "id": "21f95c58",
   "metadata": {},
   "outputs": [
    {
     "name": "stdout",
     "output_type": "stream",
     "text": [
      "[14, 15, 16]\n",
      "16\n",
      "[[12, 13, 14], 100, [20, 21, 22]]\n",
      "[[12, 13, 14], 100, [20, 200, 22]]\n"
     ]
    }
   ],
   "source": [
    "print(res[1])\n",
    "print(res[1][2])\n",
    "res[1] = 100\n",
    "print(res)\n",
    "res[-1][1] = 200\n",
    "print(res)"
   ]
  },
  {
   "cell_type": "code",
   "execution_count": 2,
   "id": "fe8b13a0",
   "metadata": {},
   "outputs": [
    {
     "name": "stdout",
     "output_type": "stream",
     "text": [
      "[0, 1, 'a', 3, 4, 'a', 6, 7, 'a', 9]\n"
     ]
    }
   ],
   "source": [
    "l = [0, 1, 2, 3, 4, 5, 6, 7, 8, 9]\n",
    "l1 = len(l)\n",
    "for x in range(2, l1, 3):\n",
    "    l[x] = 'a'\n",
    "print(l)"
   ]
  },
  {
   "cell_type": "code",
   "execution_count": 3,
   "id": "bd01da9a",
   "metadata": {},
   "outputs": [
    {
     "name": "stdout",
     "output_type": "stream",
     "text": [
      "[0, 1, 'a', 3, 4, 'a', 6, 7, 'a', 9]\n"
     ]
    }
   ],
   "source": [
    "l = [0, 1, 2, 3, 4, 5, 6, 7, 8, 9]\n",
    "l1 = len(l[2::3])\n",
    "l[2::3] = ['a']*l1\n",
    "print(l)"
   ]
  },
  {
   "cell_type": "code",
   "execution_count": 4,
   "id": "6ea206f8",
   "metadata": {},
   "outputs": [
    {
     "name": "stdout",
     "output_type": "stream",
     "text": [
      "[0, 1, 'a', 3, 4, 'a', 6, 7, 'a', 9]\n"
     ]
    }
   ],
   "source": [
    "l = [0, 1, 2, 3, 4, 5, 6, 7, 8, 9]\n",
    "l1 = len(l)\n",
    "count = 0\n",
    "for x in range(l1):\n",
    "    count += 1\n",
    "    if count == 3:\n",
    "        l[x] = 'a'\n",
    "        count = 0\n",
    "print(l)"
   ]
  },
  {
   "cell_type": "code",
   "execution_count": 5,
   "id": "7b4661ef",
   "metadata": {},
   "outputs": [
    {
     "name": "stdout",
     "output_type": "stream",
     "text": [
      "[0, 1, 'a', 3, 4, 'a', 6, 7, 'a', 9]\n"
     ]
    }
   ],
   "source": [
    "l = [0, 1, 2, 3, 4, 5, 6, 7, 8, 9]\n",
    "l1 = len(l)\n",
    "count = 0\n",
    "for x in range(l1):\n",
    "    count += 1\n",
    "    if count%3 == 0:\n",
    "        l[x] = 'a'\n",
    "print(l)"
   ]
  },
  {
   "cell_type": "code",
   "execution_count": 6,
   "id": "e18f8214",
   "metadata": {},
   "outputs": [
    {
     "name": "stdout",
     "output_type": "stream",
     "text": [
      "10\n"
     ]
    }
   ],
   "source": [
    "l = [0, 1, 2, 3, 9 4, 5, 8, 6, 7,]\n",
    "count = 0\n",
    "for x in l:\n",
    "    count += 1\n",
    "print(count)"
   ]
  },
  {
   "cell_type": "code",
   "execution_count": 8,
   "id": "5e7d3c60",
   "metadata": {},
   "outputs": [
    {
     "name": "stdout",
     "output_type": "stream",
     "text": [
      "9\n"
     ]
    }
   ],
   "source": [
    "l = [0, 1, 2, 3, 9, 4, 5, 8, 6, 7,]\n",
    "m = l[0]\n",
    "for x in l[1:]:\n",
    "    if x > m:\n",
    "        m = x\n",
    "print(m)"
   ]
  },
  {
   "cell_type": "code",
   "execution_count": 56,
   "id": "7c96ebfb",
   "metadata": {},
   "outputs": [
    {
     "name": "stdout",
     "output_type": "stream",
     "text": [
      "[[12, 13, 14], [14, 15, 16], [20, 21, 22]]\n"
     ]
    }
   ],
   "source": [
    "a = [2, 3, 4]\n",
    "b = [10, 12, 18]\n",
    "res = [[x+y for x in a ] for y in b]\n",
    "print(res)"
   ]
  },
  {
   "cell_type": "code",
   "execution_count": 58,
   "id": "ec26a29b",
   "metadata": {},
   "outputs": [
    {
     "name": "stdout",
     "output_type": "stream",
     "text": [
      "[12, 13, 14, 14, 15, 16, 20, 21, 22]\n"
     ]
    }
   ],
   "source": [
    "print([y for x in res for y in x])"
   ]
  },
  {
   "cell_type": "code",
   "execution_count": 57,
   "id": "7ef84a33",
   "metadata": {},
   "outputs": [
    {
     "name": "stdout",
     "output_type": "stream",
     "text": [
      "[[12, 13, 14], [14, 15, 16], [20, 21, 22]]\n"
     ]
    }
   ],
   "source": [
    "print(res)"
   ]
  },
  {
   "cell_type": "code",
   "execution_count": 22,
   "id": "acd41f10",
   "metadata": {},
   "outputs": [
    {
     "name": "stdout",
     "output_type": "stream",
     "text": [
      "[12, 13, 14, 14, 15, 16, 20, 21, 22]\n"
     ]
    }
   ],
   "source": [
    "res1 = [y for x in res for y in x]\n",
    "print(res1)"
   ]
  },
  {
   "cell_type": "code",
   "execution_count": 23,
   "id": "06f21acd",
   "metadata": {},
   "outputs": [
    {
     "name": "stdout",
     "output_type": "stream",
     "text": [
      "[[12, 13, 14], [14, 15, 16], [20, 21, 22]]\n"
     ]
    }
   ],
   "source": [
    "print([[res1[y] for y in range(x, x+3)] for x in range(0, 9, 3)])"
   ]
  },
  {
   "cell_type": "markdown",
   "id": "fc7c060c",
   "metadata": {},
   "source": [
    "# list methods "
   ]
  },
  {
   "cell_type": "code",
   "execution_count": 9,
   "id": "a2c9c949",
   "metadata": {},
   "outputs": [
    {
     "name": "stdout",
     "output_type": "stream",
     "text": [
      "<class 'list'>\n"
     ]
    }
   ],
   "source": [
    "l = []\n",
    "print(type([]))"
   ]
  },
  {
   "cell_type": "code",
   "execution_count": 10,
   "id": "de970834",
   "metadata": {},
   "outputs": [
    {
     "name": "stdout",
     "output_type": "stream",
     "text": [
      "['__add__', '__class__', '__class_getitem__', '__contains__', '__delattr__', '__delitem__', '__dir__', '__doc__', '__eq__', '__format__', '__ge__', '__getattribute__', '__getitem__', '__gt__', '__hash__', '__iadd__', '__imul__', '__init__', '__init_subclass__', '__iter__', '__le__', '__len__', '__lt__', '__mul__', '__ne__', '__new__', '__reduce__', '__reduce_ex__', '__repr__', '__reversed__', '__rmul__', '__setattr__', '__setitem__', '__sizeof__', '__str__', '__subclasshook__', 'append', 'clear', 'copy', 'count', 'extend', 'index', 'insert', 'pop', 'remove', 'reverse', 'sort']\n"
     ]
    }
   ],
   "source": [
    "print(dir(l))"
   ]
  },
  {
   "cell_type": "code",
   "execution_count": 11,
   "id": "c9b00fe8",
   "metadata": {},
   "outputs": [],
   "source": [
    "l = []"
   ]
  },
  {
   "cell_type": "code",
   "execution_count": 12,
   "id": "49c37783",
   "metadata": {},
   "outputs": [
    {
     "ename": "NameError",
     "evalue": "name 'append' is not defined",
     "output_type": "error",
     "traceback": [
      "\u001b[1;31m---------------------------------------------------------------------------\u001b[0m",
      "\u001b[1;31mNameError\u001b[0m                                 Traceback (most recent call last)",
      "Input \u001b[1;32mIn [12]\u001b[0m, in \u001b[0;36m<cell line: 1>\u001b[1;34m()\u001b[0m\n\u001b[1;32m----> 1\u001b[0m \u001b[38;5;28mprint\u001b[39m(\u001b[43mappend\u001b[49m\u001b[38;5;241m.\u001b[39m\u001b[38;5;18m__doc__\u001b[39m)\n",
      "\u001b[1;31mNameError\u001b[0m: name 'append' is not defined"
     ]
    }
   ],
   "source": [
    "print(append.__doc__)"
   ]
  },
  {
   "cell_type": "code",
   "execution_count": 2,
   "id": "80b07d2b",
   "metadata": {},
   "outputs": [
    {
     "name": "stdout",
     "output_type": "stream",
     "text": [
      "Append object to the end of the list.\n"
     ]
    }
   ],
   "source": [
    "print(l.append.__doc__)"
   ]
  },
  {
   "cell_type": "code",
   "execution_count": 3,
   "id": "3825bbb1",
   "metadata": {},
   "outputs": [
    {
     "name": "stdout",
     "output_type": "stream",
     "text": [
      "Help on built-in function append:\n",
      "\n",
      "append(object, /) method of builtins.list instance\n",
      "    Append object to the end of the list.\n",
      "\n",
      "None\n"
     ]
    }
   ],
   "source": [
    "print(help(l.append))"
   ]
  },
  {
   "cell_type": "code",
   "execution_count": 13,
   "id": "3d4c0f4a",
   "metadata": {},
   "outputs": [
    {
     "name": "stdout",
     "output_type": "stream",
     "text": [
      "<class 'int'>\n",
      "['__abs__', '__add__', '__and__', '__bool__', '__ceil__', '__class__', '__delattr__', '__dir__', '__divmod__', '__doc__', '__eq__', '__float__', '__floor__', '__floordiv__', '__format__', '__ge__', '__getattribute__', '__getnewargs__', '__gt__', '__hash__', '__index__', '__init__', '__init_subclass__', '__int__', '__invert__', '__le__', '__lshift__', '__lt__', '__mod__', '__mul__', '__ne__', '__neg__', '__new__', '__or__', '__pos__', '__pow__', '__radd__', '__rand__', '__rdivmod__', '__reduce__', '__reduce_ex__', '__repr__', '__rfloordiv__', '__rlshift__', '__rmod__', '__rmul__', '__ror__', '__round__', '__rpow__', '__rrshift__', '__rshift__', '__rsub__', '__rtruediv__', '__rxor__', '__setattr__', '__sizeof__', '__str__', '__sub__', '__subclasshook__', '__truediv__', '__trunc__', '__xor__', 'as_integer_ratio', 'bit_count', 'bit_length', 'conjugate', 'denominator', 'from_bytes', 'imag', 'numerator', 'real', 'to_bytes']\n"
     ]
    }
   ],
   "source": [
    "a = 5\n",
    "print(type(a))\n",
    "print(dir(a))"
   ]
  },
  {
   "cell_type": "code",
   "execution_count": 5,
   "id": "9bf19713",
   "metadata": {},
   "outputs": [
    {
     "name": "stdout",
     "output_type": "stream",
     "text": [
      "Help on list object:\n",
      "\n",
      "class list(object)\n",
      " |  list(iterable=(), /)\n",
      " |  \n",
      " |  Built-in mutable sequence.\n",
      " |  \n",
      " |  If no argument is given, the constructor creates a new empty list.\n",
      " |  The argument must be an iterable if specified.\n",
      " |  \n",
      " |  Methods defined here:\n",
      " |  \n",
      " |  __add__(self, value, /)\n",
      " |      Return self+value.\n",
      " |  \n",
      " |  __contains__(self, key, /)\n",
      " |      Return key in self.\n",
      " |  \n",
      " |  __delitem__(self, key, /)\n",
      " |      Delete self[key].\n",
      " |  \n",
      " |  __eq__(self, value, /)\n",
      " |      Return self==value.\n",
      " |  \n",
      " |  __ge__(self, value, /)\n",
      " |      Return self>=value.\n",
      " |  \n",
      " |  __getattribute__(self, name, /)\n",
      " |      Return getattr(self, name).\n",
      " |  \n",
      " |  __getitem__(...)\n",
      " |      x.__getitem__(y) <==> x[y]\n",
      " |  \n",
      " |  __gt__(self, value, /)\n",
      " |      Return self>value.\n",
      " |  \n",
      " |  __iadd__(self, value, /)\n",
      " |      Implement self+=value.\n",
      " |  \n",
      " |  __imul__(self, value, /)\n",
      " |      Implement self*=value.\n",
      " |  \n",
      " |  __init__(self, /, *args, **kwargs)\n",
      " |      Initialize self.  See help(type(self)) for accurate signature.\n",
      " |  \n",
      " |  __iter__(self, /)\n",
      " |      Implement iter(self).\n",
      " |  \n",
      " |  __le__(self, value, /)\n",
      " |      Return self<=value.\n",
      " |  \n",
      " |  __len__(self, /)\n",
      " |      Return len(self).\n",
      " |  \n",
      " |  __lt__(self, value, /)\n",
      " |      Return self<value.\n",
      " |  \n",
      " |  __mul__(self, value, /)\n",
      " |      Return self*value.\n",
      " |  \n",
      " |  __ne__(self, value, /)\n",
      " |      Return self!=value.\n",
      " |  \n",
      " |  __repr__(self, /)\n",
      " |      Return repr(self).\n",
      " |  \n",
      " |  __reversed__(self, /)\n",
      " |      Return a reverse iterator over the list.\n",
      " |  \n",
      " |  __rmul__(self, value, /)\n",
      " |      Return value*self.\n",
      " |  \n",
      " |  __setitem__(self, key, value, /)\n",
      " |      Set self[key] to value.\n",
      " |  \n",
      " |  __sizeof__(self, /)\n",
      " |      Return the size of the list in memory, in bytes.\n",
      " |  \n",
      " |  append(self, object, /)\n",
      " |      Append object to the end of the list.\n",
      " |  \n",
      " |  clear(self, /)\n",
      " |      Remove all items from list.\n",
      " |  \n",
      " |  copy(self, /)\n",
      " |      Return a shallow copy of the list.\n",
      " |  \n",
      " |  count(self, value, /)\n",
      " |      Return number of occurrences of value.\n",
      " |  \n",
      " |  extend(self, iterable, /)\n",
      " |      Extend list by appending elements from the iterable.\n",
      " |  \n",
      " |  index(self, value, start=0, stop=9223372036854775807, /)\n",
      " |      Return first index of value.\n",
      " |      \n",
      " |      Raises ValueError if the value is not present.\n",
      " |  \n",
      " |  insert(self, index, object, /)\n",
      " |      Insert object before index.\n",
      " |  \n",
      " |  pop(self, index=-1, /)\n",
      " |      Remove and return item at index (default last).\n",
      " |      \n",
      " |      Raises IndexError if list is empty or index is out of range.\n",
      " |  \n",
      " |  remove(self, value, /)\n",
      " |      Remove first occurrence of value.\n",
      " |      \n",
      " |      Raises ValueError if the value is not present.\n",
      " |  \n",
      " |  reverse(self, /)\n",
      " |      Reverse *IN PLACE*.\n",
      " |  \n",
      " |  sort(self, /, *, key=None, reverse=False)\n",
      " |      Sort the list in ascending order and return None.\n",
      " |      \n",
      " |      The sort is in-place (i.e. the list itself is modified) and stable (i.e. the\n",
      " |      order of two equal elements is maintained).\n",
      " |      \n",
      " |      If a key function is given, apply it once to each list item and sort them,\n",
      " |      ascending or descending, according to their function values.\n",
      " |      \n",
      " |      The reverse flag can be set to sort in descending order.\n",
      " |  \n",
      " |  ----------------------------------------------------------------------\n",
      " |  Class methods defined here:\n",
      " |  \n",
      " |  __class_getitem__(...) from builtins.type\n",
      " |      See PEP 585\n",
      " |  \n",
      " |  ----------------------------------------------------------------------\n",
      " |  Static methods defined here:\n",
      " |  \n",
      " |  __new__(*args, **kwargs) from builtins.type\n",
      " |      Create and return a new object.  See help(type) for accurate signature.\n",
      " |  \n",
      " |  ----------------------------------------------------------------------\n",
      " |  Data and other attributes defined here:\n",
      " |  \n",
      " |  __hash__ = None\n",
      "\n",
      "None\n"
     ]
    }
   ],
   "source": [
    "print(help(l))"
   ]
  },
  {
   "cell_type": "code",
   "execution_count": 6,
   "id": "8dd4fd6e",
   "metadata": {},
   "outputs": [
    {
     "name": "stdout",
     "output_type": "stream",
     "text": [
      "Insert object before index.\n"
     ]
    }
   ],
   "source": [
    "print(l.insert.__doc__)"
   ]
  },
  {
   "cell_type": "code",
   "execution_count": 7,
   "id": "17468700",
   "metadata": {},
   "outputs": [
    {
     "name": "stdout",
     "output_type": "stream",
     "text": [
      "Help on built-in function insert:\n",
      "\n",
      "insert(index, object, /) method of builtins.list instance\n",
      "    Insert object before index.\n",
      "\n",
      "None\n"
     ]
    }
   ],
   "source": [
    "print(help(l.insert))"
   ]
  },
  {
   "cell_type": "code",
   "execution_count": 9,
   "id": "2c762a7a",
   "metadata": {},
   "outputs": [],
   "source": [
    "import numpy"
   ]
  },
  {
   "cell_type": "code",
   "execution_count": 10,
   "id": "97c6e5fe",
   "metadata": {},
   "outputs": [
    {
     "name": "stdout",
     "output_type": "stream",
     "text": [
      "['ALLOW_THREADS', 'AxisError', 'BUFSIZE', 'CLIP', 'ComplexWarning', 'DataSource', 'ERR_CALL', 'ERR_DEFAULT', 'ERR_IGNORE', 'ERR_LOG', 'ERR_PRINT', 'ERR_RAISE', 'ERR_WARN', 'FLOATING_POINT_SUPPORT', 'FPE_DIVIDEBYZERO', 'FPE_INVALID', 'FPE_OVERFLOW', 'FPE_UNDERFLOW', 'False_', 'Inf', 'Infinity', 'MAXDIMS', 'MAY_SHARE_BOUNDS', 'MAY_SHARE_EXACT', 'ModuleDeprecationWarning', 'NAN', 'NINF', 'NZERO', 'NaN', 'PINF', 'PZERO', 'RAISE', 'RankWarning', 'SHIFT_DIVIDEBYZERO', 'SHIFT_INVALID', 'SHIFT_OVERFLOW', 'SHIFT_UNDERFLOW', 'ScalarType', 'Tester', 'TooHardError', 'True_', 'UFUNC_BUFSIZE_DEFAULT', 'UFUNC_PYVALS_NAME', 'VisibleDeprecationWarning', 'WRAP', '_CopyMode', '_NoValue', '_UFUNC_API', '__NUMPY_SETUP__', '__all__', '__builtins__', '__cached__', '__config__', '__deprecated_attrs__', '__dir__', '__doc__', '__expired_functions__', '__file__', '__getattr__', '__git_version__', '__loader__', '__name__', '__package__', '__path__', '__spec__', '__version__', '_add_newdoc_ufunc', '_distributor_init', '_financial_names', '_globals', '_mat', '_pyinstaller_hooks_dir', '_pytesttester', '_version', 'abs', 'absolute', 'add', 'add_docstring', 'add_newdoc', 'add_newdoc_ufunc', 'all', 'allclose', 'alltrue', 'amax', 'amin', 'angle', 'any', 'append', 'apply_along_axis', 'apply_over_axes', 'arange', 'arccos', 'arccosh', 'arcsin', 'arcsinh', 'arctan', 'arctan2', 'arctanh', 'argmax', 'argmin', 'argpartition', 'argsort', 'argwhere', 'around', 'array', 'array2string', 'array_equal', 'array_equiv', 'array_repr', 'array_split', 'array_str', 'asanyarray', 'asarray', 'asarray_chkfinite', 'ascontiguousarray', 'asfarray', 'asfortranarray', 'asmatrix', 'atleast_1d', 'atleast_2d', 'atleast_3d', 'average', 'bartlett', 'base_repr', 'binary_repr', 'bincount', 'bitwise_and', 'bitwise_not', 'bitwise_or', 'bitwise_xor', 'blackman', 'block', 'bmat', 'bool8', 'bool_', 'broadcast', 'broadcast_arrays', 'broadcast_shapes', 'broadcast_to', 'busday_count', 'busday_offset', 'busdaycalendar', 'byte', 'byte_bounds', 'bytes0', 'bytes_', 'c_', 'can_cast', 'cast', 'cbrt', 'cdouble', 'ceil', 'cfloat', 'char', 'character', 'chararray', 'choose', 'clip', 'clongdouble', 'clongfloat', 'column_stack', 'common_type', 'compare_chararrays', 'compat', 'complex128', 'complex64', 'complex_', 'complexfloating', 'compress', 'concatenate', 'conj', 'conjugate', 'convolve', 'copy', 'copysign', 'copyto', 'core', 'corrcoef', 'correlate', 'cos', 'cosh', 'count_nonzero', 'cov', 'cross', 'csingle', 'ctypeslib', 'cumprod', 'cumproduct', 'cumsum', 'datetime64', 'datetime_as_string', 'datetime_data', 'deg2rad', 'degrees', 'delete', 'deprecate', 'deprecate_with_doc', 'diag', 'diag_indices', 'diag_indices_from', 'diagflat', 'diagonal', 'diff', 'digitize', 'disp', 'divide', 'divmod', 'dot', 'double', 'dsplit', 'dstack', 'dtype', 'e', 'ediff1d', 'einsum', 'einsum_path', 'emath', 'empty', 'empty_like', 'equal', 'errstate', 'euler_gamma', 'exp', 'exp2', 'expand_dims', 'expm1', 'extract', 'eye', 'fabs', 'fastCopyAndTranspose', 'fft', 'fill_diagonal', 'find_common_type', 'finfo', 'fix', 'flatiter', 'flatnonzero', 'flexible', 'flip', 'fliplr', 'flipud', 'float16', 'float32', 'float64', 'float_', 'float_power', 'floating', 'floor', 'floor_divide', 'fmax', 'fmin', 'fmod', 'format_float_positional', 'format_float_scientific', 'format_parser', 'frexp', 'from_dlpack', 'frombuffer', 'fromfile', 'fromfunction', 'fromiter', 'frompyfunc', 'fromregex', 'fromstring', 'full', 'full_like', 'gcd', 'generic', 'genfromtxt', 'geomspace', 'get_array_wrap', 'get_include', 'get_printoptions', 'getbufsize', 'geterr', 'geterrcall', 'geterrobj', 'gradient', 'greater', 'greater_equal', 'half', 'hamming', 'hanning', 'heaviside', 'histogram', 'histogram2d', 'histogram_bin_edges', 'histogramdd', 'hsplit', 'hstack', 'hypot', 'i0', 'identity', 'iinfo', 'imag', 'in1d', 'index_exp', 'indices', 'inexact', 'inf', 'info', 'infty', 'inner', 'insert', 'int0', 'int16', 'int32', 'int64', 'int8', 'int_', 'intc', 'integer', 'interp', 'intersect1d', 'intp', 'invert', 'is_busday', 'isclose', 'iscomplex', 'iscomplexobj', 'isfinite', 'isfortran', 'isin', 'isinf', 'isnan', 'isnat', 'isneginf', 'isposinf', 'isreal', 'isrealobj', 'isscalar', 'issctype', 'issubclass_', 'issubdtype', 'issubsctype', 'iterable', 'ix_', 'kaiser', 'kron', 'lcm', 'ldexp', 'left_shift', 'less', 'less_equal', 'lexsort', 'lib', 'linalg', 'linspace', 'little_endian', 'load', 'loadtxt', 'log', 'log10', 'log1p', 'log2', 'logaddexp', 'logaddexp2', 'logical_and', 'logical_not', 'logical_or', 'logical_xor', 'logspace', 'longcomplex', 'longdouble', 'longfloat', 'longlong', 'lookfor', 'ma', 'mask_indices', 'mat', 'math', 'matmul', 'matrix', 'matrixlib', 'max', 'maximum', 'maximum_sctype', 'may_share_memory', 'mean', 'median', 'memmap', 'meshgrid', 'mgrid', 'min', 'min_scalar_type', 'minimum', 'mintypecode', 'mod', 'modf', 'moveaxis', 'msort', 'multiply', 'nan', 'nan_to_num', 'nanargmax', 'nanargmin', 'nancumprod', 'nancumsum', 'nanmax', 'nanmean', 'nanmedian', 'nanmin', 'nanpercentile', 'nanprod', 'nanquantile', 'nanstd', 'nansum', 'nanvar', 'nbytes', 'ndarray', 'ndenumerate', 'ndim', 'ndindex', 'nditer', 'negative', 'nested_iters', 'newaxis', 'nextafter', 'nonzero', 'not_equal', 'numarray', 'number', 'obj2sctype', 'object0', 'object_', 'ogrid', 'oldnumeric', 'ones', 'ones_like', 'os', 'outer', 'packbits', 'pad', 'partition', 'percentile', 'pi', 'piecewise', 'place', 'poly', 'poly1d', 'polyadd', 'polyder', 'polydiv', 'polyfit', 'polyint', 'polymul', 'polynomial', 'polysub', 'polyval', 'positive', 'power', 'printoptions', 'prod', 'product', 'promote_types', 'ptp', 'put', 'put_along_axis', 'putmask', 'quantile', 'r_', 'rad2deg', 'radians', 'random', 'ravel', 'ravel_multi_index', 'real', 'real_if_close', 'rec', 'recarray', 'recfromcsv', 'recfromtxt', 'reciprocal', 'record', 'remainder', 'repeat', 'require', 'reshape', 'resize', 'result_type', 'right_shift', 'rint', 'roll', 'rollaxis', 'roots', 'rot90', 'round', 'round_', 'row_stack', 's_', 'safe_eval', 'save', 'savetxt', 'savez', 'savez_compressed', 'sctype2char', 'sctypeDict', 'sctypes', 'searchsorted', 'select', 'set_numeric_ops', 'set_printoptions', 'set_string_function', 'setbufsize', 'setdiff1d', 'seterr', 'seterrcall', 'seterrobj', 'setxor1d', 'shape', 'shares_memory', 'short', 'show_config', 'sign', 'signbit', 'signedinteger', 'sin', 'sinc', 'single', 'singlecomplex', 'sinh', 'size', 'sometrue', 'sort', 'sort_complex', 'source', 'spacing', 'split', 'sqrt', 'square', 'squeeze', 'stack', 'std', 'str0', 'str_', 'string_', 'subtract', 'sum', 'swapaxes', 'sys', 'take', 'take_along_axis', 'tan', 'tanh', 'tensordot', 'test', 'testing', 'tile', 'timedelta64', 'trace', 'tracemalloc_domain', 'transpose', 'trapz', 'tri', 'tril', 'tril_indices', 'tril_indices_from', 'trim_zeros', 'triu', 'triu_indices', 'triu_indices_from', 'true_divide', 'trunc', 'typecodes', 'typename', 'ubyte', 'ufunc', 'uint', 'uint0', 'uint16', 'uint32', 'uint64', 'uint8', 'uintc', 'uintp', 'ulonglong', 'unicode_', 'union1d', 'unique', 'unpackbits', 'unravel_index', 'unsignedinteger', 'unwrap', 'use_hugepage', 'ushort', 'vander', 'var', 'vdot', 'vectorize', 'version', 'void', 'void0', 'vsplit', 'vstack', 'warnings', 'where', 'who', 'zeros', 'zeros_like']\n"
     ]
    }
   ],
   "source": [
    "print(dir(numpy))"
   ]
  },
  {
   "cell_type": "code",
   "execution_count": 14,
   "id": "2095af84",
   "metadata": {},
   "outputs": [
    {
     "name": "stdout",
     "output_type": "stream",
     "text": [
      "[10, 30, 20, 50]\n",
      "[10, 30, 20, 50, 100]\n"
     ]
    }
   ],
   "source": [
    "l=[10, 30, 20]\n",
    "l.append(50)\n",
    "print(l)\n",
    "l.append(100)\n",
    "print(l)"
   ]
  },
  {
   "cell_type": "code",
   "execution_count": 15,
   "id": "fed129b0",
   "metadata": {},
   "outputs": [
    {
     "name": "stdout",
     "output_type": "stream",
     "text": [
      "[10, 30, 50, 20, 50, 100]\n"
     ]
    }
   ],
   "source": [
    "l.insert(2, 50)\n",
    "print(l)"
   ]
  },
  {
   "cell_type": "code",
   "execution_count": 16,
   "id": "d166de38",
   "metadata": {},
   "outputs": [
    {
     "name": "stdout",
     "output_type": "stream",
     "text": [
      "[10, 70, 30, 50, 20, 50, 100]\n"
     ]
    }
   ],
   "source": [
    "l.insert(1, 70)\n",
    "print(l)"
   ]
  },
  {
   "cell_type": "code",
   "execution_count": 17,
   "id": "6b2258fe",
   "metadata": {},
   "outputs": [
    {
     "name": "stdout",
     "output_type": "stream",
     "text": [
      "[10, 70, 30, 50, 20, 50, 100]\n"
     ]
    }
   ],
   "source": [
    "l1 = []\n",
    "for x in l:\n",
    "    l1.append(x)\n",
    "print(l1)"
   ]
  },
  {
   "cell_type": "code",
   "execution_count": 19,
   "id": "320c5dda",
   "metadata": {},
   "outputs": [
    {
     "name": "stdout",
     "output_type": "stream",
     "text": [
      "[100, 50, 20, 50, 30, 70, 10]\n"
     ]
    }
   ],
   "source": [
    "l2 = []\n",
    "for x in l:\n",
    "    l2.insert(0, x)\n",
    "print(l2)"
   ]
  },
  {
   "cell_type": "code",
   "execution_count": 20,
   "id": "65aac3e5",
   "metadata": {},
   "outputs": [
    {
     "name": "stdout",
     "output_type": "stream",
     "text": [
      "[10, 70, 30, 50, 20, 50, 100]\n"
     ]
    }
   ],
   "source": [
    "print(l)"
   ]
  },
  {
   "cell_type": "code",
   "execution_count": 14,
   "id": "a3e69c70",
   "metadata": {},
   "outputs": [
    {
     "name": "stdout",
     "output_type": "stream",
     "text": [
      "[50, 20, 30, 70, 10]\n"
     ]
    }
   ],
   "source": [
    "l1 = []\n",
    "for x in l:\n",
    "    l1.insert(0, x)#[10], [70, 10]\n",
    "print(l1)"
   ]
  },
  {
   "cell_type": "code",
   "execution_count": 15,
   "id": "30194ab3",
   "metadata": {},
   "outputs": [
    {
     "name": "stdout",
     "output_type": "stream",
     "text": [
      "Extend list by appending elements from the iterable.\n"
     ]
    }
   ],
   "source": [
    "print(l.extend.__doc__)"
   ]
  },
  {
   "cell_type": "code",
   "execution_count": 21,
   "id": "1a834867",
   "metadata": {},
   "outputs": [
    {
     "name": "stdout",
     "output_type": "stream",
     "text": [
      "Help on built-in function extend:\n",
      "\n",
      "extend(iterable, /) method of builtins.list instance\n",
      "    Extend list by appending elements from the iterable.\n",
      "\n",
      "None\n"
     ]
    }
   ],
   "source": [
    "print(help(l.extend))"
   ]
  },
  {
   "cell_type": "code",
   "execution_count": 22,
   "id": "1be2772b",
   "metadata": {},
   "outputs": [
    {
     "name": "stdout",
     "output_type": "stream",
     "text": [
      "[10, 70, 30, 50, 20, 50, 100]\n"
     ]
    }
   ],
   "source": [
    "print(l)"
   ]
  },
  {
   "cell_type": "code",
   "execution_count": 23,
   "id": "20312033",
   "metadata": {},
   "outputs": [
    {
     "name": "stdout",
     "output_type": "stream",
     "text": [
      "[10, 70, 30, 50, 20, 50, 100, 200, 300]\n",
      "[10, 70, 30, 50, 20, 50, 100, 200, 300, 2, 3]\n"
     ]
    }
   ],
   "source": [
    "l1 = [200, 300]\n",
    "l.extend(l1)\n",
    "print(l)\n",
    "l.extend([2, 3])\n",
    "print(l)"
   ]
  },
  {
   "cell_type": "code",
   "execution_count": 24,
   "id": "c6247865",
   "metadata": {},
   "outputs": [
    {
     "name": "stdout",
     "output_type": "stream",
     "text": [
      "[10, 70, 30, 50, 20, 50, 100, 200, 300, 2, 3, 11, 15]\n"
     ]
    }
   ],
   "source": [
    "l2 = [11, 15]\n",
    "for x in l2:\n",
    "    l.append(x)\n",
    "print(l)"
   ]
  },
  {
   "cell_type": "code",
   "execution_count": 25,
   "id": "205a58f1",
   "metadata": {},
   "outputs": [
    {
     "name": "stdout",
     "output_type": "stream",
     "text": [
      "[10, 70, 30, 50, 20, 50, 100, 200, 300, 2, 3, 11, 15, [15, 25]]\n"
     ]
    }
   ],
   "source": [
    "l.append([15, 25])\n",
    "print(l)"
   ]
  },
  {
   "cell_type": "markdown",
   "id": "8799f988",
   "metadata": {},
   "source": [
    "# operators"
   ]
  },
  {
   "cell_type": "code",
   "execution_count": 28,
   "id": "d89f2576",
   "metadata": {},
   "outputs": [
    {
     "name": "stdout",
     "output_type": "stream",
     "text": [
      "[3, 4, 9, 10]\n"
     ]
    }
   ],
   "source": [
    "l = [3, 4]\n",
    "l1 = [9, 10]\n",
    "print(l+l1)"
   ]
  },
  {
   "cell_type": "code",
   "execution_count": 29,
   "id": "cdc3c0dc",
   "metadata": {},
   "outputs": [
    {
     "name": "stdout",
     "output_type": "stream",
     "text": [
      "[3, 4, 3, 4, 3, 4]\n"
     ]
    }
   ],
   "source": [
    "print(l*3) # l+l+l ---> [3, 4, 3, 4, 3, 4]"
   ]
  },
  {
   "cell_type": "code",
   "execution_count": 31,
   "id": "6defbf2e",
   "metadata": {},
   "outputs": [
    {
     "name": "stdout",
     "output_type": "stream",
     "text": [
      "[3, 4, 9, 10]\n"
     ]
    }
   ],
   "source": [
    "print(l.__add__(l1))"
   ]
  },
  {
   "cell_type": "code",
   "execution_count": 32,
   "id": "bba99a36",
   "metadata": {},
   "outputs": [
    {
     "name": "stdout",
     "output_type": "stream",
     "text": [
      "[3, 4, 9, 10]\n"
     ]
    }
   ],
   "source": [
    "l2 = []\n",
    "l2.extend(l)\n",
    "l2.extend(l1)\n",
    "print(l2)"
   ]
  },
  {
   "cell_type": "code",
   "execution_count": 34,
   "id": "06153d0c",
   "metadata": {},
   "outputs": [
    {
     "name": "stdout",
     "output_type": "stream",
     "text": [
      "Return self+value.\n"
     ]
    }
   ],
   "source": [
    "print(l.__add__.__doc__)"
   ]
  },
  {
   "cell_type": "code",
   "execution_count": 35,
   "id": "a39284a6",
   "metadata": {},
   "outputs": [
    {
     "name": "stdout",
     "output_type": "stream",
     "text": [
      "[3, 4]\n"
     ]
    }
   ],
   "source": [
    "print(l)"
   ]
  },
  {
   "cell_type": "code",
   "execution_count": 39,
   "id": "5bfc3c98",
   "metadata": {},
   "outputs": [
    {
     "name": "stdout",
     "output_type": "stream",
     "text": [
      "[3, 4, 3, 4, 3, 4]\n"
     ]
    }
   ],
   "source": [
    "print(l*3)"
   ]
  },
  {
   "cell_type": "code",
   "execution_count": 38,
   "id": "029bea81",
   "metadata": {},
   "outputs": [
    {
     "name": "stdout",
     "output_type": "stream",
     "text": [
      "[3, 4] [9, 10]\n"
     ]
    }
   ],
   "source": [
    "print(l, l1)"
   ]
  },
  {
   "cell_type": "code",
   "execution_count": 26,
   "id": "7ff68394",
   "metadata": {},
   "outputs": [
    {
     "name": "stdout",
     "output_type": "stream",
     "text": [
      "False\n"
     ]
    }
   ],
   "source": [
    "print(l>l1)"
   ]
  },
  {
   "cell_type": "code",
   "execution_count": 27,
   "id": "cf15613d",
   "metadata": {},
   "outputs": [
    {
     "name": "stdout",
     "output_type": "stream",
     "text": [
      "[3, 10] [9, 10]\n"
     ]
    }
   ],
   "source": [
    "l[-1] = 10\n",
    "print(l, l1)"
   ]
  },
  {
   "cell_type": "code",
   "execution_count": 28,
   "id": "297f3bb8",
   "metadata": {},
   "outputs": [
    {
     "name": "stdout",
     "output_type": "stream",
     "text": [
      "True\n"
     ]
    }
   ],
   "source": [
    "print(l1>l)"
   ]
  },
  {
   "cell_type": "code",
   "execution_count": 29,
   "id": "1af05699",
   "metadata": {},
   "outputs": [
    {
     "name": "stdout",
     "output_type": "stream",
     "text": [
      "[9, 2] [9, 10]\n"
     ]
    }
   ],
   "source": [
    "l[0] = 9\n",
    "l[-1] = 2\n",
    "print(l, l1)"
   ]
  },
  {
   "cell_type": "code",
   "execution_count": 30,
   "id": "b915c712",
   "metadata": {},
   "outputs": [
    {
     "name": "stdout",
     "output_type": "stream",
     "text": [
      "False\n"
     ]
    }
   ],
   "source": [
    "print(l>l1)"
   ]
  },
  {
   "cell_type": "code",
   "execution_count": 31,
   "id": "b09e05a3",
   "metadata": {},
   "outputs": [
    {
     "name": "stdout",
     "output_type": "stream",
     "text": [
      "[9, 11] [9, 10]\n"
     ]
    }
   ],
   "source": [
    "l[-1] = 11\n",
    "print(l, l1)"
   ]
  },
  {
   "cell_type": "code",
   "execution_count": 32,
   "id": "8b0b858e",
   "metadata": {},
   "outputs": [
    {
     "name": "stdout",
     "output_type": "stream",
     "text": [
      "True\n"
     ]
    }
   ],
   "source": [
    "print(l>l1)"
   ]
  },
  {
   "cell_type": "code",
   "execution_count": 40,
   "id": "ddfd6642",
   "metadata": {},
   "outputs": [
    {
     "name": "stdout",
     "output_type": "stream",
     "text": [
      "False\n"
     ]
    }
   ],
   "source": [
    "l = [[2, 3], [4, 5]]\n",
    "l1 = [[2,4], [4, 5]]\n",
    "print(l>l1)"
   ]
  },
  {
   "cell_type": "code",
   "execution_count": 41,
   "id": "bb59c519",
   "metadata": {},
   "outputs": [
    {
     "name": "stdout",
     "output_type": "stream",
     "text": [
      "True\n"
     ]
    }
   ],
   "source": [
    "l = [[5, 3], [4, 5]]\n",
    "l1 = [[2,4], [4, 5]]\n",
    "print(l>l1)"
   ]
  },
  {
   "cell_type": "code",
   "execution_count": 42,
   "id": "ccdb10f3",
   "metadata": {},
   "outputs": [
    {
     "name": "stdout",
     "output_type": "stream",
     "text": [
      "False\n"
     ]
    }
   ],
   "source": [
    "l  = [[2, 3], [10, 5]]\n",
    "l1 = [[2, 4], [4, 5]]\n",
    "print(l>l1)"
   ]
  },
  {
   "cell_type": "code",
   "execution_count": 43,
   "id": "3d6d3f75",
   "metadata": {},
   "outputs": [
    {
     "name": "stdout",
     "output_type": "stream",
     "text": [
      "False\n"
     ]
    }
   ],
   "source": [
    "l = [2, 5, 10]\n",
    "l1 = [2, 8, 6]\n",
    "print(l>l1)"
   ]
  },
  {
   "cell_type": "code",
   "execution_count": 44,
   "id": "6d23d1cf",
   "metadata": {},
   "outputs": [
    {
     "name": "stdout",
     "output_type": "stream",
     "text": [
      "False\n"
     ]
    }
   ],
   "source": [
    "l = [2, 5]\n",
    "l1 = [2, 8, 6]\n",
    "print(l>l1)"
   ]
  },
  {
   "cell_type": "code",
   "execution_count": 45,
   "id": "34c9db01",
   "metadata": {},
   "outputs": [
    {
     "name": "stdout",
     "output_type": "stream",
     "text": [
      "True\n"
     ]
    }
   ],
   "source": [
    "l = [2, 8, 6]\n",
    "l1 = [2, 8]\n",
    "print(l>l1)"
   ]
  },
  {
   "cell_type": "markdown",
   "id": "a3d2c87f",
   "metadata": {},
   "source": [
    "# membership operators"
   ]
  },
  {
   "cell_type": "code",
   "execution_count": 46,
   "id": "6ef688b0",
   "metadata": {},
   "outputs": [],
   "source": [
    "# in, not in"
   ]
  },
  {
   "cell_type": "code",
   "execution_count": 47,
   "id": "0638fb11",
   "metadata": {},
   "outputs": [
    {
     "name": "stdout",
     "output_type": "stream",
     "text": [
      "True\n"
     ]
    }
   ],
   "source": [
    "l = [3, 8, 10, 4]\n",
    "print(4 in l)"
   ]
  },
  {
   "cell_type": "code",
   "execution_count": 48,
   "id": "4c0702be",
   "metadata": {},
   "outputs": [
    {
     "name": "stdout",
     "output_type": "stream",
     "text": [
      "False\n"
     ]
    }
   ],
   "source": [
    "print(5 in l)"
   ]
  },
  {
   "cell_type": "code",
   "execution_count": 49,
   "id": "859b7417",
   "metadata": {},
   "outputs": [
    {
     "name": "stdout",
     "output_type": "stream",
     "text": [
      "False\n"
     ]
    }
   ],
   "source": [
    "print(\"python\" in l)"
   ]
  },
  {
   "cell_type": "code",
   "execution_count": 50,
   "id": "fd6b13c9",
   "metadata": {},
   "outputs": [
    {
     "name": "stdout",
     "output_type": "stream",
     "text": [
      "True\n"
     ]
    }
   ],
   "source": [
    "print(\"python\" not in l)"
   ]
  },
  {
   "cell_type": "code",
   "execution_count": 51,
   "id": "bf4b8705",
   "metadata": {},
   "outputs": [
    {
     "name": "stdout",
     "output_type": "stream",
     "text": [
      "exists\n"
     ]
    }
   ],
   "source": [
    "flag = False\n",
    "for x in l:\n",
    "    if x == 10:\n",
    "        flag = True\n",
    "        break\n",
    "if flag:\n",
    "    print(\"exists\")\n",
    "else:\n",
    "    print(\"not exists\")\n",
    "        "
   ]
  },
  {
   "cell_type": "markdown",
   "id": "4f0285cf",
   "metadata": {},
   "source": [
    "# identity operators"
   ]
  },
  {
   "cell_type": "code",
   "execution_count": 52,
   "id": "b4bbaa1b",
   "metadata": {},
   "outputs": [],
   "source": [
    "# is, is not -----> this operators compares the memory locations"
   ]
  },
  {
   "cell_type": "code",
   "execution_count": 53,
   "id": "7397cd8f",
   "metadata": {},
   "outputs": [
    {
     "name": "stdout",
     "output_type": "stream",
     "text": [
      "True\n"
     ]
    }
   ],
   "source": [
    "a = 2\n",
    "b = 2 \n",
    "print(a is b)"
   ]
  },
  {
   "cell_type": "code",
   "execution_count": 54,
   "id": "5c3bdbf9",
   "metadata": {},
   "outputs": [
    {
     "name": "stdout",
     "output_type": "stream",
     "text": [
      "False\n"
     ]
    }
   ],
   "source": [
    "c = []\n",
    "d = []\n",
    "print(c is d)"
   ]
  },
  {
   "cell_type": "code",
   "execution_count": 55,
   "id": "35568ea2",
   "metadata": {},
   "outputs": [
    {
     "name": "stdout",
     "output_type": "stream",
     "text": [
      "1887226227584 1887226225472\n"
     ]
    }
   ],
   "source": [
    "print(id(c), id(d))"
   ]
  },
  {
   "cell_type": "code",
   "execution_count": 56,
   "id": "d4a1dce0",
   "metadata": {},
   "outputs": [
    {
     "name": "stdout",
     "output_type": "stream",
     "text": [
      "1887117574416 1887117574416\n"
     ]
    }
   ],
   "source": [
    "print(id(a), id(b))"
   ]
  },
  {
   "cell_type": "code",
   "execution_count": null,
   "id": "6f2389df",
   "metadata": {},
   "outputs": [],
   "source": []
  }
 ],
 "metadata": {
  "kernelspec": {
   "display_name": "Python 3 (ipykernel)",
   "language": "python",
   "name": "python3"
  },
  "language_info": {
   "codemirror_mode": {
    "name": "ipython",
    "version": 3
   },
   "file_extension": ".py",
   "mimetype": "text/x-python",
   "name": "python",
   "nbconvert_exporter": "python",
   "pygments_lexer": "ipython3",
   "version": "3.10.8"
  }
 },
 "nbformat": 4,
 "nbformat_minor": 5
}
