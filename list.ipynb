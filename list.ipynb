{
 "cells": [
  {
   "cell_type": "markdown",
   "id": "29c26eab",
   "metadata": {},
   "source": [
    "# List"
   ]
  },
  {
   "cell_type": "raw",
   "id": "375682d1",
   "metadata": {},
   "source": [
    "list is ordered group of elements/values/objects which encloses elements inside the square brackets. All elements are separated by comma. Also list is a heterogeneous data type"
   ]
  },
  {
   "cell_type": "code",
   "execution_count": 1,
   "id": "c6f198fc",
   "metadata": {},
   "outputs": [
    {
     "name": "stdout",
     "output_type": "stream",
     "text": [
      "[10, 'python', 20.8, 100]\n"
     ]
    }
   ],
   "source": [
    "a = [10, 'python', 20.8, 100]\n",
    "print(a)"
   ]
  },
  {
   "cell_type": "code",
   "execution_count": 2,
   "id": "852a7923",
   "metadata": {},
   "outputs": [
    {
     "name": "stdout",
     "output_type": "stream",
     "text": [
      "<class 'list'>\n"
     ]
    }
   ],
   "source": [
    "print(type(a))"
   ]
  },
  {
   "cell_type": "code",
   "execution_count": 3,
   "id": "447a7098",
   "metadata": {},
   "outputs": [
    {
     "name": "stdout",
     "output_type": "stream",
     "text": [
      "<class 'list'>\n",
      "[]\n"
     ]
    }
   ],
   "source": [
    "a = []\n",
    "print(type(a))\n",
    "print(a)"
   ]
  },
  {
   "cell_type": "code",
   "execution_count": 4,
   "id": "bbfd9128",
   "metadata": {},
   "outputs": [
    {
     "name": "stdout",
     "output_type": "stream",
     "text": [
      "False\n"
     ]
    }
   ],
   "source": [
    "print(bool([]))"
   ]
  },
  {
   "cell_type": "code",
   "execution_count": 5,
   "id": "6fdcc96e",
   "metadata": {},
   "outputs": [
    {
     "name": "stdout",
     "output_type": "stream",
     "text": [
      "True\n"
     ]
    }
   ],
   "source": [
    "print(bool([5]))"
   ]
  },
  {
   "cell_type": "code",
   "execution_count": 6,
   "id": "09af28c7",
   "metadata": {},
   "outputs": [
    {
     "name": "stdout",
     "output_type": "stream",
     "text": [
      "True\n"
     ]
    }
   ],
   "source": [
    "print(bool([None]))"
   ]
  },
  {
   "cell_type": "code",
   "execution_count": 7,
   "id": "23c6f002",
   "metadata": {},
   "outputs": [
    {
     "name": "stdout",
     "output_type": "stream",
     "text": [
      "False\n"
     ]
    }
   ],
   "source": [
    "print(bool(None))"
   ]
  },
  {
   "cell_type": "code",
   "execution_count": 8,
   "id": "1cb0e870",
   "metadata": {},
   "outputs": [
    {
     "name": "stdout",
     "output_type": "stream",
     "text": [
      "True\n"
     ]
    }
   ],
   "source": [
    "print(bool([0]))"
   ]
  },
  {
   "cell_type": "code",
   "execution_count": 9,
   "id": "0bdbb635",
   "metadata": {},
   "outputs": [
    {
     "ename": "TypeError",
     "evalue": "'int' object is not iterable",
     "output_type": "error",
     "traceback": [
      "\u001b[1;31m---------------------------------------------------------------------------\u001b[0m",
      "\u001b[1;31mTypeError\u001b[0m                                 Traceback (most recent call last)",
      "Input \u001b[1;32mIn [9]\u001b[0m, in \u001b[0;36m<cell line: 1>\u001b[1;34m()\u001b[0m\n\u001b[1;32m----> 1\u001b[0m \u001b[38;5;28mprint\u001b[39m(\u001b[38;5;28;43mlist\u001b[39;49m\u001b[43m(\u001b[49m\u001b[38;5;241;43m10\u001b[39;49m\u001b[43m)\u001b[49m)\n",
      "\u001b[1;31mTypeError\u001b[0m: 'int' object is not iterable"
     ]
    }
   ],
   "source": [
    "print(list(10))"
   ]
  },
  {
   "cell_type": "code",
   "execution_count": 10,
   "id": "25cc003a",
   "metadata": {},
   "outputs": [
    {
     "name": "stdout",
     "output_type": "stream",
     "text": [
      "[10, 20]\n"
     ]
    }
   ],
   "source": [
    "t = (10, 20)\n",
    "print(list(t))"
   ]
  },
  {
   "cell_type": "code",
   "execution_count": 14,
   "id": "d55a3193",
   "metadata": {},
   "outputs": [
    {
     "name": "stdout",
     "output_type": "stream",
     "text": [
      "Sunil\n"
     ]
    }
   ],
   "source": [
    "houses = [\"Nag\", \"Bharathi\", \"Tarun\", \"Sunil\"]\n",
    "print(houses[3])"
   ]
  },
  {
   "cell_type": "code",
   "execution_count": 15,
   "id": "d1cc17c0",
   "metadata": {},
   "outputs": [
    {
     "name": "stdout",
     "output_type": "stream",
     "text": [
      "Tarun\n"
     ]
    }
   ],
   "source": [
    "print(houses[2])"
   ]
  },
  {
   "cell_type": "code",
   "execution_count": 16,
   "id": "76edb4b7",
   "metadata": {},
   "outputs": [
    {
     "name": "stdout",
     "output_type": "stream",
     "text": [
      "Tarun\n"
     ]
    }
   ],
   "source": [
    "house_3_name = houses[2]\n",
    "print(house_3_name)"
   ]
  },
  {
   "cell_type": "code",
   "execution_count": 17,
   "id": "479612f8",
   "metadata": {},
   "outputs": [
    {
     "name": "stdout",
     "output_type": "stream",
     "text": [
      "Bharathi\n"
     ]
    }
   ],
   "source": [
    "print(houses[-3])"
   ]
  },
  {
   "cell_type": "code",
   "execution_count": 18,
   "id": "37e52233",
   "metadata": {},
   "outputs": [
    {
     "name": "stdout",
     "output_type": "stream",
     "text": [
      "['Nag', 'Bharathi', 'Tarun', 'Sunil']\n"
     ]
    }
   ],
   "source": [
    "print(houses)"
   ]
  },
  {
   "cell_type": "code",
   "execution_count": 19,
   "id": "00f78c50",
   "metadata": {},
   "outputs": [
    {
     "ename": "IndexError",
     "evalue": "list index out of range",
     "output_type": "error",
     "traceback": [
      "\u001b[1;31m---------------------------------------------------------------------------\u001b[0m",
      "\u001b[1;31mIndexError\u001b[0m                                Traceback (most recent call last)",
      "Input \u001b[1;32mIn [19]\u001b[0m, in \u001b[0;36m<cell line: 1>\u001b[1;34m()\u001b[0m\n\u001b[1;32m----> 1\u001b[0m \u001b[38;5;28mprint\u001b[39m(\u001b[43mhouses\u001b[49m\u001b[43m[\u001b[49m\u001b[38;5;241;43m-\u001b[39;49m\u001b[38;5;241;43m6\u001b[39;49m\u001b[43m]\u001b[49m)\n",
      "\u001b[1;31mIndexError\u001b[0m: list index out of range"
     ]
    }
   ],
   "source": [
    "print(houses[-6])"
   ]
  },
  {
   "cell_type": "code",
   "execution_count": 20,
   "id": "ece17e08",
   "metadata": {},
   "outputs": [
    {
     "name": "stdout",
     "output_type": "stream",
     "text": [
      "['Nag', 'Bharathi', 'Tarun', 'likhita']\n"
     ]
    }
   ],
   "source": [
    "houses[3] = \"likhita\"\n",
    "print(houses)"
   ]
  },
  {
   "cell_type": "code",
   "execution_count": 21,
   "id": "55027c8c",
   "metadata": {},
   "outputs": [],
   "source": [
    "veg = [\"tomato\", 60.5, \"cucumber\", 50, \"potato\", 60]"
   ]
  },
  {
   "cell_type": "markdown",
   "id": "3f6dcda6",
   "metadata": {},
   "source": [
    "# slicing"
   ]
  },
  {
   "cell_type": "raw",
   "id": "55de955f",
   "metadata": {},
   "source": [
    "1. starting index(default 0)\n",
    "2. end index(default ---> length of the list)\n",
    "3. step size(default 1)\n",
    "[SI:EI:SS]\n",
    "list slicing is used to get the multiple values at a time. The outcome of list slicing is always a list"
   ]
  },
  {
   "cell_type": "code",
   "execution_count": 22,
   "id": "384b178c",
   "metadata": {},
   "outputs": [
    {
     "name": "stdout",
     "output_type": "stream",
     "text": [
      "[60.5, 'potato']\n"
     ]
    }
   ],
   "source": [
    "print(veg[1:5:3])"
   ]
  },
  {
   "cell_type": "code",
   "execution_count": 23,
   "id": "1edd6918",
   "metadata": {},
   "outputs": [
    {
     "name": "stdout",
     "output_type": "stream",
     "text": [
      "['tomato', 60.5, 'cucumber', 50, 'potato', 60]\n"
     ]
    }
   ],
   "source": [
    "print(veg)"
   ]
  },
  {
   "cell_type": "code",
   "execution_count": 24,
   "id": "80a0f428",
   "metadata": {},
   "outputs": [
    {
     "name": "stdout",
     "output_type": "stream",
     "text": [
      "[60.5, 'cucumber', 50]\n"
     ]
    }
   ],
   "source": [
    "print(veg[1:4])"
   ]
  },
  {
   "cell_type": "code",
   "execution_count": 25,
   "id": "43de20e0",
   "metadata": {},
   "outputs": [
    {
     "name": "stdout",
     "output_type": "stream",
     "text": [
      "[60.5, 50, 60]\n"
     ]
    }
   ],
   "source": [
    "print(veg[1::2])"
   ]
  },
  {
   "cell_type": "code",
   "execution_count": 26,
   "id": "cc5383ff",
   "metadata": {},
   "outputs": [
    {
     "name": "stdout",
     "output_type": "stream",
     "text": [
      "['tomato', 'cucumber', 'potato']\n"
     ]
    }
   ],
   "source": [
    "print(veg[::2])"
   ]
  },
  {
   "cell_type": "code",
   "execution_count": 27,
   "id": "b7df0d7c",
   "metadata": {},
   "outputs": [
    {
     "name": "stdout",
     "output_type": "stream",
     "text": [
      "[60.5, 50, 60]\n"
     ]
    }
   ],
   "source": [
    "veg = [\"tomato\", 60.5, 100, \"cucumber\", 50, 190, \"potato\", 60, 500 ]\n",
    "print(veg[1::3])"
   ]
  },
  {
   "cell_type": "code",
   "execution_count": 28,
   "id": "7147e89b",
   "metadata": {},
   "outputs": [
    {
     "name": "stdout",
     "output_type": "stream",
     "text": [
      "[]\n"
     ]
    }
   ],
   "source": [
    "print(veg[5:2])"
   ]
  },
  {
   "cell_type": "code",
   "execution_count": 29,
   "id": "4d588a03",
   "metadata": {},
   "outputs": [
    {
     "name": "stdout",
     "output_type": "stream",
     "text": [
      "[190, 50, 'cucumber']\n"
     ]
    }
   ],
   "source": [
    "print(veg[5:2:-1])"
   ]
  },
  {
   "cell_type": "code",
   "execution_count": 30,
   "id": "03d924da",
   "metadata": {},
   "outputs": [
    {
     "name": "stdout",
     "output_type": "stream",
     "text": [
      "9\n"
     ]
    }
   ],
   "source": [
    "print(len(veg))"
   ]
  },
  {
   "cell_type": "code",
   "execution_count": 31,
   "id": "220029f5",
   "metadata": {},
   "outputs": [],
   "source": [
    "l = [10, 20, 30]"
   ]
  },
  {
   "cell_type": "raw",
   "id": "3a99b8e8",
   "metadata": {},
   "source": [
    "for <var> in <seq>:\n",
    "    st1\n",
    "    st2\n",
    "    |\n",
    "    |\n",
    "    st2\n",
    "for each element in the sequence, it executes all the statements\n",
    "it takes one by one element from sequence, assigns the element value to variable and the execute the statements"
   ]
  },
  {
   "cell_type": "code",
   "execution_count": 32,
   "id": "63075b8c",
   "metadata": {},
   "outputs": [
    {
     "name": "stdout",
     "output_type": "stream",
     "text": [
      "10\n",
      "12\n",
      "20\n",
      "22\n",
      "30\n",
      "32\n"
     ]
    }
   ],
   "source": [
    "for x in l:\n",
    "    print(x)\n",
    "    b = x+2\n",
    "    print(b)"
   ]
  },
  {
   "cell_type": "code",
   "execution_count": 33,
   "id": "786152d1",
   "metadata": {},
   "outputs": [],
   "source": [
    "veg = [\"tomato\", 60.5, 100, \"cucumber\", 50, 190, \"potato\", 60, 500 ]"
   ]
  },
  {
   "cell_type": "code",
   "execution_count": null,
   "id": "91fa2409",
   "metadata": {},
   "outputs": [],
   "source": []
  }
 ],
 "metadata": {
  "kernelspec": {
   "display_name": "Python 3 (ipykernel)",
   "language": "python",
   "name": "python3"
  },
  "language_info": {
   "codemirror_mode": {
    "name": "ipython",
    "version": 3
   },
   "file_extension": ".py",
   "mimetype": "text/x-python",
   "name": "python",
   "nbconvert_exporter": "python",
   "pygments_lexer": "ipython3",
   "version": "3.10.5"
  }
 },
 "nbformat": 4,
 "nbformat_minor": 5
}
