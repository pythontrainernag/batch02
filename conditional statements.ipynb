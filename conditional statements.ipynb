{
 "cells": [
  {
   "cell_type": "raw",
   "id": "2ab98ee0",
   "metadata": {},
   "source": [
    "wherever we use the relational operators, we can consider it as a condition\n",
    "But while coming to python, anything that outputs boolean as a result is called condition"
   ]
  },
  {
   "cell_type": "raw",
   "id": "88ce817c",
   "metadata": {},
   "source": [
    "5\n",
    "2 > 3\n",
    "5 == 7\n",
    "10.5"
   ]
  },
  {
   "cell_type": "code",
   "execution_count": 1,
   "id": "6b14b545",
   "metadata": {},
   "outputs": [
    {
     "name": "stdout",
     "output_type": "stream",
     "text": [
      "False\n"
     ]
    }
   ],
   "source": [
    "print(bool(0.0))"
   ]
  },
  {
   "cell_type": "code",
   "execution_count": 2,
   "id": "041601ce",
   "metadata": {},
   "outputs": [
    {
     "name": "stdout",
     "output_type": "stream",
     "text": [
      "True\n"
     ]
    }
   ],
   "source": [
    "print(bool(0.1))"
   ]
  },
  {
   "cell_type": "markdown",
   "id": "09da13fb",
   "metadata": {},
   "source": [
    "# 1. execute block of statements only if condition satisfies"
   ]
  },
  {
   "cell_type": "raw",
   "id": "4c53e860",
   "metadata": {},
   "source": [
    "person1_height = 5.4\n",
    "person2_height = 5.9\n"
   ]
  },
  {
   "cell_type": "raw",
   "id": "0cc0eccc",
   "metadata": {},
   "source": [
    "if <condition>:\n",
    "    st1\n",
    "    st2\n",
    "    |\n",
    "    |\n",
    "    |\n",
    "    stn"
   ]
  },
  {
   "cell_type": "code",
   "execution_count": 3,
   "id": "16f4fbeb",
   "metadata": {},
   "outputs": [],
   "source": [
    "person1_height = 5.4\n",
    "person2_height = 5.9\n",
    "if person1_height > person2_height:\n",
    "    print(\"person1 is taller\")\n"
   ]
  },
  {
   "cell_type": "code",
   "execution_count": 4,
   "id": "e1bea18e",
   "metadata": {},
   "outputs": [
    {
     "name": "stdout",
     "output_type": "stream",
     "text": [
      "person2 is taller\n"
     ]
    }
   ],
   "source": [
    "if person2_height > person1_height:\n",
    "    print(\"person2 is taller\")"
   ]
  },
  {
   "cell_type": "code",
   "execution_count": 6,
   "id": "3d28060f",
   "metadata": {},
   "outputs": [
    {
     "name": "stdout",
     "output_type": "stream",
     "text": [
      "enter person1 height: 5.2\n",
      "enter person2 height: 5.7\n",
      "person2 is taller\n"
     ]
    }
   ],
   "source": [
    "person1_height = float(input(\"enter person1 height: \"))\n",
    "person2_height = float(input(\"enter person2 height: \"))\n",
    "if person1_height > person2_height:\n",
    "    print(\"person1 is taller\")\n",
    "if person2_height > person1_height:\n",
    "    print(\"person2 is taller\")"
   ]
  },
  {
   "cell_type": "code",
   "execution_count": 8,
   "id": "cd1eb0a6",
   "metadata": {},
   "outputs": [
    {
     "ename": "IndentationError",
     "evalue": "unindent does not match any outer indentation level (<tokenize>, line 5)",
     "output_type": "error",
     "traceback": [
      "\u001b[1;36m  File \u001b[1;32m<tokenize>:5\u001b[1;36m\u001b[0m\n\u001b[1;33m    print(\"hello\")\u001b[0m\n\u001b[1;37m    ^\u001b[0m\n\u001b[1;31mIndentationError\u001b[0m\u001b[1;31m:\u001b[0m unindent does not match any outer indentation level\n"
     ]
    }
   ],
   "source": [
    "a = 10\n",
    "b = 20\n",
    "if a > b:\n",
    "    b = b+20\n",
    "  print(\"hello\")\n",
    "    print(b)"
   ]
  },
  {
   "cell_type": "code",
   "execution_count": 9,
   "id": "5d00e17a",
   "metadata": {},
   "outputs": [],
   "source": [
    "a = 10\n",
    "b = 20\n",
    "if a > b:\n",
    "    b = b+20\n",
    "    print(\"hello\")\n",
    "    print(b)"
   ]
  },
  {
   "cell_type": "code",
   "execution_count": 10,
   "id": "84ff2875",
   "metadata": {},
   "outputs": [
    {
     "name": "stdout",
     "output_type": "stream",
     "text": [
      "20\n"
     ]
    }
   ],
   "source": [
    "a = 10\n",
    "b = 20\n",
    "if a > b:\n",
    "    b = b+20\n",
    "    print(\"hello\")\n",
    "print(b)\n",
    "print(\"python\")"
   ]
  },
  {
   "cell_type": "code",
   "execution_count": 15,
   "id": "f7708742",
   "metadata": {},
   "outputs": [
    {
     "ename": "IndentationError",
     "evalue": "unexpected indent (2666722593.py, line 6)",
     "output_type": "error",
     "traceback": [
      "\u001b[1;36m  Input \u001b[1;32mIn [15]\u001b[1;36m\u001b[0m\n\u001b[1;33m    print(b)\u001b[0m\n\u001b[1;37m    ^\u001b[0m\n\u001b[1;31mIndentationError\u001b[0m\u001b[1;31m:\u001b[0m unexpected indent\n"
     ]
    }
   ],
   "source": [
    "a = 10\n",
    "b = 20\n",
    "if a > b:\n",
    "    b = b+20\n",
    "print(\"hello\")\n",
    "    print(b)"
   ]
  },
  {
   "cell_type": "code",
   "execution_count": 12,
   "id": "b28f9d6b",
   "metadata": {},
   "outputs": [
    {
     "ename": "NameError",
     "evalue": "name 'f' is not defined",
     "output_type": "error",
     "traceback": [
      "\u001b[1;31m---------------------------------------------------------------------------\u001b[0m",
      "\u001b[1;31mNameError\u001b[0m                                 Traceback (most recent call last)",
      "Input \u001b[1;32mIn [12]\u001b[0m, in \u001b[0;36m<cell line: 1>\u001b[1;34m()\u001b[0m\n\u001b[1;32m----> 1\u001b[0m \u001b[38;5;28mprint\u001b[39m(\u001b[43mf\u001b[49m)\n",
      "\u001b[1;31mNameError\u001b[0m: name 'f' is not defined"
     ]
    }
   ],
   "source": [
    "print(f)"
   ]
  },
  {
   "cell_type": "code",
   "execution_count": 13,
   "id": "451cb9ea",
   "metadata": {},
   "outputs": [
    {
     "ename": "NameError",
     "evalue": "name 'e' is not defined",
     "output_type": "error",
     "traceback": [
      "\u001b[1;31m---------------------------------------------------------------------------\u001b[0m",
      "\u001b[1;31mNameError\u001b[0m                                 Traceback (most recent call last)",
      "Input \u001b[1;32mIn [13]\u001b[0m, in \u001b[0;36m<cell line: 1>\u001b[1;34m()\u001b[0m\n\u001b[1;32m----> 1\u001b[0m c \u001b[38;5;241m=\u001b[39m \u001b[43me\u001b[49m\u001b[38;5;241m+\u001b[39m\u001b[38;5;241m20\u001b[39m\n",
      "\u001b[1;31mNameError\u001b[0m: name 'e' is not defined"
     ]
    }
   ],
   "source": [
    "c = e+20"
   ]
  },
  {
   "cell_type": "code",
   "execution_count": 14,
   "id": "58993896",
   "metadata": {},
   "outputs": [
    {
     "name": "stdout",
     "output_type": "stream",
     "text": [
      "person2 is taller\n"
     ]
    }
   ],
   "source": [
    "if person1_height < person2_height:\n",
    "    print(\"person2 is taller\")"
   ]
  },
  {
   "cell_type": "code",
   "execution_count": 16,
   "id": "6a22f739",
   "metadata": {},
   "outputs": [],
   "source": [
    "    a = 20"
   ]
  },
  {
   "cell_type": "raw",
   "id": "dc8bc200",
   "metadata": {},
   "source": [
    "swap 2 variables in following ways \n",
    "i. using arthematic operator\n",
    "ii. using temporary variable\n",
    "iii. in pythonic way(assignment way)\n",
    "a = 20\n",
    "b = 30 \n",
    "======>\n",
    "a --> 30\n",
    "b --> 20"
   ]
  },
  {
   "cell_type": "raw",
   "id": "0807f3dc",
   "metadata": {},
   "source": [
    "read the tomato price from user.\n",
    "if price is greater than 50 then increase the price(margin value) by 20% and print final price\n",
    "if price is less than 50 then increase the price(margin value) by 40% and print final price\n",
    "price = 20 ---> 26\n",
    "price = 80 ---> 96"
   ]
  },
  {
   "cell_type": "raw",
   "id": "81648d97",
   "metadata": {},
   "source": [
    "read two values from the console. if first value is greater the second one the multiply first with second and print the result\n",
    "otherwise multiply the second value by 2 and print the result."
   ]
  },
  {
   "cell_type": "code",
   "execution_count": 1,
   "id": "aba4e5ff",
   "metadata": {},
   "outputs": [
    {
     "name": "stdout",
     "output_type": "stream",
     "text": [
      "enter first value: 8\n",
      "enter second value: 4\n",
      "result is 32\n"
     ]
    }
   ],
   "source": [
    "a = int(input(\"enter first value: \"))\n",
    "b = int(input(\"enter second value: \"))\n",
    "if a>b:\n",
    "    c = a*b\n",
    "    print(\"result is\", c)\n",
    "if b>a:\n",
    "    c = b*2\n",
    "    print(\"result is\", c)"
   ]
  },
  {
   "cell_type": "code",
   "execution_count": 1,
   "id": "ceb6164e",
   "metadata": {},
   "outputs": [
    {
     "name": "stdout",
     "output_type": "stream",
     "text": [
      "enter first value: 5\n",
      "enter second value: 15\n",
      "greater value is  15\n"
     ]
    }
   ],
   "source": [
    "a = int(input(\"enter first value: \"))\n",
    "b = int(input(\"enter second value: \"))\n",
    "if a>b:\n",
    "    print(\"greater value is \", a)\n",
    "if b>a:\n",
    "    print(\"greater value is \", b)"
   ]
  },
  {
   "cell_type": "code",
   "execution_count": 2,
   "id": "2e38d882",
   "metadata": {},
   "outputs": [
    {
     "name": "stdout",
     "output_type": "stream",
     "text": [
      "enter first value: 8\n",
      "enter second value: 9\n",
      "result is 18\n"
     ]
    }
   ],
   "source": [
    "a = int(input(\"enter first value: \"))\n",
    "b = int(input(\"enter second value: \"))\n",
    "if a>b:\n",
    "    c = a*b\n",
    "    print(\"result is\", c)\n",
    "if b>a:\n",
    "    c = b*2\n",
    "    print(\"result is\", c)"
   ]
  },
  {
   "cell_type": "code",
   "execution_count": 2,
   "id": "2bb25028",
   "metadata": {},
   "outputs": [
    {
     "name": "stdout",
     "output_type": "stream",
     "text": [
      "enter first value: 15\n",
      "enter second value: 20\n",
      "result is 40\n"
     ]
    }
   ],
   "source": [
    "a = int(input(\"enter first value: \"))\n",
    "b = int(input(\"enter second value: \"))\n",
    "if a>b:\n",
    "  c = a*b\n",
    "  print(\"result is\", c)\n",
    "if b>a:\n",
    "    c = b*2\n",
    "    print(\"result is\", c)"
   ]
  },
  {
   "cell_type": "markdown",
   "id": "ebdaf398",
   "metadata": {},
   "source": [
    "# 2. execute block of statements if condition satisfies otherwise execute alternative block of statements\n",
    "\n",
    "Here we will be introducing else keyword"
   ]
  },
  {
   "cell_type": "raw",
   "id": "c585ecf5",
   "metadata": {},
   "source": [
    "if <condition>:\n",
    "    ist1\n",
    "    ist2\n",
    "    |\n",
    "    |\n",
    "    istn\n",
    "else:\n",
    "    est1\n",
    "    est2\n",
    "    |\n",
    "    |\n",
    "    estn"
   ]
  },
  {
   "cell_type": "raw",
   "id": "4bd64822",
   "metadata": {},
   "source": [
    "if <condition>:\n",
    "    ist1\n",
    "    ist2\n",
    "    |\n",
    "    |\n",
    "    istn\n",
    "print(\"hello\") # invalid\n",
    "else:\n",
    "    est1\n",
    "    est2\n",
    "    |\n",
    "    |\n",
    "    estn"
   ]
  },
  {
   "cell_type": "code",
   "execution_count": 5,
   "id": "9bcc6033",
   "metadata": {},
   "outputs": [
    {
     "name": "stdout",
     "output_type": "stream",
     "text": [
      "enter first value: 15\n",
      "enter second value: 20\n",
      "result is 40\n"
     ]
    }
   ],
   "source": [
    "a = int(input(\"enter first value: \"))\n",
    "b = int(input(\"enter second value: \"))\n",
    "if a>b:\n",
    "    c = a*b\n",
    "    print(\"result is\", c)\n",
    "else:\n",
    "    c = b*2\n",
    "    print(\"result is\", c)"
   ]
  },
  {
   "cell_type": "code",
   "execution_count": 6,
   "id": "8eaa2649",
   "metadata": {},
   "outputs": [
    {
     "name": "stdout",
     "output_type": "stream",
     "text": [
      "enter first value: 8\n",
      "enter second value: 9\n",
      "result is 18\n"
     ]
    }
   ],
   "source": [
    "a = int(input(\"enter first value: \"))\n",
    "b = int(input(\"enter second value: \"))\n",
    "if a>b:\n",
    "    c = a*b\n",
    "    print(\"result is\", c)\n",
    "else:\n",
    "    c = b*2\n",
    "    print(\"result is\", c)"
   ]
  },
  {
   "cell_type": "markdown",
   "id": "2e42197c",
   "metadata": {},
   "source": [
    "# 3. using compound conditions"
   ]
  },
  {
   "cell_type": "raw",
   "id": "8db1fab3",
   "metadata": {},
   "source": [
    "we use binary logical operators to combine the condition"
   ]
  },
  {
   "cell_type": "code",
   "execution_count": 7,
   "id": "04e56785",
   "metadata": {},
   "outputs": [
    {
     "name": "stdout",
     "output_type": "stream",
     "text": [
      "enter first value: 10\n",
      "enter second value: 15\n",
      "enter third value: 13\n",
      "second value is greatest\n"
     ]
    }
   ],
   "source": [
    "# a, b, c\n",
    "a = int(input(\"enter first value: \"))\n",
    "b = int(input(\"enter second value: \"))\n",
    "c = int(input(\"enter third value: \"))\n",
    "if a>b and a>c:\n",
    "    print(\"first value grestest\")\n",
    "if b>a and b>c:\n",
    "    print(\"second value is greatest\")\n",
    "if c>a and c>b:\n",
    "    print(\"third value is greatest\")"
   ]
  },
  {
   "cell_type": "code",
   "execution_count": 8,
   "id": "225c6b2f",
   "metadata": {},
   "outputs": [
    {
     "name": "stdout",
     "output_type": "stream",
     "text": [
      "enter first value: 8\n",
      "enter second value: 10\n",
      "enter third value: 13\n",
      "second value is greatest\n",
      "third value is greatest\n"
     ]
    }
   ],
   "source": [
    "# a, b, c\n",
    "a = int(input(\"enter first value: \"))\n",
    "b = int(input(\"enter second value: \"))\n",
    "c = int(input(\"enter third value: \"))\n",
    "if a>b and a>c:\n",
    "    print(\"first value grestest\")\n",
    "if b>a and b<c:\n",
    "    print(\"second value is greatest\")\n",
    "if c>a and c>b:\n",
    "    print(\"third value is greatest\")"
   ]
  },
  {
   "cell_type": "code",
   "execution_count": 9,
   "id": "e585a9a6",
   "metadata": {},
   "outputs": [
    {
     "name": "stdout",
     "output_type": "stream",
     "text": [
      "enter first value: 8\n",
      "enter second value: 10\n",
      "enter third value: 15\n",
      "second value is greatest\n"
     ]
    }
   ],
   "source": [
    "# a, b, c\n",
    "a = int(input(\"enter first value: \"))\n",
    "b = int(input(\"enter second value: \"))\n",
    "c = int(input(\"enter third value: \"))\n",
    "if a>b and a>c:\n",
    "    print(\"first value grestest\")\n",
    "if b>a and b<c:\n",
    "    print(\"second value is greatest\")\n",
    "if c>a and c<b:\n",
    "    print(\"third value is greatest\")"
   ]
  },
  {
   "cell_type": "markdown",
   "id": "2e107e9c",
   "metadata": {},
   "source": [
    "# 4. Maintaining multiple alternatives\n",
    "\n",
    "here we will be introducing elif keyword"
   ]
  },
  {
   "cell_type": "raw",
   "id": "1bf2f51c",
   "metadata": {},
   "source": [
    "if <condition>:\n",
    "    ist1\n",
    "    |\n",
    "    |\n",
    "    |\n",
    "    istn\n",
    "elif <condition>:\n",
    "    st1\n",
    "    |\n",
    "    |\n",
    "    stn\n",
    "|\n",
    "|\n",
    "|\n",
    "elif <condition>:\n",
    "    st1\n",
    "    st2\n",
    "    |\n",
    "    |\n",
    "    stn\n",
    "else: # it is not required to else always\n",
    "    st1\n",
    "    st2\n",
    "    |\n",
    "    |\n",
    "    stn"
   ]
  },
  {
   "cell_type": "code",
   "execution_count": 10,
   "id": "5b28993d",
   "metadata": {},
   "outputs": [
    {
     "name": "stdout",
     "output_type": "stream",
     "text": [
      "enter first value: 10\n",
      "enter second value: 13\n",
      "enter third value: 12\n",
      "second value is greatest\n"
     ]
    }
   ],
   "source": [
    "# a, b, c\n",
    "a = int(input(\"enter first value: \"))\n",
    "b = int(input(\"enter second value: \"))\n",
    "c = int(input(\"enter third value: \"))\n",
    "if a>b and a>c:\n",
    "    print(\"first value grestest\")\n",
    "elif b>a and b>c:\n",
    "    print(\"second value is greatest\")\n",
    "elif c>a and c>b:\n",
    "    print(\"third value is greatest\")"
   ]
  },
  {
   "cell_type": "code",
   "execution_count": 11,
   "id": "4f9eb0cb",
   "metadata": {},
   "outputs": [
    {
     "name": "stdout",
     "output_type": "stream",
     "text": [
      "enter first value: 10\n",
      "enter second value: 15\n",
      "enter third value: 12\n",
      "second value is greatest\n"
     ]
    }
   ],
   "source": [
    "# a, b, c\n",
    "a = int(input(\"enter first value: \"))\n",
    "b = int(input(\"enter second value: \"))\n",
    "c = int(input(\"enter third value: \"))\n",
    "if a>b and a>c:\n",
    "    print(\"first value grestest\")\n",
    "elif b>c:\n",
    "    print(\"second value is greatest\")\n",
    "else:\n",
    "    print(\"third value is greatest\")"
   ]
  },
  {
   "cell_type": "markdown",
   "id": "29343ba5",
   "metadata": {},
   "source": [
    "# 5. nested ifs"
   ]
  },
  {
   "cell_type": "code",
   "execution_count": 12,
   "id": "8561487f",
   "metadata": {},
   "outputs": [],
   "source": [
    "# card valid yes/no\n",
    "# pin 1234 ---> valid\n",
    "# <1500 ---> valid and multiples of 100\n"
   ]
  },
  {
   "cell_type": "code",
   "execution_count": 13,
   "id": "3e03c1cc",
   "metadata": {},
   "outputs": [
    {
     "name": "stdout",
     "output_type": "stream",
     "text": [
      "insert the card? yes\n",
      "enter your pin: 1235\n",
      "invalid pin\n"
     ]
    }
   ],
   "source": [
    "card_valid = input(\"insert the card? \")\n",
    "if card_valid == \"yes\":\n",
    "    pin = int(input(\"enter your pin: \"))\n",
    "    if pin == 1234:\n",
    "        amount = int(input(\"enter amount \"))\n",
    "        if amount <= 1500 and amount%100 == 0:\n",
    "            print(\"You have withdrawn amount\")\n",
    "        else:\n",
    "            print(\"invalid\")        \n",
    "    else:\n",
    "        print(\"invalid pin\")\n",
    "else:\n",
    "    print(\"invalid card\")"
   ]
  },
  {
   "cell_type": "code",
   "execution_count": 14,
   "id": "1f7aebc4",
   "metadata": {},
   "outputs": [
    {
     "name": "stdout",
     "output_type": "stream",
     "text": [
      "insert the card? no\n",
      "invalid card\n"
     ]
    }
   ],
   "source": [
    "card_valid = input(\"insert the card? \")\n",
    "if card_valid == \"yes\":\n",
    "    pin = int(input(\"enter your pin: \"))\n",
    "    if pin == 1234:\n",
    "        amount = int(input(\"enter amount \"))\n",
    "        if amount <= 1500 and amount%100 == 0:\n",
    "            print(\"You have withdrawn amount\")\n",
    "        else:\n",
    "            print(\"invalid\")        \n",
    "    else:\n",
    "        print(\"invalid pin\")\n",
    "else:\n",
    "    print(\"invalid card\")"
   ]
  },
  {
   "cell_type": "code",
   "execution_count": 15,
   "id": "73da4c97",
   "metadata": {},
   "outputs": [
    {
     "name": "stdout",
     "output_type": "stream",
     "text": [
      "insert the card? yes\n",
      "enter your pin: 1234\n",
      "enter amount 1300\n",
      "You have withdrawn amount\n"
     ]
    }
   ],
   "source": [
    "card_valid = input(\"insert the card? \")\n",
    "if card_valid == \"yes\":\n",
    "    pin = int(input(\"enter your pin: \"))\n",
    "    if pin == 1234:\n",
    "        amount = int(input(\"enter amount \"))\n",
    "        if amount <= 1500 and amount%100 == 0:\n",
    "            print(\"You have withdrawn amount\")\n",
    "        else:\n",
    "            print(\"invalid\")        \n",
    "    else:\n",
    "        print(\"invalid pin\")\n",
    "else:\n",
    "    print(\"invalid card\")"
   ]
  },
  {
   "cell_type": "code",
   "execution_count": 16,
   "id": "688dadb6",
   "metadata": {},
   "outputs": [
    {
     "name": "stdout",
     "output_type": "stream",
     "text": [
      "insert the card? yes\n",
      "enter your pin: 1234\n",
      "enter amount 1300\n",
      "You have withdrawn the amount\n"
     ]
    }
   ],
   "source": [
    "card_valid = input(\"insert the card? \")\n",
    "pin = int(input(\"enter your pin: \"))\n",
    "amount = int(input(\"enter amount \"))\n",
    "if card_valid == \"yes\" and pin == 1234 and amount <= 1500 and amount%100 == 0:\n",
    "    print(\"You have withdrawn the amount\")\n",
    "else:\n",
    "    print(\"invalid\")\n"
   ]
  },
  {
   "cell_type": "code",
   "execution_count": null,
   "id": "086ddac4",
   "metadata": {},
   "outputs": [],
   "source": []
  }
 ],
 "metadata": {
  "kernelspec": {
   "display_name": "Python 3 (ipykernel)",
   "language": "python",
   "name": "python3"
  },
  "language_info": {
   "codemirror_mode": {
    "name": "ipython",
    "version": 3
   },
   "file_extension": ".py",
   "mimetype": "text/x-python",
   "name": "python",
   "nbconvert_exporter": "python",
   "pygments_lexer": "ipython3",
   "version": "3.10.8"
  }
 },
 "nbformat": 4,
 "nbformat_minor": 5
}
