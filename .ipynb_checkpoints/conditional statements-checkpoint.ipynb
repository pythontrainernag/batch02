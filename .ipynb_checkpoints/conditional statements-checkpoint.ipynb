{
 "cells": [
  {
   "cell_type": "raw",
   "id": "9eab94c7",
   "metadata": {},
   "source": [
    "wherever we use the relational operators, we can consider it as a condition\n",
    "But while coming to python, anything that outputs boolean as a result is called condition"
   ]
  },
  {
   "cell_type": "raw",
   "id": "b1fb7c60",
   "metadata": {},
   "source": [
    "5\n",
    "2 > 3\n",
    "5 == 7\n",
    "10.5"
   ]
  },
  {
   "cell_type": "code",
   "execution_count": 1,
   "id": "6ac2bd63",
   "metadata": {},
   "outputs": [
    {
     "name": "stdout",
     "output_type": "stream",
     "text": [
      "False\n"
     ]
    }
   ],
   "source": [
    "print(bool(0.0))"
   ]
  },
  {
   "cell_type": "code",
   "execution_count": 2,
   "id": "ec64f001",
   "metadata": {},
   "outputs": [
    {
     "name": "stdout",
     "output_type": "stream",
     "text": [
      "True\n"
     ]
    }
   ],
   "source": [
    "print(bool(0.1))"
   ]
  },
  {
   "cell_type": "markdown",
   "id": "2cb1e479",
   "metadata": {},
   "source": [
    "# 1. execute block of statements only if condition satisfies"
   ]
  },
  {
   "cell_type": "raw",
   "id": "74871479",
   "metadata": {},
   "source": [
    "person1_height = 5.4\n",
    "person2_height = 5.9\n"
   ]
  },
  {
   "cell_type": "raw",
   "id": "b3ab50e3",
   "metadata": {},
   "source": [
    "if <condition>:\n",
    "    st1\n",
    "    st2\n",
    "    |\n",
    "    |\n",
    "    |\n",
    "    stn"
   ]
  },
  {
   "cell_type": "code",
   "execution_count": 3,
   "id": "238e757e",
   "metadata": {},
   "outputs": [],
   "source": [
    "person1_height = 5.4\n",
    "person2_height = 5.9\n",
    "if person1_height > person2_height:\n",
    "    print(\"person1 is taller\")\n"
   ]
  },
  {
   "cell_type": "code",
   "execution_count": 4,
   "id": "7d24f742",
   "metadata": {},
   "outputs": [
    {
     "name": "stdout",
     "output_type": "stream",
     "text": [
      "person2 is taller\n"
     ]
    }
   ],
   "source": [
    "if person2_height > person1_height:\n",
    "    print(\"person2 is taller\")"
   ]
  },
  {
   "cell_type": "code",
   "execution_count": 6,
   "id": "4945564b",
   "metadata": {},
   "outputs": [
    {
     "name": "stdout",
     "output_type": "stream",
     "text": [
      "enter person1 height: 5.2\n",
      "enter person2 height: 5.7\n",
      "person2 is taller\n"
     ]
    }
   ],
   "source": [
    "person1_height = float(input(\"enter person1 height: \"))\n",
    "person2_height = float(input(\"enter person2 height: \"))\n",
    "if person1_height > person2_height:\n",
    "    print(\"person1 is taller\")\n",
    "if person2_height > person1_height:\n",
    "    print(\"person2 is taller\")"
   ]
  },
  {
   "cell_type": "code",
   "execution_count": 8,
   "id": "ea58ebad",
   "metadata": {},
   "outputs": [
    {
     "ename": "IndentationError",
     "evalue": "unindent does not match any outer indentation level (<tokenize>, line 5)",
     "output_type": "error",
     "traceback": [
      "\u001b[1;36m  File \u001b[1;32m<tokenize>:5\u001b[1;36m\u001b[0m\n\u001b[1;33m    print(\"hello\")\u001b[0m\n\u001b[1;37m    ^\u001b[0m\n\u001b[1;31mIndentationError\u001b[0m\u001b[1;31m:\u001b[0m unindent does not match any outer indentation level\n"
     ]
    }
   ],
   "source": [
    "a = 10\n",
    "b = 20\n",
    "if a > b:\n",
    "    b = b+20\n",
    "  print(\"hello\")\n",
    "    print(b)"
   ]
  },
  {
   "cell_type": "code",
   "execution_count": 9,
   "id": "ccc2107e",
   "metadata": {},
   "outputs": [],
   "source": [
    "a = 10\n",
    "b = 20\n",
    "if a > b:\n",
    "    b = b+20\n",
    "    print(\"hello\")\n",
    "    print(b)"
   ]
  },
  {
   "cell_type": "code",
   "execution_count": 10,
   "id": "4752aca6",
   "metadata": {},
   "outputs": [
    {
     "name": "stdout",
     "output_type": "stream",
     "text": [
      "20\n"
     ]
    }
   ],
   "source": [
    "a = 10\n",
    "b = 20\n",
    "if a > b:\n",
    "    b = b+20\n",
    "    print(\"hello\")\n",
    "print(b)"
   ]
  },
  {
   "cell_type": "code",
   "execution_count": null,
   "id": "2e335437",
   "metadata": {},
   "outputs": [],
   "source": []
  }
 ],
 "metadata": {
  "kernelspec": {
   "display_name": "Python 3 (ipykernel)",
   "language": "python",
   "name": "python3"
  },
  "language_info": {
   "codemirror_mode": {
    "name": "ipython",
    "version": 3
   },
   "file_extension": ".py",
   "mimetype": "text/x-python",
   "name": "python",
   "nbconvert_exporter": "python",
   "pygments_lexer": "ipython3",
   "version": "3.10.5"
  }
 },
 "nbformat": 4,
 "nbformat_minor": 5
}
