{
 "cells": [
  {
   "cell_type": "raw",
   "id": "001db26b",
   "metadata": {},
   "source": [
    "we will define the strings either in single quotes or double quotes. A string is a ordered group of ASCII characters"
   ]
  },
  {
   "cell_type": "code",
   "execution_count": 1,
   "id": "104e7442",
   "metadata": {},
   "outputs": [
    {
     "name": "stdout",
     "output_type": "stream",
     "text": [
      "<class 'str'>\n"
     ]
    }
   ],
   "source": [
    "a = '123'\n",
    "print(type(a))"
   ]
  },
  {
   "cell_type": "code",
   "execution_count": 2,
   "id": "a3c9b211",
   "metadata": {},
   "outputs": [
    {
     "ename": "NameError",
     "evalue": "name 'python' is not defined",
     "output_type": "error",
     "traceback": [
      "\u001b[1;31m---------------------------------------------------------------------------\u001b[0m",
      "\u001b[1;31mNameError\u001b[0m                                 Traceback (most recent call last)",
      "Input \u001b[1;32mIn [2]\u001b[0m, in \u001b[0;36m<cell line: 1>\u001b[1;34m()\u001b[0m\n\u001b[1;32m----> 1\u001b[0m \u001b[38;5;28mprint\u001b[39m(\u001b[43mpython\u001b[49m)\n",
      "\u001b[1;31mNameError\u001b[0m: name 'python' is not defined"
     ]
    }
   ],
   "source": [
    "print(python)"
   ]
  },
  {
   "cell_type": "code",
   "execution_count": 3,
   "id": "def1475b",
   "metadata": {},
   "outputs": [
    {
     "name": "stdout",
     "output_type": "stream",
     "text": [
      "python\n"
     ]
    }
   ],
   "source": [
    "print('python')"
   ]
  },
  {
   "cell_type": "code",
   "execution_count": 2,
   "id": "5da6ca5f",
   "metadata": {},
   "outputs": [
    {
     "name": "stdout",
     "output_type": "stream",
     "text": [
      "246\n"
     ]
    }
   ],
   "source": [
    "print(123+123)"
   ]
  },
  {
   "cell_type": "code",
   "execution_count": 3,
   "id": "b426c03a",
   "metadata": {},
   "outputs": [
    {
     "name": "stdout",
     "output_type": "stream",
     "text": [
      "123123\n"
     ]
    }
   ],
   "source": [
    "print('123'+'123')"
   ]
  },
  {
   "cell_type": "code",
   "execution_count": 4,
   "id": "9aef5426",
   "metadata": {},
   "outputs": [
    {
     "data": {
      "text/plain": [
       "'day'"
      ]
     },
     "execution_count": 4,
     "metadata": {},
     "output_type": "execute_result"
    }
   ],
   "source": [
    "'day'"
   ]
  },
  {
   "cell_type": "code",
   "execution_count": 5,
   "id": "80aec2f3",
   "metadata": {},
   "outputs": [
    {
     "data": {
      "text/plain": [
       "'day'"
      ]
     },
     "execution_count": 5,
     "metadata": {},
     "output_type": "execute_result"
    }
   ],
   "source": [
    "\"day\""
   ]
  },
  {
   "cell_type": "code",
   "execution_count": 4,
   "id": "850b40c7",
   "metadata": {},
   "outputs": [
    {
     "ename": "SyntaxError",
     "evalue": "unterminated string literal (detected at line 1) (1476233223.py, line 1)",
     "output_type": "error",
     "traceback": [
      "\u001b[1;36m  Input \u001b[1;32mIn [4]\u001b[1;36m\u001b[0m\n\u001b[1;33m    a = 'my father's name is xyz'\u001b[0m\n\u001b[1;37m                                ^\u001b[0m\n\u001b[1;31mSyntaxError\u001b[0m\u001b[1;31m:\u001b[0m unterminated string literal (detected at line 1)\n"
     ]
    }
   ],
   "source": [
    "a = 'my father's name is xyz'"
   ]
  },
  {
   "cell_type": "code",
   "execution_count": 6,
   "id": "bf93dac8",
   "metadata": {},
   "outputs": [
    {
     "name": "stdout",
     "output_type": "stream",
     "text": [
      "my fathers name is xyz\n"
     ]
    }
   ],
   "source": [
    "a = 'my father''s name is xyz'\n",
    "print(a)"
   ]
  },
  {
   "cell_type": "code",
   "execution_count": 7,
   "id": "7ebfaf73",
   "metadata": {},
   "outputs": [
    {
     "name": "stdout",
     "output_type": "stream",
     "text": [
      "my father's name is xyz\n"
     ]
    }
   ],
   "source": [
    "a = \"my father's name is xyz\"\n",
    "print(a)"
   ]
  },
  {
   "cell_type": "code",
   "execution_count": 9,
   "id": "bb2a7c48",
   "metadata": {},
   "outputs": [
    {
     "name": "stdout",
     "output_type": "stream",
     "text": [
      "my father's name is xyz\n"
     ]
    }
   ],
   "source": [
    "a = 'my father\\'s name is xyz'\n",
    "print(a)"
   ]
  },
  {
   "cell_type": "code",
   "execution_count": 1,
   "id": "2b88b45a",
   "metadata": {},
   "outputs": [
    {
     "name": "stdout",
     "output_type": "stream",
     "text": [
      "my father's name \n",
      "is xyz\n"
     ]
    }
   ],
   "source": [
    "a = 'my father\\'s name \\nis xyz'\n",
    "print(a)"
   ]
  },
  {
   "cell_type": "code",
   "execution_count": 2,
   "id": "c21f6fb8",
   "metadata": {},
   "outputs": [
    {
     "name": "stdout",
     "output_type": "stream",
     "text": [
      "my father's name \"\n",
      "\"is xyz\n"
     ]
    }
   ],
   "source": [
    "a = 'my father\\'s name \"\\n\"is xyz'\n",
    "print(a)"
   ]
  },
  {
   "cell_type": "code",
   "execution_count": 3,
   "id": "9e130753",
   "metadata": {},
   "outputs": [
    {
     "name": "stdout",
     "output_type": "stream",
     "text": [
      "my father's name \\nis xyz\n"
     ]
    }
   ],
   "source": [
    "a = 'my father\\'s name \\\\nis xyz'\n",
    "print(a)"
   ]
  },
  {
   "cell_type": "code",
   "execution_count": 4,
   "id": "4e0355f7",
   "metadata": {},
   "outputs": [
    {
     "name": "stdout",
     "output_type": "stream",
     "text": [
      "This is NageswaraRao.\n"
     ]
    }
   ],
   "source": [
    "a = \"This is NageswaraRao.\"\n",
    "\"I teach python.\"\n",
    "print(a)"
   ]
  },
  {
   "cell_type": "code",
   "execution_count": 5,
   "id": "3daebbd7",
   "metadata": {},
   "outputs": [
    {
     "name": "stdout",
     "output_type": "stream",
     "text": [
      "This is NageswaraRao. I teach python.\n"
     ]
    }
   ],
   "source": [
    "a = \"This is NageswaraRao. \\\n",
    "I teach python.\"\n",
    "print(a)"
   ]
  },
  {
   "cell_type": "code",
   "execution_count": 6,
   "id": "7f054cbb",
   "metadata": {},
   "outputs": [
    {
     "name": "stdout",
     "output_type": "stream",
     "text": [
      "(10, 20, 30, 40)\n"
     ]
    }
   ],
   "source": [
    "b = (10, 20,\n",
    "30, 40)\n",
    "print(b)"
   ]
  },
  {
   "cell_type": "code",
   "execution_count": 19,
   "id": "1193c09a",
   "metadata": {},
   "outputs": [
    {
     "name": "stdout",
     "output_type": "stream",
     "text": [
      "(10, 20, 30, 40)\n"
     ]
    }
   ],
   "source": [
    "b = (10, 20 \n",
    ",30, 40)\n",
    "print(b)"
   ]
  },
  {
   "cell_type": "code",
   "execution_count": 7,
   "id": "8cf3c013",
   "metadata": {},
   "outputs": [
    {
     "ename": "SyntaxError",
     "evalue": "unterminated string literal (detected at line 1) (4003197875.py, line 1)",
     "output_type": "error",
     "traceback": [
      "\u001b[1;36m  Input \u001b[1;32mIn [7]\u001b[1;36m\u001b[0m\n\u001b[1;33m    a = \"This is NageswaraRao. \\ \\n\u001b[0m\n\u001b[1;37m        ^\u001b[0m\n\u001b[1;31mSyntaxError\u001b[0m\u001b[1;31m:\u001b[0m unterminated string literal (detected at line 1)\n"
     ]
    }
   ],
   "source": [
    "a = \"This is NageswaraRao. \\ \\n\n",
    "I teach python.\"\n",
    "print(a)"
   ]
  },
  {
   "cell_type": "code",
   "execution_count": 8,
   "id": "6e7cdeba",
   "metadata": {},
   "outputs": [
    {
     "name": "stdout",
     "output_type": "stream",
     "text": [
      "This is NageswaraRao. \n",
      "I teach python.\n"
     ]
    }
   ],
   "source": [
    "a = \"This is NageswaraRao. \\n\\\n",
    "I teach python.\"\n",
    "print(a)"
   ]
  },
  {
   "cell_type": "code",
   "execution_count": 9,
   "id": "6f3224be",
   "metadata": {},
   "outputs": [
    {
     "name": "stdout",
     "output_type": "stream",
     "text": [
      "This is NageswaraRao.\n",
      "I teach python.\n"
     ]
    }
   ],
   "source": [
    "a = \"\"\"This is NageswaraRao.\n",
    "I teach python.\"\"\"\n",
    "print(a)"
   ]
  },
  {
   "cell_type": "code",
   "execution_count": 10,
   "id": "8e1c3142",
   "metadata": {},
   "outputs": [
    {
     "name": "stdout",
     "output_type": "stream",
     "text": [
      "22+25\n"
     ]
    }
   ],
   "source": [
    "print('22+25')"
   ]
  },
  {
   "cell_type": "code",
   "execution_count": 11,
   "id": "2e84d11b",
   "metadata": {},
   "outputs": [
    {
     "name": "stdout",
     "output_type": "stream",
     "text": [
      "the marks of Tarun is 100\n",
      "the marks of Suneel is 99\n"
     ]
    }
   ],
   "source": [
    "names = [\"Tarun\", \"Suneel\"]\n",
    "marks = [100, 99]\n",
    "l = len(names)\n",
    "for x in range(l):\n",
    "    print(\"the marks of\", names[x], \"is\", marks[x])"
   ]
  },
  {
   "cell_type": "code",
   "execution_count": 14,
   "id": "102a28cd",
   "metadata": {},
   "outputs": [
    {
     "name": "stdout",
     "output_type": "stream",
     "text": [
      "the marks of Tarun is 100\n",
      "the marks of Suneel is 99\n"
     ]
    }
   ],
   "source": [
    "names = [\"Tarun\", \"Suneel\"]\n",
    "marks = [100, 99]\n",
    "l = len(names)\n",
    "for x in range(l):\n",
    "    print(f\"the marks of {names[x]} is {marks[x]}\")"
   ]
  },
  {
   "cell_type": "code",
   "execution_count": 15,
   "id": "a8a9b64b",
   "metadata": {},
   "outputs": [
    {
     "name": "stdout",
     "output_type": "stream",
     "text": [
      "['the marks of Tarun is 100', 'the marks of Suneel is 99']\n"
     ]
    }
   ],
   "source": [
    "names = [\"Tarun\", \"Suneel\"]\n",
    "marks = [100, 99]\n",
    "l = len(names)\n",
    "res = []\n",
    "for x in range(l):\n",
    "    res.append(f\"the marks of {names[x]} is {marks[x]}\")\n",
    "print(res)"
   ]
  },
  {
   "cell_type": "code",
   "execution_count": 17,
   "id": "8a5990c7",
   "metadata": {},
   "outputs": [
    {
     "name": "stdout",
     "output_type": "stream",
     "text": [
      "['the marks of Tarun is 100', 'the marks of Suneel is 99', 'the marks of yz is 70']\n"
     ]
    }
   ],
   "source": [
    "names = [\"Tarun\", \"Suneel\", 'xy', 'yz']\n",
    "marks = [100, 99, 55, 70]\n",
    "l = len(names)\n",
    "res = []\n",
    "for x in range(l):\n",
    "    if marks[x] >= 60:\n",
    "        res.append(f\"the marks of {names[x]} is {marks[x]}\")\n",
    "print(res)"
   ]
  },
  {
   "cell_type": "code",
   "execution_count": 16,
   "id": "eb7b822a",
   "metadata": {},
   "outputs": [
    {
     "name": "stdout",
     "output_type": "stream",
     "text": [
      "['the marks of Tarun is 100', 'the marks of Suneel is 99']\n"
     ]
    }
   ],
   "source": [
    "print([f\"the marks of {names[x]} is {marks[x]}\" for x in range(l)])"
   ]
  },
  {
   "cell_type": "code",
   "execution_count": 19,
   "id": "d0a1dbcc",
   "metadata": {},
   "outputs": [
    {
     "name": "stdout",
     "output_type": "stream",
     "text": [
      "['the marks of Tarun is 100', 'the marks of Suneel is 99', 'the marks of yz is 70']\n"
     ]
    }
   ],
   "source": [
    "print([f\"the marks of {names[x]} is {marks[x]}\" for x in range(l) if marks[x] >= 60])"
   ]
  },
  {
   "cell_type": "code",
   "execution_count": 13,
   "id": "430aed54",
   "metadata": {},
   "outputs": [
    {
     "name": "stdout",
     "output_type": "stream",
     "text": [
      "Tarun 100\n",
      "Suneel 99\n"
     ]
    }
   ],
   "source": [
    "names = [\"Tarun\", \"Suneel\"]\n",
    "marks = [100, 99]\n",
    "l = len(names)\n",
    "for x in range(l):\n",
    "    print(names[x], marks[x])"
   ]
  },
  {
   "cell_type": "code",
   "execution_count": 25,
   "id": "98b2461a",
   "metadata": {},
   "outputs": [
    {
     "name": "stdout",
     "output_type": "stream",
     "text": [
      "The marks of Tarun is 100\n",
      "The marks of Suneel is 99\n"
     ]
    }
   ],
   "source": [
    "names = [\"Tarun\", \"Suneel\"]\n",
    "marks = [100, 99]\n",
    "l = len(names)\n",
    "for x in range(l):\n",
    "    print(f\"The marks of {names[x]} is {marks[x]}\")"
   ]
  },
  {
   "cell_type": "code",
   "execution_count": 20,
   "id": "1dba04d1",
   "metadata": {},
   "outputs": [
    {
     "name": "stdout",
     "output_type": "stream",
     "text": [
      "p\n"
     ]
    }
   ],
   "source": [
    "s = \"python\"\n",
    "print(s[0])"
   ]
  },
  {
   "cell_type": "code",
   "execution_count": 2,
   "id": "4a252de2",
   "metadata": {},
   "outputs": [
    {
     "name": "stdout",
     "output_type": "stream",
     "text": [
      "['pp', 'yy', 'tt', 'hh', 'oo', 'nn']\n"
     ]
    }
   ],
   "source": [
    "print([x*2 for x in s])"
   ]
  },
  {
   "cell_type": "code",
   "execution_count": 3,
   "id": "1aed1d26",
   "metadata": {},
   "outputs": [
    {
     "name": "stdout",
     "output_type": "stream",
     "text": [
      "['2', '2']\n"
     ]
    }
   ],
   "source": [
    "print(['2']*2)"
   ]
  },
  {
   "cell_type": "code",
   "execution_count": 4,
   "id": "5d2fc3fc",
   "metadata": {},
   "outputs": [
    {
     "name": "stdout",
     "output_type": "stream",
     "text": [
      "python\n"
     ]
    }
   ],
   "source": [
    "print(s)"
   ]
  },
  {
   "cell_type": "code",
   "execution_count": 22,
   "id": "2668a4ab",
   "metadata": {},
   "outputs": [
    {
     "name": "stdout",
     "output_type": "stream",
     "text": [
      "python\n"
     ]
    }
   ],
   "source": [
    "print(s)"
   ]
  },
  {
   "cell_type": "code",
   "execution_count": 23,
   "id": "ae87df61",
   "metadata": {},
   "outputs": [
    {
     "name": "stdout",
     "output_type": "stream",
     "text": [
      "['pp', 'py', 'pt', 'ph', 'po', 'pn', 'yp', 'yy', 'yt', 'yh', 'yo', 'yn', 'tp', 'ty', 'tt', 'th', 'to', 'tn', 'hp', 'hy', 'ht', 'hh', 'ho', 'hn', 'op', 'oy', 'ot', 'oh', 'oo', 'on', 'np', 'ny', 'nt', 'nh', 'no', 'nn']\n"
     ]
    }
   ],
   "source": [
    "print([x+y for x in s for y in s])"
   ]
  },
  {
   "cell_type": "code",
   "execution_count": 21,
   "id": "31b6957e",
   "metadata": {},
   "outputs": [
    {
     "name": "stdout",
     "output_type": "stream",
     "text": [
      "pto\n"
     ]
    }
   ],
   "source": [
    "print(s[0::2])"
   ]
  },
  {
   "cell_type": "code",
   "execution_count": 6,
   "id": "9b0ae6fc",
   "metadata": {},
   "outputs": [
    {
     "name": "stdout",
     "output_type": "stream",
     "text": [
      "['pp', 'py', 'pt', 'ph', 'po', 'pn', 'yp', 'yy', 'yt', 'yh', 'yo', 'yn', 'tp', 'ty', 'tt', 'th', 'to', 'tn', 'hp', 'hy', 'ht', 'hh', 'ho', 'hn', 'op', 'oy', 'ot', 'oh', 'oo', 'on', 'np', 'ny', 'nt', 'nh', 'no', 'nn']\n"
     ]
    }
   ],
   "source": [
    "print([x+y for x in s for y in s])"
   ]
  },
  {
   "cell_type": "code",
   "execution_count": 7,
   "id": "6db83c0f",
   "metadata": {},
   "outputs": [
    {
     "name": "stdout",
     "output_type": "stream",
     "text": [
      "the price of the xyz is 200\n"
     ]
    }
   ],
   "source": [
    "price = 200\n",
    "# the price of the xyz is 200\n",
    "print(f\"the price of the xyz is {price}\")"
   ]
  },
  {
   "cell_type": "code",
   "execution_count": 8,
   "id": "5415fba3",
   "metadata": {},
   "outputs": [
    {
     "name": "stdout",
     "output_type": "stream",
     "text": [
      "the price of the tomato is 50\n",
      "the price of the onion is 20\n"
     ]
    }
   ],
   "source": [
    "veg_names = [\"tomato\", \"onion\"]\n",
    "veg_prices = [50, 20]\n",
    "l = len(veg_names)\n",
    "for x in range(l):\n",
    "    print(f\"the price of the {veg_names[x]} is {veg_prices[x]}\")  "
   ]
  },
  {
   "cell_type": "code",
   "execution_count": 24,
   "id": "68b84efe",
   "metadata": {},
   "outputs": [
    {
     "name": "stdout",
     "output_type": "stream",
     "text": [
      "['__add__', '__class__', '__contains__', '__delattr__', '__dir__', '__doc__', '__eq__', '__format__', '__ge__', '__getattribute__', '__getitem__', '__getnewargs__', '__gt__', '__hash__', '__init__', '__init_subclass__', '__iter__', '__le__', '__len__', '__lt__', '__mod__', '__mul__', '__ne__', '__new__', '__reduce__', '__reduce_ex__', '__repr__', '__rmod__', '__rmul__', '__setattr__', '__sizeof__', '__str__', '__subclasshook__', 'capitalize', 'casefold', 'center', 'count', 'encode', 'endswith', 'expandtabs', 'find', 'format', 'format_map', 'index', 'isalnum', 'isalpha', 'isascii', 'isdecimal', 'isdigit', 'isidentifier', 'islower', 'isnumeric', 'isprintable', 'isspace', 'istitle', 'isupper', 'join', 'ljust', 'lower', 'lstrip', 'maketrans', 'partition', 'removeprefix', 'removesuffix', 'replace', 'rfind', 'rindex', 'rjust', 'rpartition', 'rsplit', 'rstrip', 'split', 'splitlines', 'startswith', 'strip', 'swapcase', 'title', 'translate', 'upper', 'zfill']\n"
     ]
    }
   ],
   "source": [
    "print(dir(s))"
   ]
  },
  {
   "cell_type": "code",
   "execution_count": 10,
   "id": "8ff92b93",
   "metadata": {},
   "outputs": [],
   "source": [
    "s = \"a2b3c2ef3\" #aabbbccefefef\n",
    "s = \"a2b3c2ef3\" #aabbbccefff\n",
    "s = \"a2b3c2ef3\" #aabbbccfff\n",
    "s = \"aabbbcccee\" # a2b3c3e2"
   ]
  },
  {
   "cell_type": "code",
   "execution_count": 11,
   "id": "0bcf38d0",
   "metadata": {},
   "outputs": [],
   "source": [
    "s = \"asd232sfddsaf2343fdsf\" # I should get only alphabets ---> asdsfddsaffdsf"
   ]
  },
  {
   "cell_type": "code",
   "execution_count": 25,
   "id": "829f3216",
   "metadata": {},
   "outputs": [
    {
     "name": "stdout",
     "output_type": "stream",
     "text": [
      "this is python class. this class starts at 06:00 PM\n",
      "This is python class. this class starts at 06:00 pm\n"
     ]
    }
   ],
   "source": [
    "s = \"this is python class. this class starts at 06:00 PM\"\n",
    "s1 = s.capitalize()\n",
    "print(s)\n",
    "print(s1)"
   ]
  },
  {
   "cell_type": "code",
   "execution_count": 13,
   "id": "28fbfd61",
   "metadata": {},
   "outputs": [
    {
     "name": "stdout",
     "output_type": "stream",
     "text": [
      "Return a centered string of length width.\n",
      "\n",
      "Padding is done using the specified fill character (default is a space).\n"
     ]
    }
   ],
   "source": [
    "print(s.center.__doc__)"
   ]
  },
  {
   "cell_type": "code",
   "execution_count": 14,
   "id": "8d7e8d35",
   "metadata": {},
   "outputs": [
    {
     "name": "stdout",
     "output_type": "stream",
     "text": [
      "Help on built-in function center:\n",
      "\n",
      "center(width, fillchar=' ', /) method of builtins.str instance\n",
      "    Return a centered string of length width.\n",
      "    \n",
      "    Padding is done using the specified fill character (default is a space).\n",
      "\n",
      "None\n"
     ]
    }
   ],
   "source": [
    "print(help(s.center))"
   ]
  },
  {
   "cell_type": "code",
   "execution_count": 26,
   "id": "81272ffb",
   "metadata": {},
   "outputs": [
    {
     "name": "stdout",
     "output_type": "stream",
     "text": [
      "                        this is python class. this class starts at 06:00 PM                         \n"
     ]
    }
   ],
   "source": [
    "print(s.center(100))"
   ]
  },
  {
   "cell_type": "code",
   "execution_count": 27,
   "id": "ebf2088b",
   "metadata": {},
   "outputs": [
    {
     "name": "stdout",
     "output_type": "stream",
     "text": [
      "@@@@@@@@@@@@@@@@@@@@@@@@this is python class. this class starts at 06:00 PM@@@@@@@@@@@@@@@@@@@@@@@@@\n"
     ]
    }
   ],
   "source": [
    "print(s.center(100, '@'))"
   ]
  },
  {
   "cell_type": "code",
   "execution_count": 28,
   "id": "dc573a5c",
   "metadata": {},
   "outputs": [
    {
     "name": "stdout",
     "output_type": "stream",
     "text": [
      "this is python class. this class starts at 06:00 PM@@@@@@@@@@@@@@@@@@@@@@@@@@@@@@@@@@@@@@@@@@@@@@@@@\n"
     ]
    }
   ],
   "source": [
    "print(s.ljust(100, '@'))"
   ]
  },
  {
   "cell_type": "code",
   "execution_count": 29,
   "id": "3e9faa32",
   "metadata": {},
   "outputs": [
    {
     "name": "stdout",
     "output_type": "stream",
     "text": [
      "@@@@@@@@@@@@@@@@@@@@@@@@@@@@@@@@@@@@@@@@@@@@@@@@@this is python class. this class starts at 06:00 PM\n"
     ]
    }
   ],
   "source": [
    "print(s.rjust(100, '@'))"
   ]
  },
  {
   "cell_type": "code",
   "execution_count": 30,
   "id": "2397fced",
   "metadata": {},
   "outputs": [
    {
     "name": "stdout",
     "output_type": "stream",
     "text": [
      "                        this is python class. this class starts at 06:00 PM                         \n"
     ]
    }
   ],
   "source": [
    "s1 = s.center(100)\n",
    "print(s1)"
   ]
  },
  {
   "cell_type": "code",
   "execution_count": 31,
   "id": "ec18e578",
   "metadata": {},
   "outputs": [
    {
     "name": "stdout",
     "output_type": "stream",
     "text": [
      "this is python class. this class starts at 06:00 PM\n"
     ]
    }
   ],
   "source": [
    "print(s1.strip())"
   ]
  },
  {
   "cell_type": "code",
   "execution_count": 32,
   "id": "0975f5bd",
   "metadata": {},
   "outputs": [
    {
     "name": "stdout",
     "output_type": "stream",
     "text": [
      "@@@@@@@@@@@@@@@@@@@@@@@@this is python class. this class starts at 06:00 PM@@@@@@@@@@@@@@@@@@@@@@@@@\n"
     ]
    }
   ],
   "source": [
    "s1 = s.center(100, \"@\")\n",
    "print(s1)"
   ]
  },
  {
   "cell_type": "code",
   "execution_count": 33,
   "id": "2f5b0ac8",
   "metadata": {},
   "outputs": [
    {
     "name": "stdout",
     "output_type": "stream",
     "text": [
      "this is python class. this class starts at 06:00 PM\n"
     ]
    }
   ],
   "source": [
    "print(s1.strip('@'))"
   ]
  },
  {
   "cell_type": "code",
   "execution_count": 34,
   "id": "67ebc633",
   "metadata": {},
   "outputs": [
    {
     "name": "stdout",
     "output_type": "stream",
     "text": [
      "@@@@@@@@@@@@@@@@@@@@@@@@this is python class. this class starts at 06:00 PM\n"
     ]
    }
   ],
   "source": [
    "print(s1.rstrip('@'))"
   ]
  },
  {
   "cell_type": "code",
   "execution_count": 35,
   "id": "f9c4ad0a",
   "metadata": {},
   "outputs": [
    {
     "name": "stdout",
     "output_type": "stream",
     "text": [
      "this is python class. this class starts at 06:00 PM@@@@@@@@@@@@@@@@@@@@@@@@@\n"
     ]
    }
   ],
   "source": [
    "print(s1.lstrip('@'))"
   ]
  },
  {
   "cell_type": "code",
   "execution_count": 36,
   "id": "071c2b4a",
   "metadata": {},
   "outputs": [
    {
     "name": "stdout",
     "output_type": "stream",
     "text": [
      "['__add__', '__class__', '__contains__', '__delattr__', '__dir__', '__doc__', '__eq__', '__format__', '__ge__', '__getattribute__', '__getitem__', '__getnewargs__', '__gt__', '__hash__', '__init__', '__init_subclass__', '__iter__', '__le__', '__len__', '__lt__', '__mod__', '__mul__', '__ne__', '__new__', '__reduce__', '__reduce_ex__', '__repr__', '__rmod__', '__rmul__', '__setattr__', '__sizeof__', '__str__', '__subclasshook__', 'capitalize', 'casefold', 'center', 'count', 'encode', 'endswith', 'expandtabs', 'find', 'format', 'format_map', 'index', 'isalnum', 'isalpha', 'isascii', 'isdecimal', 'isdigit', 'isidentifier', 'islower', 'isnumeric', 'isprintable', 'isspace', 'istitle', 'isupper', 'join', 'ljust', 'lower', 'lstrip', 'maketrans', 'partition', 'removeprefix', 'removesuffix', 'replace', 'rfind', 'rindex', 'rjust', 'rpartition', 'rsplit', 'rstrip', 'split', 'splitlines', 'startswith', 'strip', 'swapcase', 'title', 'translate', 'upper', 'zfill']\n"
     ]
    }
   ],
   "source": [
    "s = \"python\"\n",
    "print(dir(s))"
   ]
  },
  {
   "cell_type": "code",
   "execution_count": 38,
   "id": "b99b0e2c",
   "metadata": {},
   "outputs": [
    {
     "name": "stdout",
     "output_type": "stream",
     "text": [
      "S.endswith(suffix[, start[, end]]) -> bool\n",
      "\n",
      "Return True if S ends with the specified suffix, False otherwise.\n",
      "With optional start, test S beginning at that position.\n",
      "With optional end, stop comparing S at that position.\n",
      "suffix can also be a tuple of strings to try.\n"
     ]
    }
   ],
   "source": [
    "l = [\"a.txt\", \"b.csv\", \"c.txt\", \"d.txt\", \"a.xlsx\"]\n",
    "print(s.endswith.__doc__)"
   ]
  },
  {
   "cell_type": "code",
   "execution_count": 39,
   "id": "a83251fc",
   "metadata": {},
   "outputs": [
    {
     "name": "stdout",
     "output_type": "stream",
     "text": [
      "a.txt\n",
      "c.txt\n",
      "d.txt\n"
     ]
    }
   ],
   "source": [
    "for x in l:\n",
    "    if x.endswith(\".txt\"):\n",
    "        print(x)"
   ]
  },
  {
   "cell_type": "code",
   "execution_count": 41,
   "id": "58426410",
   "metadata": {},
   "outputs": [
    {
     "name": "stdout",
     "output_type": "stream",
     "text": [
      "['a.txt', 'b.csv', 'c.txt', 'd.txt']\n"
     ]
    }
   ],
   "source": [
    "l1 = []\n",
    "for x in l:\n",
    "    if x.endswith(\".txt\") or x.endswith(\".csv\"):\n",
    "        l1.append(x)\n",
    "print(l1)"
   ]
  },
  {
   "cell_type": "code",
   "execution_count": 42,
   "id": "c0c51b1e",
   "metadata": {},
   "outputs": [
    {
     "name": "stdout",
     "output_type": "stream",
     "text": [
      "['a.txt', 'b.csv', 'c.txt', 'd.txt']\n"
     ]
    }
   ],
   "source": [
    "print([x for x in l if x.endswith(\".txt\") or x.endswith(\".csv\")])"
   ]
  },
  {
   "cell_type": "code",
   "execution_count": 3,
   "id": "6d012cc7",
   "metadata": {},
   "outputs": [
    {
     "name": "stdout",
     "output_type": "stream",
     "text": [
      "a.txt\n",
      "c.txt\n",
      "d.txt\n"
     ]
    }
   ],
   "source": [
    "for name in l:\n",
    "    if name.endswith(\".txt\"):\n",
    "        print(name)"
   ]
  },
  {
   "cell_type": "code",
   "execution_count": 4,
   "id": "3429b1e5",
   "metadata": {},
   "outputs": [
    {
     "name": "stdout",
     "output_type": "stream",
     "text": [
      "['a.txt', 'c.txt', 'd.txt']\n"
     ]
    }
   ],
   "source": [
    "l1 = []\n",
    "for name in l:\n",
    "    if name.endswith(\".txt\"):\n",
    "        l1.append(name)\n",
    "print(l1)"
   ]
  },
  {
   "cell_type": "code",
   "execution_count": 5,
   "id": "17a9a6e5",
   "metadata": {},
   "outputs": [
    {
     "name": "stdout",
     "output_type": "stream",
     "text": [
      "['a.txt', 'c.txt', 'd.txt']\n"
     ]
    }
   ],
   "source": [
    "print([name for name in l if name.endswith(\".txt\")])"
   ]
  },
  {
   "cell_type": "code",
   "execution_count": null,
   "id": "51664593",
   "metadata": {},
   "outputs": [],
   "source": [
    "# 10_200_3_40"
   ]
  },
  {
   "cell_type": "code",
   "execution_count": 43,
   "id": "76acf571",
   "metadata": {},
   "outputs": [
    {
     "name": "stdout",
     "output_type": "stream",
     "text": [
      "True\n"
     ]
    }
   ],
   "source": [
    "s = \"this is python class\"\n",
    "print(s.endswith(\"thon\", 0, -6))"
   ]
  },
  {
   "cell_type": "code",
   "execution_count": 44,
   "id": "469ca74c",
   "metadata": {},
   "outputs": [
    {
     "name": "stdout",
     "output_type": "stream",
     "text": [
      "['this', 'is', 'python', 'class']\n"
     ]
    }
   ],
   "source": [
    "print(s.split())"
   ]
  },
  {
   "cell_type": "code",
   "execution_count": 52,
   "id": "c8d118f1",
   "metadata": {},
   "outputs": [
    {
     "name": "stdout",
     "output_type": "stream",
     "text": [
      "['this', 'is', 'python', 'class']\n"
     ]
    }
   ],
   "source": [
    "s1 = s.split()\n",
    "print(s1)"
   ]
  },
  {
   "cell_type": "code",
   "execution_count": 53,
   "id": "ae346df1",
   "metadata": {},
   "outputs": [
    {
     "name": "stdout",
     "output_type": "stream",
     "text": [
      "['this', 'is', 'python', 'class']\n",
      "this\n",
      "['t', 'h', 'i', 's']\n"
     ]
    }
   ],
   "source": [
    "print(s1)\n",
    "print(s1[0])\n",
    "print(list(s1[0]))"
   ]
  },
  {
   "cell_type": "code",
   "execution_count": 54,
   "id": "d996aac1",
   "metadata": {},
   "outputs": [
    {
     "name": "stdout",
     "output_type": "stream",
     "text": [
      "['t', 'h', 'i', 's']\n"
     ]
    }
   ],
   "source": [
    "print(list(s.split()[0]))"
   ]
  },
  {
   "cell_type": "code",
   "execution_count": 46,
   "id": "304e8387",
   "metadata": {},
   "outputs": [
    {
     "name": "stdout",
     "output_type": "stream",
     "text": [
      "['th', 's ', 's python class']\n"
     ]
    }
   ],
   "source": [
    "print(s.split(\"i\"))"
   ]
  },
  {
   "cell_type": "code",
   "execution_count": 12,
   "id": "adab7e64",
   "metadata": {},
   "outputs": [
    {
     "name": "stdout",
     "output_type": "stream",
     "text": [
      "this is python class\n"
     ]
    }
   ],
   "source": [
    "print(s)"
   ]
  },
  {
   "cell_type": "code",
   "execution_count": 13,
   "id": "9293537f",
   "metadata": {},
   "outputs": [
    {
     "name": "stdout",
     "output_type": "stream",
     "text": [
      "['this', 'is', 'python class']\n"
     ]
    }
   ],
   "source": [
    "print(s.split(\" \", 2))"
   ]
  },
  {
   "cell_type": "code",
   "execution_count": 51,
   "id": "49e0b04a",
   "metadata": {},
   "outputs": [
    {
     "name": "stdout",
     "output_type": "stream",
     "text": [
      "['t', 'h', 'i', 's']\n"
     ]
    }
   ],
   "source": [
    "print(list(\"this\"))"
   ]
  },
  {
   "cell_type": "code",
   "execution_count": 48,
   "id": "8841f2a7",
   "metadata": {},
   "outputs": [
    {
     "name": "stdout",
     "output_type": "stream",
     "text": [
      "['this is', 'python', 'class']\n"
     ]
    }
   ],
   "source": [
    "print(s.rsplit(\" \", 2))"
   ]
  },
  {
   "cell_type": "code",
   "execution_count": 49,
   "id": "6f36f5de",
   "metadata": {},
   "outputs": [
    {
     "name": "stdout",
     "output_type": "stream",
     "text": [
      "['this', 'is', 'python', 'class']\n"
     ]
    }
   ],
   "source": [
    "print(s.rsplit(\" \"))"
   ]
  },
  {
   "cell_type": "code",
   "execution_count": 50,
   "id": "c8c3d562",
   "metadata": {},
   "outputs": [
    {
     "name": "stdout",
     "output_type": "stream",
     "text": [
      "['this', 'is', 'python', 'class']\n"
     ]
    }
   ],
   "source": [
    "print(s1)"
   ]
  },
  {
   "cell_type": "code",
   "execution_count": 17,
   "id": "8e9de7e8",
   "metadata": {},
   "outputs": [
    {
     "name": "stdout",
     "output_type": "stream",
     "text": [
      "this is python class\n"
     ]
    }
   ],
   "source": [
    "print(s)"
   ]
  },
  {
   "cell_type": "code",
   "execution_count": 18,
   "id": "59124740",
   "metadata": {},
   "outputs": [
    {
     "name": "stdout",
     "output_type": "stream",
     "text": [
      "this@is@python@class\n"
     ]
    }
   ],
   "source": [
    "print(\"@\".join(s1))"
   ]
  },
  {
   "cell_type": "code",
   "execution_count": 1,
   "id": "f29b26ca",
   "metadata": {},
   "outputs": [],
   "source": [
    "s = \"11@12@13@15\"\n",
    "veg = \"tomato,50,onion,20,potato,50\""
   ]
  },
  {
   "cell_type": "code",
   "execution_count": 2,
   "id": "e051b601",
   "metadata": {},
   "outputs": [
    {
     "name": "stdout",
     "output_type": "stream",
     "text": [
      "aaabbcccff"
     ]
    }
   ],
   "source": [
    "a = \"a3b2c3f2\"\n",
    "var = a[0]\n",
    "for x in a[1:]:\n",
    "    if x.isdigit():\n",
    "        print(var*(int(x)), end=\"\")\n",
    "    else:\n",
    "        var = x"
   ]
  },
  {
   "cell_type": "code",
   "execution_count": 3,
   "id": "7cf54aae",
   "metadata": {},
   "outputs": [
    {
     "name": "stdout",
     "output_type": "stream",
     "text": [
      "aaabbcccff\n"
     ]
    }
   ],
   "source": [
    "a = \"a3b2c3f2\"\n",
    "var = a[0]\n",
    "res = \"\"\n",
    "for x in a[1:]:\n",
    "    if x.isdigit():\n",
    "        res += var*(int(x))\n",
    "    else:\n",
    "        var = x\n",
    "print(res)"
   ]
  },
  {
   "cell_type": "code",
   "execution_count": 4,
   "id": "b7d52cd8",
   "metadata": {},
   "outputs": [
    {
     "name": "stdout",
     "output_type": "stream",
     "text": [
      "aaabbcccefef\n"
     ]
    }
   ],
   "source": [
    "a = \"a3b2c3ef2\"\n",
    "var = a[0]\n",
    "res = \"\"\n",
    "for x in a[1:]:\n",
    "    if x.isdigit():\n",
    "        res += var*(int(x))\n",
    "        var = \"\"\n",
    "    else:\n",
    "        var += x\n",
    "print(res)"
   ]
  },
  {
   "cell_type": "code",
   "execution_count": 6,
   "id": "6a5e3c42",
   "metadata": {},
   "outputs": [
    {
     "name": "stdout",
     "output_type": "stream",
     "text": [
      "aaabbccceff\n"
     ]
    }
   ],
   "source": [
    "a = \"a3b2c3ef2\"\n",
    "var = \"\"\n",
    "res = \"\"\n",
    "for x in a:\n",
    "    if x.isdigit():\n",
    "        res += var*(int(x))\n",
    "        var = \"\"\n",
    "    elif len(var) >= 1:\n",
    "        res += var\n",
    "        var = x\n",
    "    else:\n",
    "        var = x\n",
    "print(res)"
   ]
  },
  {
   "cell_type": "code",
   "execution_count": 7,
   "id": "f16977b4",
   "metadata": {},
   "outputs": [
    {
     "name": "stdout",
     "output_type": "stream",
     "text": [
      "['tomato', '50', 'onion', '20', 'potato', '50']\n"
     ]
    }
   ],
   "source": [
    "\n",
    "veg = veg.split(\",\")\n",
    "print(veg)"
   ]
  },
  {
   "cell_type": "code",
   "execution_count": 11,
   "id": "40d6da86",
   "metadata": {},
   "outputs": [
    {
     "name": "stdout",
     "output_type": "stream",
     "text": [
      "40\n"
     ]
    }
   ],
   "source": [
    "veg = \"tomato,50,onion,20,potato,50\"\n",
    "veg_prices = sum([int(x) for x in veg.split(\",\")[1::2]])//(len(veg.split(\",\"))//2)\n",
    "print(veg_prices)"
   ]
  },
  {
   "cell_type": "code",
   "execution_count": null,
   "id": "1db4c6a8",
   "metadata": {},
   "outputs": [],
   "source": []
  }
 ],
 "metadata": {
  "kernelspec": {
   "display_name": "Python 3 (ipykernel)",
   "language": "python",
   "name": "python3"
  },
  "language_info": {
   "codemirror_mode": {
    "name": "ipython",
    "version": 3
   },
   "file_extension": ".py",
   "mimetype": "text/x-python",
   "name": "python",
   "nbconvert_exporter": "python",
   "pygments_lexer": "ipython3",
   "version": "3.10.8"
  }
 },
 "nbformat": 4,
 "nbformat_minor": 5
}
