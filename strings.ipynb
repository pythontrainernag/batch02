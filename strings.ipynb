{
 "cells": [
  {
   "cell_type": "raw",
   "id": "001db26b",
   "metadata": {},
   "source": [
    "we will define the strings either in single quotes or double quotes. A string is a ordered group of ASCII characters"
   ]
  },
  {
   "cell_type": "code",
   "execution_count": 1,
   "id": "104e7442",
   "metadata": {},
   "outputs": [
    {
     "name": "stdout",
     "output_type": "stream",
     "text": [
      "<class 'str'>\n"
     ]
    }
   ],
   "source": [
    "a = '123'\n",
    "print(type(a))"
   ]
  },
  {
   "cell_type": "code",
   "execution_count": 2,
   "id": "5da6ca5f",
   "metadata": {},
   "outputs": [
    {
     "name": "stdout",
     "output_type": "stream",
     "text": [
      "246\n"
     ]
    }
   ],
   "source": [
    "print(123+123)"
   ]
  },
  {
   "cell_type": "code",
   "execution_count": 3,
   "id": "b426c03a",
   "metadata": {},
   "outputs": [
    {
     "name": "stdout",
     "output_type": "stream",
     "text": [
      "123123\n"
     ]
    }
   ],
   "source": [
    "print('123'+'123')"
   ]
  },
  {
   "cell_type": "code",
   "execution_count": 4,
   "id": "9aef5426",
   "metadata": {},
   "outputs": [
    {
     "data": {
      "text/plain": [
       "'day'"
      ]
     },
     "execution_count": 4,
     "metadata": {},
     "output_type": "execute_result"
    }
   ],
   "source": [
    "'day'"
   ]
  },
  {
   "cell_type": "code",
   "execution_count": 5,
   "id": "80aec2f3",
   "metadata": {},
   "outputs": [
    {
     "data": {
      "text/plain": [
       "'day'"
      ]
     },
     "execution_count": 5,
     "metadata": {},
     "output_type": "execute_result"
    }
   ],
   "source": [
    "\"day\""
   ]
  },
  {
   "cell_type": "code",
   "execution_count": 6,
   "id": "850b40c7",
   "metadata": {},
   "outputs": [
    {
     "ename": "SyntaxError",
     "evalue": "unterminated string literal (detected at line 1) (1476233223.py, line 1)",
     "output_type": "error",
     "traceback": [
      "\u001b[1;36m  Input \u001b[1;32mIn [6]\u001b[1;36m\u001b[0m\n\u001b[1;33m    a = 'my father's name is xyz'\u001b[0m\n\u001b[1;37m                                ^\u001b[0m\n\u001b[1;31mSyntaxError\u001b[0m\u001b[1;31m:\u001b[0m unterminated string literal (detected at line 1)\n"
     ]
    }
   ],
   "source": [
    "a = 'my father's name is xyz'"
   ]
  },
  {
   "cell_type": "code",
   "execution_count": 7,
   "id": "bf93dac8",
   "metadata": {},
   "outputs": [
    {
     "name": "stdout",
     "output_type": "stream",
     "text": [
      "my fathers name is xyz\n"
     ]
    }
   ],
   "source": [
    "a = 'my father''s name is xyz'\n",
    "print(a)"
   ]
  },
  {
   "cell_type": "code",
   "execution_count": 8,
   "id": "7ebfaf73",
   "metadata": {},
   "outputs": [
    {
     "name": "stdout",
     "output_type": "stream",
     "text": [
      "my father's name is xyz\n"
     ]
    }
   ],
   "source": [
    "a = \"my father's name is xyz\"\n",
    "print(a)"
   ]
  },
  {
   "cell_type": "code",
   "execution_count": 9,
   "id": "bb2a7c48",
   "metadata": {},
   "outputs": [
    {
     "name": "stdout",
     "output_type": "stream",
     "text": [
      "my father's name is xyz\n"
     ]
    }
   ],
   "source": [
    "a = 'my father\\'s name is xyz'\n",
    "print(a)"
   ]
  },
  {
   "cell_type": "code",
   "execution_count": 10,
   "id": "2b88b45a",
   "metadata": {},
   "outputs": [
    {
     "name": "stdout",
     "output_type": "stream",
     "text": [
      "my father's name \n",
      "is xyz\n"
     ]
    }
   ],
   "source": [
    "a = 'my father\\'s name \\nis xyz'\n",
    "print(a)"
   ]
  },
  {
   "cell_type": "code",
   "execution_count": 12,
   "id": "c21f6fb8",
   "metadata": {},
   "outputs": [
    {
     "name": "stdout",
     "output_type": "stream",
     "text": [
      "my father's name \"\n",
      "\"is xyz\n"
     ]
    }
   ],
   "source": [
    "a = 'my father\\'s name \"\\n\"is xyz'\n",
    "print(a)"
   ]
  },
  {
   "cell_type": "code",
   "execution_count": 13,
   "id": "9e130753",
   "metadata": {},
   "outputs": [
    {
     "name": "stdout",
     "output_type": "stream",
     "text": [
      "my father's name \\nis xyz\n"
     ]
    }
   ],
   "source": [
    "a = 'my father\\'s name \\\\nis xyz'\n",
    "print(a)"
   ]
  },
  {
   "cell_type": "code",
   "execution_count": 14,
   "id": "4e0355f7",
   "metadata": {},
   "outputs": [
    {
     "name": "stdout",
     "output_type": "stream",
     "text": [
      "This is NageswaraRao.\n"
     ]
    }
   ],
   "source": [
    "a = \"This is NageswaraRao.\"\n",
    "\"I teach python.\"\n",
    "print(a)"
   ]
  },
  {
   "cell_type": "code",
   "execution_count": 15,
   "id": "3daebbd7",
   "metadata": {},
   "outputs": [
    {
     "name": "stdout",
     "output_type": "stream",
     "text": [
      "This is NageswaraRao. I teach python.\n"
     ]
    }
   ],
   "source": [
    "a = \"This is NageswaraRao. \\\n",
    "I teach python.\"\n",
    "print(a)"
   ]
  },
  {
   "cell_type": "code",
   "execution_count": 18,
   "id": "7f054cbb",
   "metadata": {},
   "outputs": [
    {
     "ename": "SyntaxError",
     "evalue": "invalid syntax. Perhaps you forgot a comma? (2533972601.py, line 1)",
     "output_type": "error",
     "traceback": [
      "\u001b[1;36m  Input \u001b[1;32mIn [18]\u001b[1;36m\u001b[0m\n\u001b[1;33m    b = (10, 20\u001b[0m\n\u001b[1;37m             ^\u001b[0m\n\u001b[1;31mSyntaxError\u001b[0m\u001b[1;31m:\u001b[0m invalid syntax. Perhaps you forgot a comma?\n"
     ]
    }
   ],
   "source": [
    "b = (10, 20 \n",
    "30, 40)\n",
    "print(b)"
   ]
  },
  {
   "cell_type": "code",
   "execution_count": 19,
   "id": "1193c09a",
   "metadata": {},
   "outputs": [
    {
     "name": "stdout",
     "output_type": "stream",
     "text": [
      "(10, 20, 30, 40)\n"
     ]
    }
   ],
   "source": [
    "b = (10, 20 \n",
    ",30, 40)\n",
    "print(b)"
   ]
  },
  {
   "cell_type": "code",
   "execution_count": 20,
   "id": "8cf3c013",
   "metadata": {},
   "outputs": [
    {
     "ename": "SyntaxError",
     "evalue": "unterminated string literal (detected at line 1) (4003197875.py, line 1)",
     "output_type": "error",
     "traceback": [
      "\u001b[1;36m  Input \u001b[1;32mIn [20]\u001b[1;36m\u001b[0m\n\u001b[1;33m    a = \"This is NageswaraRao. \\ \\n\u001b[0m\n\u001b[1;37m        ^\u001b[0m\n\u001b[1;31mSyntaxError\u001b[0m\u001b[1;31m:\u001b[0m unterminated string literal (detected at line 1)\n"
     ]
    }
   ],
   "source": [
    "a = \"This is NageswaraRao. \\ \\n\n",
    "I teach python.\"\n",
    "print(a)"
   ]
  },
  {
   "cell_type": "code",
   "execution_count": 21,
   "id": "6e7cdeba",
   "metadata": {},
   "outputs": [
    {
     "name": "stdout",
     "output_type": "stream",
     "text": [
      "This is NageswaraRao. \n",
      "I teach python.\n"
     ]
    }
   ],
   "source": [
    "a = \"This is NageswaraRao. \\n\\\n",
    "I teach python.\"\n",
    "print(a)"
   ]
  },
  {
   "cell_type": "code",
   "execution_count": 22,
   "id": "6f3224be",
   "metadata": {},
   "outputs": [
    {
     "name": "stdout",
     "output_type": "stream",
     "text": [
      "This is NageswaraRao.\n",
      "I teach python.\n"
     ]
    }
   ],
   "source": [
    "a = \"\"\"This is NageswaraRao.\n",
    "I teach python.\"\"\"\n",
    "print(a)"
   ]
  },
  {
   "cell_type": "code",
   "execution_count": 23,
   "id": "8e1c3142",
   "metadata": {},
   "outputs": [
    {
     "name": "stdout",
     "output_type": "stream",
     "text": [
      "22+25\n"
     ]
    }
   ],
   "source": [
    "print('22+25')"
   ]
  },
  {
   "cell_type": "code",
   "execution_count": 24,
   "id": "430aed54",
   "metadata": {},
   "outputs": [
    {
     "name": "stdout",
     "output_type": "stream",
     "text": [
      "Tarun 100\n",
      "Suneel 99\n"
     ]
    }
   ],
   "source": [
    "names = [\"Tarun\", \"Suneel\"]\n",
    "marks = [100, 99]\n",
    "l = len(names)\n",
    "for x in range(l):\n",
    "    print(names[x], marks[x])"
   ]
  },
  {
   "cell_type": "code",
   "execution_count": 25,
   "id": "98b2461a",
   "metadata": {},
   "outputs": [
    {
     "name": "stdout",
     "output_type": "stream",
     "text": [
      "The marks of Tarun is 100\n",
      "The marks of Suneel is 99\n"
     ]
    }
   ],
   "source": [
    "names = [\"Tarun\", \"Suneel\"]\n",
    "marks = [100, 99]\n",
    "l = len(names)\n",
    "for x in range(l):\n",
    "    print(f\"The marks of {names[x]} is {marks[x]}\")"
   ]
  },
  {
   "cell_type": "code",
   "execution_count": null,
   "id": "1dba04d1",
   "metadata": {},
   "outputs": [],
   "source": []
  }
 ],
 "metadata": {
  "kernelspec": {
   "display_name": "Python 3 (ipykernel)",
   "language": "python",
   "name": "python3"
  },
  "language_info": {
   "codemirror_mode": {
    "name": "ipython",
    "version": 3
   },
   "file_extension": ".py",
   "mimetype": "text/x-python",
   "name": "python",
   "nbconvert_exporter": "python",
   "pygments_lexer": "ipython3",
   "version": "3.10.5"
  }
 },
 "nbformat": 4,
 "nbformat_minor": 5
}
